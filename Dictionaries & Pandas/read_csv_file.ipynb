{
 "cells": [
  {
   "cell_type": "code",
   "execution_count": 1,
   "id": "231b481a-64be-4605-a424-aa07c2b0bb2d",
   "metadata": {},
   "outputs": [],
   "source": [
    "import pandas as pd\n"
   ]
  },
  {
   "cell_type": "code",
   "execution_count": 6,
   "id": "96208fb8-8bf9-4c23-aa41-a55cb74cd24f",
   "metadata": {},
   "outputs": [
    {
     "data": {
      "text/html": [
       "<div>\n",
       "<style scoped>\n",
       "    .dataframe tbody tr th:only-of-type {\n",
       "        vertical-align: middle;\n",
       "    }\n",
       "\n",
       "    .dataframe tbody tr th {\n",
       "        vertical-align: top;\n",
       "    }\n",
       "\n",
       "    .dataframe thead th {\n",
       "        text-align: right;\n",
       "    }\n",
       "</style>\n",
       "<table border=\"1\" class=\"dataframe\">\n",
       "  <thead>\n",
       "    <tr style=\"text-align: right;\">\n",
       "      <th></th>\n",
       "      <th>countries</th>\n",
       "      <th>capitals</th>\n",
       "      <th>population</th>\n",
       "    </tr>\n",
       "  </thead>\n",
       "  <tbody>\n",
       "    <tr>\n",
       "      <th>KEN</th>\n",
       "      <td>kenya</td>\n",
       "      <td>nairobi</td>\n",
       "      <td>53.7700</td>\n",
       "    </tr>\n",
       "    <tr>\n",
       "      <th>UG</th>\n",
       "      <td>uganda</td>\n",
       "      <td>kampala</td>\n",
       "      <td>45.7400</td>\n",
       "    </tr>\n",
       "    <tr>\n",
       "      <th>BUR</th>\n",
       "      <td>burundi</td>\n",
       "      <td>bujumbura</td>\n",
       "      <td>11.8900</td>\n",
       "    </tr>\n",
       "    <tr>\n",
       "      <th>RWA</th>\n",
       "      <td>rwanda</td>\n",
       "      <td>kigali</td>\n",
       "      <td>12.9500</td>\n",
       "    </tr>\n",
       "    <tr>\n",
       "      <th>TZ</th>\n",
       "      <td>tanzania</td>\n",
       "      <td>dodoma</td>\n",
       "      <td>59.7300</td>\n",
       "    </tr>\n",
       "    <tr>\n",
       "      <th>SOM</th>\n",
       "      <td>somalia</td>\n",
       "      <td>mogadishu</td>\n",
       "      <td>15.8900</td>\n",
       "    </tr>\n",
       "    <tr>\n",
       "      <th>ET</th>\n",
       "      <td>ethiopia</td>\n",
       "      <td>addis ababa</td>\n",
       "      <td>115.0000</td>\n",
       "    </tr>\n",
       "    <tr>\n",
       "      <th>DJ</th>\n",
       "      <td>djibouti</td>\n",
       "      <td>djibouti</td>\n",
       "      <td>0.9882</td>\n",
       "    </tr>\n",
       "    <tr>\n",
       "      <th>ER</th>\n",
       "      <td>eritrea</td>\n",
       "      <td>asmara</td>\n",
       "      <td>6.0810</td>\n",
       "    </tr>\n",
       "    <tr>\n",
       "      <th>SS</th>\n",
       "      <td>south sudan</td>\n",
       "      <td>juba</td>\n",
       "      <td>11.1900</td>\n",
       "    </tr>\n",
       "  </tbody>\n",
       "</table>\n",
       "</div>"
      ],
      "text/plain": [
       "       countries     capitals  population\n",
       "KEN        kenya      nairobi     53.7700\n",
       "UG        uganda      kampala     45.7400\n",
       "BUR      burundi    bujumbura     11.8900\n",
       "RWA       rwanda       kigali     12.9500\n",
       "TZ      tanzania       dodoma     59.7300\n",
       "SOM      somalia    mogadishu     15.8900\n",
       "ET      ethiopia  addis ababa    115.0000\n",
       "DJ      djibouti     djibouti      0.9882\n",
       "ER       eritrea       asmara      6.0810\n",
       "SS   south sudan         juba     11.1900"
      ]
     },
     "execution_count": 6,
     "metadata": {},
     "output_type": "execute_result"
    }
   ],
   "source": [
    "pd.read_csv('eastern africa.csv', index_col = 0)"
   ]
  },
  {
   "cell_type": "code",
   "execution_count": null,
   "id": "8b7b3e38-b895-4fa9-8dbc-f411c4c66b01",
   "metadata": {},
   "outputs": [],
   "source": []
  }
 ],
 "metadata": {
  "kernelspec": {
   "display_name": "Python 3 (ipykernel)",
   "language": "python",
   "name": "python3"
  },
  "language_info": {
   "codemirror_mode": {
    "name": "ipython",
    "version": 3
   },
   "file_extension": ".py",
   "mimetype": "text/x-python",
   "name": "python",
   "nbconvert_exporter": "python",
   "pygments_lexer": "ipython3",
   "version": "3.9.7"
  }
 },
 "nbformat": 4,
 "nbformat_minor": 5
}
