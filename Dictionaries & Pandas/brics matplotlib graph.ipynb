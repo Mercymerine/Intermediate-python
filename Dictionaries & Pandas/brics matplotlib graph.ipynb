{
 "cells": [
  {
   "cell_type": "code",
   "execution_count": 4,
   "id": "b39c2113-88c2-42cc-ad86-1d32e5feb393",
   "metadata": {},
   "outputs": [],
   "source": [
    "import pandas as pd\n",
    "import matplotlib.pyplot as plt"
   ]
  },
  {
   "cell_type": "code",
   "execution_count": 7,
   "id": "bd02e7d4-e08f-474e-9070-b8a3bd889a87",
   "metadata": {},
   "outputs": [
    {
     "name": "stdout",
     "output_type": "stream",
     "text": [
      "         country    capital    area population\n",
      "BR        Brazil   Brasilia   8.516     200.4B\n",
      "RU        Russia     Moscow  17.100     143.5B\n",
      "IN         India  New Delhi   3.286    1252.0B\n",
      "CH         China    Beijing   9.597    1357.0B\n",
      "SA  South Africa   Pretoria   1.221      52.9B\n"
     ]
    }
   ],
   "source": [
    "brics_values = pd.read_csv(\"brics information.csv\", index_col = 0)\n",
    "print(brics_values)"
   ]
  },
  {
   "cell_type": "code",
   "execution_count": 8,
   "id": "19203ed1-b89a-4f3e-9ad3-83aaa8955811",
   "metadata": {},
   "outputs": [
    {
     "data": {
      "text/html": [
       "<div>\n",
       "<style scoped>\n",
       "    .dataframe tbody tr th:only-of-type {\n",
       "        vertical-align: middle;\n",
       "    }\n",
       "\n",
       "    .dataframe tbody tr th {\n",
       "        vertical-align: top;\n",
       "    }\n",
       "\n",
       "    .dataframe thead th {\n",
       "        text-align: right;\n",
       "    }\n",
       "</style>\n",
       "<table border=\"1\" class=\"dataframe\">\n",
       "  <thead>\n",
       "    <tr style=\"text-align: right;\">\n",
       "      <th></th>\n",
       "      <th>country</th>\n",
       "      <th>capital</th>\n",
       "      <th>area</th>\n",
       "      <th>population</th>\n",
       "    </tr>\n",
       "  </thead>\n",
       "  <tbody>\n",
       "    <tr>\n",
       "      <th>BR</th>\n",
       "      <td>Brazil</td>\n",
       "      <td>Brasilia</td>\n",
       "      <td>8.516</td>\n",
       "      <td>200.4B</td>\n",
       "    </tr>\n",
       "    <tr>\n",
       "      <th>RU</th>\n",
       "      <td>Russia</td>\n",
       "      <td>Moscow</td>\n",
       "      <td>17.100</td>\n",
       "      <td>143.5B</td>\n",
       "    </tr>\n",
       "    <tr>\n",
       "      <th>IN</th>\n",
       "      <td>India</td>\n",
       "      <td>New Delhi</td>\n",
       "      <td>3.286</td>\n",
       "      <td>1252.0B</td>\n",
       "    </tr>\n",
       "    <tr>\n",
       "      <th>CH</th>\n",
       "      <td>China</td>\n",
       "      <td>Beijing</td>\n",
       "      <td>9.597</td>\n",
       "      <td>1357.0B</td>\n",
       "    </tr>\n",
       "    <tr>\n",
       "      <th>SA</th>\n",
       "      <td>South Africa</td>\n",
       "      <td>Pretoria</td>\n",
       "      <td>1.221</td>\n",
       "      <td>52.9B</td>\n",
       "    </tr>\n",
       "  </tbody>\n",
       "</table>\n",
       "</div>"
      ],
      "text/plain": [
       "         country    capital    area population\n",
       "BR        Brazil   Brasilia   8.516     200.4B\n",
       "RU        Russia     Moscow  17.100     143.5B\n",
       "IN         India  New Delhi   3.286    1252.0B\n",
       "CH         China    Beijing   9.597    1357.0B\n",
       "SA  South Africa   Pretoria   1.221      52.9B"
      ]
     },
     "execution_count": 8,
     "metadata": {},
     "output_type": "execute_result"
    }
   ],
   "source": [
    "brics_values"
   ]
  },
  {
   "cell_type": "code",
   "execution_count": 15,
   "id": "b27ed63c-dd93-4289-acff-4d31d6a2a407",
   "metadata": {},
   "outputs": [
    {
     "data": {
      "image/png": "[encoded data removed]",
      "text/plain": [
       "<Figure size 432x288 with 1 Axes>"
      ]
     },
     "metadata": {
      "needs_background": "light"
     },
     "output_type": "display_data"
    }
   ],
   "source": [
    "plt.scatter(brics_values.population, brics_values.area)\n",
    "plt.scatter(brics_values.country, brics_values.area)\n",
    "plt.title(\"Population against area graph.\")\n",
    "plt.xlabel(\"population and country\")\n",
    "plt.ylabel(\"area\")\n",
    "plt.legend([\"this is the population and country\", \"this is the area\"])\n",
    "plt.show()"
   ]
  },
  {
   "cell_type": "code",
   "execution_count": null,
   "id": "36a06474-adcd-41a9-ba70-ffb94ddf3dd6",
   "metadata": {},
   "outputs": [],
   "source": []
  }
 ],
 "metadata": {
  "kernelspec": {
   "display_name": "Python 3 (ipykernel)",
   "language": "python",
   "name": "python3"
  },
  "language_info": {
   "codemirror_mode": {
    "name": "ipython",
    "version": 3
   },
   "file_extension": ".py",
   "mimetype": "text/x-python",
   "name": "python",
   "nbconvert_exporter": "python",
   "pygments_lexer": "ipython3",
   "version": "3.9.7"
  }
 },
 "nbformat": 4,
 "nbformat_minor": 5
}
