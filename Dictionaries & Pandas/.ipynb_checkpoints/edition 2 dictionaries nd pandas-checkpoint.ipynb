{
 "cells": [
  {
   "cell_type": "code",
   "execution_count": 70,
   "id": "79c4b3e2-0b08-413d-a139-6ba17365f4f1",
   "metadata": {},
   "outputs": [],
   "source": [
    "countries = ['kenya','uganda', 'burundi', 'rwanda', 'tanzania', 'somalia', 'ethiopia','djibouti', 'eritrea', 'south sudan']\n",
    "capitals = ['nairobi', 'kampala','bujumbura','kigali','dodoma', 'mogadishu', 'addis ababa','djibouti', 'asmara', 'juba']\n",
    "population = [53.77, 45.74, 11.89, 12.95, 59.73, 15.89, 115, 0.9882, 6.081, 11.19]"
   ]
  },
  {
   "cell_type": "code",
   "execution_count": 72,
   "id": "af66684e-67a4-42ac-a5a1-a0690ce0ceb3",
   "metadata": {},
   "outputs": [
    {
     "name": "stdout",
     "output_type": "stream",
     "text": [
      "10\n",
      "10\n",
      "10\n"
     ]
    }
   ],
   "source": [
    "print(len(countries))\n",
    "print(len(capitals))\n",
    "print(len(population))"
   ]
  },
  {
   "cell_type": "code",
   "execution_count": 21,
   "id": "0513e311-b00d-457d-8324-ed6d40d26abb",
   "metadata": {},
   "outputs": [
    {
     "name": "stdout",
     "output_type": "stream",
     "text": [
      "8\n"
     ]
    }
   ],
   "source": [
    "ind_eritrea = countries.index('eritrea')\n",
    "print(ind_eritrea)"
   ]
  },
  {
   "cell_type": "code",
   "execution_count": 22,
   "id": "daf01538-7317-4849-b126-97c5e28afc94",
   "metadata": {},
   "outputs": [
    {
     "name": "stdout",
     "output_type": "stream",
     "text": [
      "asmara\n"
     ]
    }
   ],
   "source": [
    "print(capitals[ind_eritrea])"
   ]
  },
  {
   "cell_type": "markdown",
   "id": "ac6e0285-b6fa-49ca-a367-af9b64bf9bc1",
   "metadata": {},
   "source": [
    "## Creating Dictionaries"
   ]
  },
  {
   "cell_type": "code",
   "execution_count": 49,
   "id": "f0c294d2-17b9-4198-bffa-7ea19b86b7ac",
   "metadata": {},
   "outputs": [
    {
     "name": "stdout",
     "output_type": "stream",
     "text": [
      "{'kenya': 'nairobi', 'uganda': 'kampala', 'burundi': 'bujumbura', 'rwanda': {'capital': 'kigali', 'population': 12.95}, 'tanzania': 'dodoma', 'somalia': 'mogadishu', 'ethiopia': 'addis ababa', 'djibouti': 'djibouti', 'eritrea': 'asmara', 'south sudan': 'juba', 'drc congo': 'kinshasa'}\n"
     ]
    }
   ],
   "source": [
    "data = {'capital':'kigali', 'population':12.95}\n",
    "east_africa['rwanda'] = data\n",
    "print(east_africa)"
   ]
  },
  {
   "cell_type": "code",
   "execution_count": 56,
   "id": "888bafd7-4d22-41b9-8ad4-88e0813e4529",
   "metadata": {},
   "outputs": [
    {
     "name": "stdout",
     "output_type": "stream",
     "text": [
      "{'kenya': {'capital': 'nairobi', 'population': 53.77}, 'uganda': {'capital': 'kampala', 'popultion': 45.74}, 'burundi': {'capital': 'bujumbura', 'population': 11.89}, 'rwanda': {'capital': 'kigali', 'population': 12.95}, 'tanzania': {'capital': 'dodoma', 'population': 59.73}, 'somalia': {'capital': 'mogadishu', 'population': 15.89}, 'ethiopia': {'capital': 'addis ababa', 'population': 115}, 'djibouti': {'capital': 'djibouti', 'population': 0.9882}, 'eritrea': {'capital': 'asmara', 'population': 6.081}, 'south sudan': {'capital': 'juba', 'population': 11.19}}\n"
     ]
    }
   ],
   "source": [
    "east_africa = {'kenya':{'capital':'nairobi', 'population':53.77}, \n",
    "               'uganda':{'capital':'kampala', 'popultion':45.74},\n",
    "                'burundi':{'capital':'bujumbura', 'population':11.89},\n",
    "                'rwanda':{'capital':'kigali', 'population':12.95},\n",
    "                'tanzania':{'capital':'dodoma', 'population':59.73},\n",
    "                'somalia':{'capital':'mogadishu','population':15.89},\n",
    "                'ethiopia':{'capital':'addis ababa', 'population':115},\n",
    "               'djibouti':{'capital':'djibouti', 'population':0.9882},\n",
    "                'eritrea':{'capital':'asmara', 'population':6.081},\n",
    "                'south sudan':{'capital':'juba', 'population':11.19}}\n",
    "print(east_africa)\n",
    "               "
   ]
  },
  {
   "cell_type": "code",
   "execution_count": 57,
   "id": "9a9bb8f4-026e-4f92-bf64-5566586b1318",
   "metadata": {},
   "outputs": [
    {
     "name": "stdout",
     "output_type": "stream",
     "text": [
      "dict_keys(['kenya', 'uganda', 'burundi', 'rwanda', 'tanzania', 'somalia', 'ethiopia', 'djibouti', 'eritrea', 'south sudan'])\n"
     ]
    }
   ],
   "source": [
    "print(east_africa.keys())"
   ]
  },
  {
   "cell_type": "markdown",
   "id": "38b33634-ff72-468a-9031-1d704b761e73",
   "metadata": {},
   "source": [
    "## Accessing Dictionaries"
   ]
  },
  {
   "cell_type": "code",
   "execution_count": 58,
   "id": "94b7d737-dbbd-4db9-b846-82773493ac04",
   "metadata": {},
   "outputs": [
    {
     "name": "stdout",
     "output_type": "stream",
     "text": [
      "{'capital': 'djibouti', 'population': 0.9882}\n"
     ]
    }
   ],
   "source": [
    "print(east_africa['djibouti'])"
   ]
  },
  {
   "cell_type": "markdown",
   "id": "4b1ae242-d95c-4c97-9a34-116e68d49f25",
   "metadata": {},
   "source": [
    "## Manipulation of Dictionaries"
   ]
  },
  {
   "cell_type": "code",
   "execution_count": 59,
   "id": "51de52be-f31a-4380-9856-59ebf5132e41",
   "metadata": {},
   "outputs": [],
   "source": [
    "east_africa['drc congo'] = 'kinshasa'"
   ]
  },
  {
   "cell_type": "code",
   "execution_count": 60,
   "id": "645b8d5c-eb12-41fc-aba8-229461f911d7",
   "metadata": {},
   "outputs": [
    {
     "name": "stdout",
     "output_type": "stream",
     "text": [
      "{'kenya': {'capital': 'nairobi', 'population': 53.77}, 'uganda': {'capital': 'kampala', 'popultion': 45.74}, 'burundi': {'capital': 'bujumbura', 'population': 11.89}, 'rwanda': {'capital': 'kigali', 'population': 12.95}, 'tanzania': {'capital': 'dodoma', 'population': 59.73}, 'somalia': {'capital': 'mogadishu', 'population': 15.89}, 'ethiopia': {'capital': 'addis ababa', 'population': 115}, 'djibouti': {'capital': 'djibouti', 'population': 0.9882}, 'eritrea': {'capital': 'asmara', 'population': 6.081}, 'south sudan': {'capital': 'juba', 'population': 11.19}, 'drc congo': 'kinshasa'}\n"
     ]
    }
   ],
   "source": [
    "print(east_africa)"
   ]
  },
  {
   "cell_type": "code",
   "execution_count": 61,
   "id": "56d1654c-8e82-4fdf-a49f-6022bdd74e58",
   "metadata": {},
   "outputs": [
    {
     "name": "stdout",
     "output_type": "stream",
     "text": [
      "{'kenya': {'capital': 'nairobi', 'population': 53.77}, 'uganda': {'capital': 'kampala', 'popultion': 45.74}, 'burundi': {'capital': 'bujumbura', 'population': 11.89}, 'rwanda': {'capital': 'kigali', 'population': 12.95}, 'tanzania': {'capital': 'dodoma', 'population': 59.73}, 'somalia': {'capital': 'mogadishu', 'population': 15.89}, 'ethiopia': {'capital': 'addis ababa', 'population': 115}, 'djibouti': {'capital': 'djibouti', 'population': 0.9882}, 'eritrea': {'capital': 'asmara', 'population': 6.081}, 'south sudan': {'capital': 'juba', 'population': 11.19}, 'drc congo': 'kinshasa', 'malawi': 'lilongwe'}\n"
     ]
    }
   ],
   "source": [
    "east_africa['malawi'] = 'lilongwe'\n",
    "print(east_africa)"
   ]
  },
  {
   "cell_type": "code",
   "execution_count": 62,
   "id": "2ea90a64-bc85-4eb1-907d-bb862c740317",
   "metadata": {},
   "outputs": [
    {
     "name": "stdout",
     "output_type": "stream",
     "text": [
      "True\n"
     ]
    }
   ],
   "source": [
    "print('malawi' in east_africa)"
   ]
  },
  {
   "cell_type": "code",
   "execution_count": 63,
   "id": "aabf1e7d-5a7e-4d61-9989-495ce91366a9",
   "metadata": {},
   "outputs": [
    {
     "name": "stdout",
     "output_type": "stream",
     "text": [
      "False\n"
     ]
    }
   ],
   "source": [
    "print('south africa' in east_africa)"
   ]
  },
  {
   "cell_type": "code",
   "execution_count": 64,
   "id": "161a64b9-39f0-42c0-b6f2-339e43162326",
   "metadata": {},
   "outputs": [
    {
     "name": "stdout",
     "output_type": "stream",
     "text": [
      "{'kenya': {'capital': 'nairobi', 'population': 53.77}, 'uganda': 'jinja', 'burundi': {'capital': 'bujumbura', 'population': 11.89}, 'rwanda': {'capital': 'kigali', 'population': 12.95}, 'tanzania': {'capital': 'dodoma', 'population': 59.73}, 'somalia': {'capital': 'mogadishu', 'population': 15.89}, 'ethiopia': {'capital': 'addis ababa', 'population': 115}, 'djibouti': {'capital': 'djibouti', 'population': 0.9882}, 'eritrea': {'capital': 'asmara', 'population': 6.081}, 'south sudan': {'capital': 'juba', 'population': 11.19}, 'drc congo': 'kinshasa', 'malawi': 'lilongwe'}\n"
     ]
    }
   ],
   "source": [
    "east_africa['uganda'] = 'jinja'\n",
    "print(east_africa)"
   ]
  },
  {
   "cell_type": "code",
   "execution_count": 45,
   "id": "47e95052-2688-433b-ba64-d9a005c2710a",
   "metadata": {},
   "outputs": [
    {
     "ename": "KeyError",
     "evalue": "'malawi'",
     "output_type": "error",
     "traceback": [
      "\u001b[0;31m---------------------------------------------------------------------------\u001b[0m",
      "\u001b[0;31mKeyError\u001b[0m                                  Traceback (most recent call last)",
      "\u001b[0;32m/tmp/ipykernel_3674/100789825.py\u001b[0m in \u001b[0;36m<module>\u001b[0;34m\u001b[0m\n\u001b[1;32m      1\u001b[0m \u001b[0meast_africa\u001b[0m\u001b[0;34m[\u001b[0m\u001b[0;34m'uganda'\u001b[0m\u001b[0;34m]\u001b[0m \u001b[0;34m=\u001b[0m \u001b[0;34m'kampala'\u001b[0m\u001b[0;34m\u001b[0m\u001b[0;34m\u001b[0m\u001b[0m\n\u001b[0;32m----> 2\u001b[0;31m \u001b[0;32mdel\u001b[0m\u001b[0;34m(\u001b[0m\u001b[0meast_africa\u001b[0m\u001b[0;34m[\u001b[0m\u001b[0;34m'malawi'\u001b[0m\u001b[0;34m]\u001b[0m\u001b[0;34m)\u001b[0m\u001b[0;34m\u001b[0m\u001b[0;34m\u001b[0m\u001b[0m\n\u001b[0m\u001b[1;32m      3\u001b[0m \u001b[0mprint\u001b[0m\u001b[0;34m(\u001b[0m\u001b[0meast_africa\u001b[0m\u001b[0;34m)\u001b[0m\u001b[0;34m\u001b[0m\u001b[0;34m\u001b[0m\u001b[0m\n",
      "\u001b[0;31mKeyError\u001b[0m: 'malawi'"
     ]
    }
   ],
   "source": [
    "east_africa['uganda'] = 'kampala'\n",
    "del(east_africa['malawi'])\n",
    "print(east_africa)"
   ]
  },
  {
   "cell_type": "code",
   "execution_count": 46,
   "id": "abe69e6f-c571-4304-84c6-d87e103f7c8d",
   "metadata": {},
   "outputs": [
    {
     "name": "stdout",
     "output_type": "stream",
     "text": [
      "False\n"
     ]
    }
   ],
   "source": [
    "print('malawi' in east_africa)"
   ]
  },
  {
   "cell_type": "code",
   "execution_count": 48,
   "id": "7ab63cb6-b348-489b-9fc9-043f16be6987",
   "metadata": {},
   "outputs": [
    {
     "name": "stdout",
     "output_type": "stream",
     "text": [
      "kampala\n"
     ]
    }
   ],
   "source": [
    "print(east_africa['uganda'])"
   ]
  },
  {
   "cell_type": "code",
   "execution_count": 65,
   "id": "045e0309-593f-4638-9d80-8ca79d70ae30",
   "metadata": {},
   "outputs": [
    {
     "name": "stdout",
     "output_type": "stream",
     "text": [
      "11.89\n"
     ]
    }
   ],
   "source": [
    "print(east_africa['burundi']['population'])"
   ]
  },
  {
   "cell_type": "code",
   "execution_count": 66,
   "id": "e7e6cdae-9adf-460d-9a59-1081153feb91",
   "metadata": {},
   "outputs": [
    {
     "name": "stdout",
     "output_type": "stream",
     "text": [
      "{'kenya': {'capital': 'nairobi', 'population': 53.77}, 'uganda': 'jinja', 'burundi': {'capital': 'bujumbura', 'population': 11.89}, 'rwanda': {'capital': 'kigali', 'population': 12.95}, 'tanzania': {'capital': 'dodoma', 'population': 59.73}, 'somalia': {'capital': 'mogadishu', 'population': 15.89}, 'ethiopia': {'capital': 'addis ababa', 'population': 115}, 'djibouti': {'capital': 'djibouti', 'population': 0.9882}, 'eritrea': {'capital': 'asmara', 'population': 6.081}, 'south sudan': {'capital': 'juba', 'population': 11.19}, 'drc congo': 'kinshasa', 'malawi': {'capital': 'lilongwe', 'population': 19.13}}\n"
     ]
    }
   ],
   "source": [
    "data = {'capital':'lilongwe', 'population':19.13}\n",
    "east_africa['malawi'] = data\n",
    "print(east_africa)"
   ]
  },
  {
   "cell_type": "code",
   "execution_count": 67,
   "id": "3a6b252d-0cdc-4e23-ba20-6df784e760dc",
   "metadata": {},
   "outputs": [
    {
     "name": "stdout",
     "output_type": "stream",
     "text": [
      "{'capital': 'lilongwe', 'population': 19.13}\n"
     ]
    }
   ],
   "source": [
    "print(east_africa['malawi'])"
   ]
  },
  {
   "cell_type": "code",
   "execution_count": 68,
   "id": "ec372335-dd59-4cee-b9a7-94de18d75fd9",
   "metadata": {},
   "outputs": [
    {
     "name": "stdout",
     "output_type": "stream",
     "text": [
      "kigali\n"
     ]
    }
   ],
   "source": [
    "print(east_africa['rwanda']['capital'])"
   ]
  },
  {
   "cell_type": "markdown",
   "id": "783693f8-fb34-4802-90ed-a8f515fde351",
   "metadata": {},
   "source": [
    "## Dictionaries to Dataframe"
   ]
  },
  {
   "cell_type": "code",
   "execution_count": 73,
   "id": "be562e1e-a1b3-46f7-80a3-baa23d270ca8",
   "metadata": {},
   "outputs": [],
   "source": [
    "import pandas as pd"
   ]
  },
  {
   "cell_type": "code",
   "execution_count": 76,
   "id": "c9495d14-a3a3-4c78-bbd1-d2b8e65b5a12",
   "metadata": {},
   "outputs": [],
   "source": [
    "eastern_africa = {'countries':['kenya','uganda', 'burundi', 'rwanda', 'tanzania', 'somalia', 'ethiopia','djibouti', 'eritrea', 'south sudan'],\n",
    "                'capitals':['nairobi', 'kampala','bujumbura','kigali','dodoma', 'mogadishu', 'addis ababa','djibouti', 'asmara', 'juba'],\n",
    "             'population':[53.77, 45.74, 11.89, 12.95, 59.73, 15.89, 115, 0.9882, 6.081, 11.19]}"
   ]
  },
  {
   "cell_type": "code",
   "execution_count": 77,
   "id": "475e55eb-05f0-45e0-b8b4-98ca38e22052",
   "metadata": {},
   "outputs": [
    {
     "name": "stdout",
     "output_type": "stream",
     "text": [
      "{'countries': ['kenya', 'uganda', 'burundi', 'rwanda', 'tanzania', 'somalia', 'ethiopia', 'djibouti', 'eritrea', 'south sudan'], 'capitals': ['nairobi', 'kampala', 'bujumbura', 'kigali', 'dodoma', 'mogadishu', 'addis ababa', 'djibouti', 'asmara', 'juba'], 'population': [53.77, 45.74, 11.89, 12.95, 59.73, 15.89, 115, 0.9882, 6.081, 11.19]}\n"
     ]
    }
   ],
   "source": [
    "print(eastern_africa)"
   ]
  },
  {
   "cell_type": "code",
   "execution_count": 83,
   "id": "a7f95090-b759-4465-94c5-2f8e7be84fd2",
   "metadata": {},
   "outputs": [
    {
     "name": "stdout",
     "output_type": "stream",
     "text": [
      "     countries     capitals  population\n",
      "0        kenya      nairobi     53.7700\n",
      "1       uganda      kampala     45.7400\n",
      "2      burundi    bujumbura     11.8900\n",
      "3       rwanda       kigali     12.9500\n",
      "4     tanzania       dodoma     59.7300\n",
      "5      somalia    mogadishu     15.8900\n",
      "6     ethiopia  addis ababa    115.0000\n",
      "7     djibouti     djibouti      0.9882\n",
      "8      eritrea       asmara      6.0810\n",
      "9  south sudan         juba     11.1900\n"
     ]
    }
   ],
   "source": [
    "\n",
    "east = pd.DataFrame(eastern_africa)\n",
    "print(east)"
   ]
  },
  {
   "cell_type": "code",
   "execution_count": 81,
   "id": "8c0686c6-1a31-4cba-b815-130b64acc823",
   "metadata": {},
   "outputs": [
    {
     "name": "stdout",
     "output_type": "stream",
     "text": [
      "9\n"
     ]
    }
   ],
   "source": [
    "row_labels = ['KEN', 'UG' 'BUR', 'RWA', 'TZ', 'SOM', 'ET', 'DJ', 'ER', 'SS']\n",
    "print(len(row_labels))"
   ]
  },
  {
   "cell_type": "code",
   "execution_count": 80,
   "id": "7fa3fdc7-7f14-4a89-8f2d-2d08ca148564",
   "metadata": {},
   "outputs": [
    {
     "ename": "ValueError",
     "evalue": "Length mismatch: Expected axis has 10 elements, new values have 9 elements",
     "output_type": "error",
     "traceback": [
      "\u001b[0;31m---------------------------------------------------------------------------\u001b[0m",
      "\u001b[0;31mValueError\u001b[0m                                Traceback (most recent call last)",
      "\u001b[0;32m/tmp/ipykernel_3674/141716267.py\u001b[0m in \u001b[0;36m<module>\u001b[0;34m\u001b[0m\n\u001b[0;32m----> 1\u001b[0;31m \u001b[0meast\u001b[0m\u001b[0;34m.\u001b[0m\u001b[0mindex\u001b[0m \u001b[0;34m=\u001b[0m \u001b[0mrow_labels\u001b[0m\u001b[0;34m\u001b[0m\u001b[0;34m\u001b[0m\u001b[0m\n\u001b[0m\u001b[1;32m      2\u001b[0m \u001b[0mprint\u001b[0m\u001b[0;34m(\u001b[0m\u001b[0meast\u001b[0m\u001b[0;34m)\u001b[0m\u001b[0;34m\u001b[0m\u001b[0;34m\u001b[0m\u001b[0m\n",
      "\u001b[0;32m~/anaconda3/lib/python3.9/site-packages/pandas/core/generic.py\u001b[0m in \u001b[0;36m__setattr__\u001b[0;34m(self, name, value)\u001b[0m\n\u001b[1;32m   5498\u001b[0m         \u001b[0;32mtry\u001b[0m\u001b[0;34m:\u001b[0m\u001b[0;34m\u001b[0m\u001b[0;34m\u001b[0m\u001b[0m\n\u001b[1;32m   5499\u001b[0m             \u001b[0mobject\u001b[0m\u001b[0;34m.\u001b[0m\u001b[0m__getattribute__\u001b[0m\u001b[0;34m(\u001b[0m\u001b[0mself\u001b[0m\u001b[0;34m,\u001b[0m \u001b[0mname\u001b[0m\u001b[0;34m)\u001b[0m\u001b[0;34m\u001b[0m\u001b[0;34m\u001b[0m\u001b[0m\n\u001b[0;32m-> 5500\u001b[0;31m             \u001b[0;32mreturn\u001b[0m \u001b[0mobject\u001b[0m\u001b[0;34m.\u001b[0m\u001b[0m__setattr__\u001b[0m\u001b[0;34m(\u001b[0m\u001b[0mself\u001b[0m\u001b[0;34m,\u001b[0m \u001b[0mname\u001b[0m\u001b[0;34m,\u001b[0m \u001b[0mvalue\u001b[0m\u001b[0;34m)\u001b[0m\u001b[0;34m\u001b[0m\u001b[0;34m\u001b[0m\u001b[0m\n\u001b[0m\u001b[1;32m   5501\u001b[0m         \u001b[0;32mexcept\u001b[0m \u001b[0mAttributeError\u001b[0m\u001b[0;34m:\u001b[0m\u001b[0;34m\u001b[0m\u001b[0;34m\u001b[0m\u001b[0m\n\u001b[1;32m   5502\u001b[0m             \u001b[0;32mpass\u001b[0m\u001b[0;34m\u001b[0m\u001b[0;34m\u001b[0m\u001b[0m\n",
      "\u001b[0;32m~/anaconda3/lib/python3.9/site-packages/pandas/_libs/properties.pyx\u001b[0m in \u001b[0;36mpandas._libs.properties.AxisProperty.__set__\u001b[0;34m()\u001b[0m\n",
      "\u001b[0;32m~/anaconda3/lib/python3.9/site-packages/pandas/core/generic.py\u001b[0m in \u001b[0;36m_set_axis\u001b[0;34m(self, axis, labels)\u001b[0m\n\u001b[1;32m    764\u001b[0m     \u001b[0;32mdef\u001b[0m \u001b[0m_set_axis\u001b[0m\u001b[0;34m(\u001b[0m\u001b[0mself\u001b[0m\u001b[0;34m,\u001b[0m \u001b[0maxis\u001b[0m\u001b[0;34m:\u001b[0m \u001b[0mint\u001b[0m\u001b[0;34m,\u001b[0m \u001b[0mlabels\u001b[0m\u001b[0;34m:\u001b[0m \u001b[0mIndex\u001b[0m\u001b[0;34m)\u001b[0m \u001b[0;34m->\u001b[0m \u001b[0;32mNone\u001b[0m\u001b[0;34m:\u001b[0m\u001b[0;34m\u001b[0m\u001b[0;34m\u001b[0m\u001b[0m\n\u001b[1;32m    765\u001b[0m         \u001b[0mlabels\u001b[0m \u001b[0;34m=\u001b[0m \u001b[0mensure_index\u001b[0m\u001b[0;34m(\u001b[0m\u001b[0mlabels\u001b[0m\u001b[0;34m)\u001b[0m\u001b[0;34m\u001b[0m\u001b[0;34m\u001b[0m\u001b[0m\n\u001b[0;32m--> 766\u001b[0;31m         \u001b[0mself\u001b[0m\u001b[0;34m.\u001b[0m\u001b[0m_mgr\u001b[0m\u001b[0;34m.\u001b[0m\u001b[0mset_axis\u001b[0m\u001b[0;34m(\u001b[0m\u001b[0maxis\u001b[0m\u001b[0;34m,\u001b[0m \u001b[0mlabels\u001b[0m\u001b[0;34m)\u001b[0m\u001b[0;34m\u001b[0m\u001b[0;34m\u001b[0m\u001b[0m\n\u001b[0m\u001b[1;32m    767\u001b[0m         \u001b[0mself\u001b[0m\u001b[0;34m.\u001b[0m\u001b[0m_clear_item_cache\u001b[0m\u001b[0;34m(\u001b[0m\u001b[0;34m)\u001b[0m\u001b[0;34m\u001b[0m\u001b[0;34m\u001b[0m\u001b[0m\n\u001b[1;32m    768\u001b[0m \u001b[0;34m\u001b[0m\u001b[0m\n",
      "\u001b[0;32m~/anaconda3/lib/python3.9/site-packages/pandas/core/internals/managers.py\u001b[0m in \u001b[0;36mset_axis\u001b[0;34m(self, axis, new_labels)\u001b[0m\n\u001b[1;32m    214\u001b[0m     \u001b[0;32mdef\u001b[0m \u001b[0mset_axis\u001b[0m\u001b[0;34m(\u001b[0m\u001b[0mself\u001b[0m\u001b[0;34m,\u001b[0m \u001b[0maxis\u001b[0m\u001b[0;34m:\u001b[0m \u001b[0mint\u001b[0m\u001b[0;34m,\u001b[0m \u001b[0mnew_labels\u001b[0m\u001b[0;34m:\u001b[0m \u001b[0mIndex\u001b[0m\u001b[0;34m)\u001b[0m \u001b[0;34m->\u001b[0m \u001b[0;32mNone\u001b[0m\u001b[0;34m:\u001b[0m\u001b[0;34m\u001b[0m\u001b[0;34m\u001b[0m\u001b[0m\n\u001b[1;32m    215\u001b[0m         \u001b[0;31m# Caller is responsible for ensuring we have an Index object.\u001b[0m\u001b[0;34m\u001b[0m\u001b[0;34m\u001b[0m\u001b[0m\n\u001b[0;32m--> 216\u001b[0;31m         \u001b[0mself\u001b[0m\u001b[0;34m.\u001b[0m\u001b[0m_validate_set_axis\u001b[0m\u001b[0;34m(\u001b[0m\u001b[0maxis\u001b[0m\u001b[0;34m,\u001b[0m \u001b[0mnew_labels\u001b[0m\u001b[0;34m)\u001b[0m\u001b[0;34m\u001b[0m\u001b[0;34m\u001b[0m\u001b[0m\n\u001b[0m\u001b[1;32m    217\u001b[0m         \u001b[0mself\u001b[0m\u001b[0;34m.\u001b[0m\u001b[0maxes\u001b[0m\u001b[0;34m[\u001b[0m\u001b[0maxis\u001b[0m\u001b[0;34m]\u001b[0m \u001b[0;34m=\u001b[0m \u001b[0mnew_labels\u001b[0m\u001b[0;34m\u001b[0m\u001b[0;34m\u001b[0m\u001b[0m\n\u001b[1;32m    218\u001b[0m \u001b[0;34m\u001b[0m\u001b[0m\n",
      "\u001b[0;32m~/anaconda3/lib/python3.9/site-packages/pandas/core/internals/base.py\u001b[0m in \u001b[0;36m_validate_set_axis\u001b[0;34m(self, axis, new_labels)\u001b[0m\n\u001b[1;32m     55\u001b[0m \u001b[0;34m\u001b[0m\u001b[0m\n\u001b[1;32m     56\u001b[0m         \u001b[0;32melif\u001b[0m \u001b[0mnew_len\u001b[0m \u001b[0;34m!=\u001b[0m \u001b[0mold_len\u001b[0m\u001b[0;34m:\u001b[0m\u001b[0;34m\u001b[0m\u001b[0;34m\u001b[0m\u001b[0m\n\u001b[0;32m---> 57\u001b[0;31m             raise ValueError(\n\u001b[0m\u001b[1;32m     58\u001b[0m                 \u001b[0;34mf\"Length mismatch: Expected axis has {old_len} elements, new \"\u001b[0m\u001b[0;34m\u001b[0m\u001b[0;34m\u001b[0m\u001b[0m\n\u001b[1;32m     59\u001b[0m                 \u001b[0;34mf\"values have {new_len} elements\"\u001b[0m\u001b[0;34m\u001b[0m\u001b[0;34m\u001b[0m\u001b[0m\n",
      "\u001b[0;31mValueError\u001b[0m: Length mismatch: Expected axis has 10 elements, new values have 9 elements"
     ]
    }
   ],
   "source": [
    "east.index = row_labels\n",
    "print(east)"
   ]
  },
  {
   "cell_type": "code",
   "execution_count": null,
   "id": "1d2f2262-53c3-44f9-8fa2-e2e8b487e646",
   "metadata": {},
   "outputs": [],
   "source": []
  }
 ],
 "metadata": {
  "kernelspec": {
   "display_name": "Python 3 (ipykernel)",
   "language": "python",
   "name": "python3"
  },
  "language_info": {
   "codemirror_mode": {
    "name": "ipython",
    "version": 3
   },
   "file_extension": ".py",
   "mimetype": "text/x-python",
   "name": "python",
   "nbconvert_exporter": "python",
   "pygments_lexer": "ipython3",
   "version": "3.9.7"
  }
 },
 "nbformat": 4,
 "nbformat_minor": 5
}
