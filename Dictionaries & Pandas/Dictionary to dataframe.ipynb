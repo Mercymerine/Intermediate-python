{
 "cells": [
  {
   "cell_type": "code",
   "execution_count": 1,
   "id": "627e1534-d18f-42df-9113-43c6313483cd",
   "metadata": {},
   "outputs": [],
   "source": [
    "# Pre-defined lists\n",
    "names = ['United States', 'Australia', 'Japan', 'India', 'Russia', 'Morocco', 'Egypt']\n",
    "dr =  [True, False, False, False, True, True, True]\n",
    "cpc = [809, 731, 588, 18, 200, 70, 45]"
   ]
  },
  {
   "cell_type": "code",
   "execution_count": 2,
   "id": "c9bc32b4-697b-4f5d-bd00-4a99363f143e",
   "metadata": {},
   "outputs": [
    {
     "name": "stdout",
     "output_type": "stream",
     "text": [
      "{'country': ['United States', 'Australia', 'Japan', 'India', 'Russia', 'Morocco', 'Egypt'], 'drives_right': [True, False, False, False, True, True, True], 'cars_per_cap': [809, 731, 588, 18, 200, 70, 45]}\n"
     ]
    }
   ],
   "source": [
    "my_dict = {'country':names, 'drives_right':dr, 'cars_per_cap':cpc}\n",
    "print(my_dict)"
   ]
  },
  {
   "cell_type": "code",
   "execution_count": 3,
   "id": "d1dfdbe2-589f-4f2f-b7d5-abde9013030c",
   "metadata": {},
   "outputs": [],
   "source": [
    "import pandas as pd"
   ]
  },
  {
   "cell_type": "code",
   "execution_count": 4,
   "id": "0e195df8-1707-4547-8990-77e41c2f4303",
   "metadata": {},
   "outputs": [
    {
     "name": "stdout",
     "output_type": "stream",
     "text": [
      "         country  drives_right  cars_per_cap\n",
      "0  United States          True           809\n",
      "1      Australia         False           731\n",
      "2          Japan         False           588\n",
      "3          India         False            18\n",
      "4         Russia          True           200\n",
      "5        Morocco          True            70\n",
      "6          Egypt          True            45\n"
     ]
    }
   ],
   "source": [
    "cars = pd.DataFrame(my_dict)\n",
    "print(cars)"
   ]
  },
  {
   "cell_type": "code",
   "execution_count": 5,
   "id": "d1732be2-44a5-461a-8da0-684ce21a5ae1",
   "metadata": {},
   "outputs": [
    {
     "name": "stdout",
     "output_type": "stream",
     "text": [
      "['United States', 'Australia', 'Japan', 'India', 'Russia', 'Morocco', 'Egypt']\n"
     ]
    }
   ],
   "source": [
    "print(my_dict['country'])"
   ]
  },
  {
   "cell_type": "code",
   "execution_count": 6,
   "id": "bf574cb7-51d6-4ff9-9ffd-269402c87f8d",
   "metadata": {},
   "outputs": [
    {
     "name": "stdout",
     "output_type": "stream",
     "text": [
      "0    United States\n",
      "1        Australia\n",
      "2            Japan\n",
      "3            India\n",
      "4           Russia\n",
      "5          Morocco\n",
      "6            Egypt\n",
      "Name: country, dtype: object\n"
     ]
    }
   ],
   "source": [
    "country_series = pd.Series(data = my_dict['country'], name = 'country')\n",
    "print(country_series)"
   ]
  },
  {
   "cell_type": "code",
   "execution_count": 7,
   "id": "1a243fc6-c334-4dc6-8a69-345f755cb33f",
   "metadata": {},
   "outputs": [
    {
     "name": "stdout",
     "output_type": "stream",
     "text": [
      "         country  drives_right  cars_per_cap\n",
      "0  United States          True           809\n",
      "1      Australia         False           731\n",
      "2          Japan         False           588\n",
      "3          India         False            18\n",
      "4         Russia          True           200\n"
     ]
    }
   ],
   "source": [
    "print(cars.head())"
   ]
  },
  {
   "cell_type": "markdown",
   "id": "545662f2-8ec2-4a00-8645-45345f6a95b0",
   "metadata": {},
   "source": [
    "## Definition of row labels"
   ]
  },
  {
   "cell_type": "code",
   "execution_count": 8,
   "id": "6f23a098-0c94-43e7-990d-d006afccaa3e",
   "metadata": {},
   "outputs": [],
   "source": [
    "# Definition of row_labels\n",
    "row_labels = ['US', 'AUS', 'JPN', 'IN', 'RU', 'MOR', 'EG']\n"
   ]
  },
  {
   "cell_type": "code",
   "execution_count": 9,
   "id": "08472d2e-f326-4962-a236-86ad5794d4ba",
   "metadata": {},
   "outputs": [
    {
     "name": "stdout",
     "output_type": "stream",
     "text": [
      "           country  drives_right  cars_per_cap\n",
      "US   United States          True           809\n",
      "AUS      Australia         False           731\n",
      "JPN          Japan         False           588\n",
      "IN           India         False            18\n",
      "RU          Russia          True           200\n",
      "MOR        Morocco          True            70\n",
      "EG           Egypt          True            45\n"
     ]
    }
   ],
   "source": [
    "cars = pd.DataFrame(my_dict, index = row_labels)\n",
    "print(cars)"
   ]
  },
  {
   "cell_type": "code",
   "execution_count": 22,
   "id": "7e116558-d8a3-4c39-a534-a0a80d7721e7",
   "metadata": {},
   "outputs": [],
   "source": [
    "cars.to_csv('cars_with_index.csv')"
   ]
  },
  {
   "cell_type": "code",
   "execution_count": 25,
   "id": "fac08f84-4ef3-491c-bd6f-8d8d4ef7996a",
   "metadata": {},
   "outputs": [
    {
     "name": "stdout",
     "output_type": "stream",
     "text": [
      "  Unnamed: 0        country  drives_right  cars_per_cap\n",
      "0         US  United States          True           809\n",
      "1        AUS      Australia         False           731\n",
      "2        JPN          Japan         False           588\n",
      "3         IN          India         False            18\n",
      "4         RU         Russia          True           200\n",
      "5        MOR        Morocco          True            70\n",
      "6         EG          Egypt          True            45\n"
     ]
    }
   ],
   "source": [
    "new_cars = pd.read_csv('cars_with_index.csv')\n",
    "print(new_cars)"
   ]
  },
  {
   "cell_type": "code",
   "execution_count": null,
   "id": "3557510a-f2db-4b92-8515-d2dec59a521d",
   "metadata": {},
   "outputs": [],
   "source": []
  }
 ],
 "metadata": {
  "kernelspec": {
   "display_name": "Python 3 (ipykernel)",
   "language": "python",
   "name": "python3"
  },
  "language_info": {
   "codemirror_mode": {
    "name": "ipython",
    "version": 3
   },
   "file_extension": ".py",
   "mimetype": "text/x-python",
   "name": "python",
   "nbconvert_exporter": "python",
   "pygments_lexer": "ipython3",
   "version": "3.9.7"
  }
 },
 "nbformat": 4,
 "nbformat_minor": 5
}
