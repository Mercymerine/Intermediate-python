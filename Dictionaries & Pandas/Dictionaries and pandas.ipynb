{
 "cells": [
  {
   "cell_type": "code",
   "execution_count": 10,
   "id": "fbd4c9c5-93c6-4a2d-ba65-24e21c26a807",
   "metadata": {},
   "outputs": [],
   "source": [
    "import numpy as np"
   ]
  },
  {
   "cell_type": "code",
   "execution_count": 2,
   "id": "d0edca6c-03cd-4a7a-8abd-bcbeefd24418",
   "metadata": {},
   "outputs": [],
   "source": [
    "# Definition of countries and capital\n",
    "countries = ['spain', 'france', 'germany', 'norway']\n",
    "capitals = ['madrid', 'paris', 'berlin', 'oslo']"
   ]
  },
  {
   "cell_type": "code",
   "execution_count": 3,
   "id": "0d46cd73-fa37-47cc-a807-7510fcf06dfd",
   "metadata": {},
   "outputs": [],
   "source": [
    "ind_ger = countries.index('germany')"
   ]
  },
  {
   "cell_type": "code",
   "execution_count": 4,
   "id": "83ade99b-4031-4552-b723-935d7953ddb6",
   "metadata": {},
   "outputs": [
    {
     "name": "stdout",
     "output_type": "stream",
     "text": [
      "2\n"
     ]
    }
   ],
   "source": [
    "print(ind_ger)"
   ]
  },
  {
   "cell_type": "code",
   "execution_count": 5,
   "id": "5727b40c-5707-467e-985d-2d2528e274a7",
   "metadata": {},
   "outputs": [
    {
     "name": "stdout",
     "output_type": "stream",
     "text": [
      "berlin\n"
     ]
    }
   ],
   "source": [
    "print(capitals[ind_ger])"
   ]
  },
  {
   "cell_type": "markdown",
   "id": "86fb54fa-5ea1-430d-a1da-eb9b52b7e373",
   "metadata": {},
   "source": [
    "## Create Dictionary"
   ]
  },
  {
   "cell_type": "code",
   "execution_count": 6,
   "id": "41c09ba3-fd9f-4c86-afac-00fb6ec56551",
   "metadata": {},
   "outputs": [
    {
     "name": "stdout",
     "output_type": "stream",
     "text": [
      "{}\n"
     ]
    }
   ],
   "source": [
    "new_dictionary = {}\n",
    "print(new_dictionary)"
   ]
  },
  {
   "cell_type": "code",
   "execution_count": 7,
   "id": "09f0bf58-8209-44c0-ba9d-81ee3fb7b5eb",
   "metadata": {},
   "outputs": [
    {
     "name": "stdout",
     "output_type": "stream",
     "text": [
      "{'course': 'computer science', 'height': 5.0, 'color': ['emerald green', 'mustard yellow'], 'weight': 47}\n"
     ]
    }
   ],
   "source": [
    "# The format for storing values in a dictionary is 'Dictionary = {key:value}'\n",
    "mercy = {'course' : 'computer science', \n",
    "        'height' : 5.0,\n",
    "        'color' : ['emerald green', 'mustard yellow'],\n",
    "         'weight' : 47\n",
    "        }\n",
    "print(mercy)"
   ]
  },
  {
   "cell_type": "code",
   "execution_count": 8,
   "id": "15f188c1-16a4-4a52-9fd6-ece4e9597ea9",
   "metadata": {},
   "outputs": [
    {
     "name": "stdout",
     "output_type": "stream",
     "text": [
      "['IT', 160, 'cream', 60]\n"
     ]
    }
   ],
   "source": [
    "alvin = ['IT', 160, 'cream', 60]\n",
    "print(alvin)"
   ]
  },
  {
   "cell_type": "code",
   "execution_count": 11,
   "id": "217e6e83-61d0-4ba3-8385-d8f674704797",
   "metadata": {},
   "outputs": [
    {
     "name": "stdout",
     "output_type": "stream",
     "text": [
      "['IT' '160' 'cream' '60']\n"
     ]
    }
   ],
   "source": [
    "alvin_np = np.array(alvin)\n",
    "print(alvin_np)"
   ]
  },
  {
   "cell_type": "code",
   "execution_count": 12,
   "id": "c95dfd43-1509-4b1e-b043-bdb127dbab37",
   "metadata": {},
   "outputs": [],
   "source": [
    "# Definition of countries and capital\n",
    "countries = ['spain', 'france', 'germany', 'norway']\n",
    "capitals = ['madrid', 'paris', 'berlin', 'oslo']"
   ]
  },
  {
   "cell_type": "code",
   "execution_count": 13,
   "id": "13833089-fe58-46e1-ab3f-7d9b54da701b",
   "metadata": {},
   "outputs": [
    {
     "name": "stdout",
     "output_type": "stream",
     "text": [
      "{'spain': 'madrid', 'france': 'paris', 'germany': 'berlin', 'norway': 'oslo'}\n"
     ]
    }
   ],
   "source": [
    "europe = {'spain':'madrid', \n",
    "         'france':'paris', \n",
    "         'germany':'berlin',\n",
    "         'norway':'oslo'}\n",
    "print(europe)"
   ]
  },
  {
   "cell_type": "code",
   "execution_count": 14,
   "id": "b3390314-cb1a-4d24-8fac-e17be5dd5a94",
   "metadata": {},
   "outputs": [
    {
     "ename": "KeyError",
     "evalue": "0",
     "output_type": "error",
     "traceback": [
      "\u001b[0;31m---------------------------------------------------------------------------\u001b[0m",
      "\u001b[0;31mKeyError\u001b[0m                                  Traceback (most recent call last)",
      "\u001b[0;32m/tmp/ipykernel_2413/803614058.py\u001b[0m in \u001b[0;36m<module>\u001b[0;34m\u001b[0m\n\u001b[0;32m----> 1\u001b[0;31m \u001b[0mprint\u001b[0m\u001b[0;34m(\u001b[0m\u001b[0meurope\u001b[0m\u001b[0;34m[\u001b[0m\u001b[0;36m0\u001b[0m\u001b[0;34m]\u001b[0m\u001b[0;34m)\u001b[0m\u001b[0;34m\u001b[0m\u001b[0;34m\u001b[0m\u001b[0m\n\u001b[0m",
      "\u001b[0;31mKeyError\u001b[0m: 0"
     ]
    }
   ],
   "source": [
    "print(europe[0])"
   ]
  },
  {
   "cell_type": "code",
   "execution_count": 15,
   "id": "db1b7e93-ce8b-4a49-99c1-f7c1f679740b",
   "metadata": {},
   "outputs": [
    {
     "name": "stdout",
     "output_type": "stream",
     "text": [
      "madrid\n"
     ]
    }
   ],
   "source": [
    "print(europe['spain'])"
   ]
  },
  {
   "cell_type": "code",
   "execution_count": 16,
   "id": "aaea0dab-d9f3-4a10-b387-84ac7d821f29",
   "metadata": {},
   "outputs": [
    {
     "name": "stdout",
     "output_type": "stream",
     "text": [
      "dict_keys(['spain', 'france', 'germany', 'norway'])\n"
     ]
    }
   ],
   "source": [
    "print(europe.keys())"
   ]
  },
  {
   "cell_type": "code",
   "execution_count": 17,
   "id": "42d4e7d6-024f-4529-af51-32d12ddbd110",
   "metadata": {},
   "outputs": [
    {
     "name": "stdout",
     "output_type": "stream",
     "text": [
      "dict_values(['madrid', 'paris', 'berlin', 'oslo'])\n"
     ]
    }
   ],
   "source": [
    "print(europe.values())"
   ]
  },
  {
   "cell_type": "code",
   "execution_count": 19,
   "id": "3ed8794c-135c-4499-8636-f48cb467d339",
   "metadata": {},
   "outputs": [
    {
     "name": "stdout",
     "output_type": "stream",
     "text": [
      "dict_items([('spain', 'madrid'), ('france', 'paris'), ('germany', 'berlin'), ('norway', 'oslo')])\n"
     ]
    }
   ],
   "source": [
    "print(europe.items())"
   ]
  },
  {
   "cell_type": "code",
   "execution_count": 20,
   "id": "5becbbb8-3e2d-446d-9804-cf0e13d0ada4",
   "metadata": {},
   "outputs": [
    {
     "name": "stdout",
     "output_type": "stream",
     "text": [
      "{'spain': 'madrid', 'france': 'paris', 'germany': 'berlin', 'norway': 'oslo', 'iceland': 'reykjavik'}\n"
     ]
    }
   ],
   "source": [
    "europe['iceland'] = 'reykjavik'\n",
    "print(europe)"
   ]
  },
  {
   "cell_type": "code",
   "execution_count": 21,
   "id": "62c6ca7d-287c-4484-a5f4-47f802979659",
   "metadata": {},
   "outputs": [
    {
     "name": "stdout",
     "output_type": "stream",
     "text": [
      "{'spain': 'madrid', 'france': 'paris', 'germany': 'berlin', 'norway': 'oslo', 'iceland': 'reykjavik', 'italy': 'rome'}\n"
     ]
    }
   ],
   "source": [
    "europe['italy'] = 'rome'\n",
    "print(europe)"
   ]
  },
  {
   "cell_type": "code",
   "execution_count": 22,
   "id": "4cd66192-ee11-4a38-a697-345aa9aac0f5",
   "metadata": {},
   "outputs": [
    {
     "name": "stdout",
     "output_type": "stream",
     "text": [
      "{'spain': 'madrid', 'france': 'paris', 'germany': 'berlin', 'norway': 'oslo', 'iceland': 'reykjavik', 'italy': 'rome', 'poland': 'warsaw'}\n"
     ]
    }
   ],
   "source": [
    "europe['poland'] = 'warsaw'\n",
    "print(europe)"
   ]
  },
  {
   "cell_type": "code",
   "execution_count": 24,
   "id": "4c12d3ab-9c69-4603-820f-71f306f830b5",
   "metadata": {},
   "outputs": [
    {
     "name": "stdout",
     "output_type": "stream",
     "text": [
      "True\n"
     ]
    }
   ],
   "source": [
    "print('italy' in europe)"
   ]
  },
  {
   "cell_type": "code",
   "execution_count": 25,
   "id": "bd0335cf-9dcc-4c8e-92cb-bad2cf3bbde5",
   "metadata": {},
   "outputs": [
    {
     "name": "stdout",
     "output_type": "stream",
     "text": [
      "False\n"
     ]
    }
   ],
   "source": [
    "print('reykjavik' in europe)"
   ]
  },
  {
   "cell_type": "markdown",
   "id": "62ee01f4-a5e7-49bf-a85a-0920b4a87893",
   "metadata": {},
   "source": [
    "## Dictionary Manipulation (2)"
   ]
  },
  {
   "cell_type": "code",
   "execution_count": 29,
   "id": "3eb1fc64-e642-4f15-8d40-038d236097c6",
   "metadata": {},
   "outputs": [
    {
     "name": "stdout",
     "output_type": "stream",
     "text": [
      "netherlands\n"
     ]
    }
   ],
   "source": [
    "europe['norway'] = 'netherlands'\n",
    "print(europe['norway'])"
   ]
  },
  {
   "cell_type": "code",
   "execution_count": 31,
   "id": "19327278-b480-4210-8a81-7e5485de8539",
   "metadata": {},
   "outputs": [
    {
     "name": "stdout",
     "output_type": "stream",
     "text": [
      "oslo\n"
     ]
    }
   ],
   "source": [
    "#Update capital of norway\n",
    "europe['norway'] = 'oslo'\n",
    "print(europe['norway'])"
   ]
  },
  {
   "cell_type": "code",
   "execution_count": 33,
   "id": "89ee8234-86d4-4949-b246-94ec0dadc114",
   "metadata": {},
   "outputs": [],
   "source": [
    "del(europe['iceland'])"
   ]
  },
  {
   "cell_type": "code",
   "execution_count": 35,
   "id": "57bd4071-b237-4514-86d7-76637fea4f13",
   "metadata": {},
   "outputs": [
    {
     "ename": "KeyError",
     "evalue": "'iceland'",
     "output_type": "error",
     "traceback": [
      "\u001b[0;31m---------------------------------------------------------------------------\u001b[0m",
      "\u001b[0;31mKeyError\u001b[0m                                  Traceback (most recent call last)",
      "\u001b[0;32m/tmp/ipykernel_2413/2760405948.py\u001b[0m in \u001b[0;36m<module>\u001b[0;34m\u001b[0m\n\u001b[0;32m----> 1\u001b[0;31m \u001b[0mprint\u001b[0m\u001b[0;34m(\u001b[0m\u001b[0meurope\u001b[0m\u001b[0;34m[\u001b[0m\u001b[0;34m'iceland'\u001b[0m\u001b[0;34m]\u001b[0m\u001b[0;34m)\u001b[0m\u001b[0;34m\u001b[0m\u001b[0;34m\u001b[0m\u001b[0m\n\u001b[0m",
      "\u001b[0;31mKeyError\u001b[0m: 'iceland'"
     ]
    }
   ],
   "source": [
    "print(europe['iceland'])"
   ]
  },
  {
   "cell_type": "code",
   "execution_count": 36,
   "id": "f8366d10-7b77-4702-a7e2-6f63308ec1b1",
   "metadata": {},
   "outputs": [
    {
     "name": "stdout",
     "output_type": "stream",
     "text": [
      "{'spain': 'madrid', 'france': 'paris', 'germany': 'berlin', 'norway': 'oslo', 'italy': 'rome', 'poland': 'warsaw'}\n"
     ]
    }
   ],
   "source": [
    "print(europe)"
   ]
  },
  {
   "cell_type": "code",
   "execution_count": 37,
   "id": "ab92d9e7-fd5e-4049-9d02-dcfa131de8a0",
   "metadata": {},
   "outputs": [],
   "source": [
    "# Dictionary of dictionaries\n",
    "europe = { 'spain': { 'capital':'madrid', 'population':46.77 },\n",
    "           'france': { 'capital':'paris', 'population':66.03 },\n",
    "           'germany': { 'capital':'berlin', 'population':80.62 },\n",
    "           'norway': { 'capital':'oslo', 'population':5.084 } }"
   ]
  },
  {
   "cell_type": "code",
   "execution_count": 38,
   "id": "08e2b333-5bfd-4c69-a7a1-d6d1bb5c014a",
   "metadata": {},
   "outputs": [
    {
     "name": "stdout",
     "output_type": "stream",
     "text": [
      "{'capital': 'paris', 'population': 66.03}\n"
     ]
    }
   ],
   "source": [
    "print(europe['france'])"
   ]
  },
  {
   "cell_type": "code",
   "execution_count": 40,
   "id": "d659330b-7931-42bb-9b24-89e79e0610d2",
   "metadata": {},
   "outputs": [
    {
     "name": "stdout",
     "output_type": "stream",
     "text": [
      "paris\n"
     ]
    }
   ],
   "source": [
    "print(europe['france']['capital'])"
   ]
  },
  {
   "cell_type": "code",
   "execution_count": 41,
   "id": "52432c34-17a3-4eab-bd71-f88a84b65a0c",
   "metadata": {},
   "outputs": [],
   "source": [
    "data = {'capital': 'rome',\n",
    "       'population' : 59.83}"
   ]
  },
  {
   "cell_type": "code",
   "execution_count": null,
   "id": "abd1cd50-fa1a-4cc7-a2b9-748be8802b83",
   "metadata": {},
   "outputs": [],
   "source": [
    "europe['italy'] = data\n",
    "print(europe"
   ]
  }
 ],
 "metadata": {
  "kernelspec": {
   "display_name": "Python 3 (ipykernel)",
   "language": "python",
   "name": "python3"
  },
  "language_info": {
   "codemirror_mode": {
    "name": "ipython",
    "version": 3
   },
   "file_extension": ".py",
   "mimetype": "text/x-python",
   "name": "python",
   "nbconvert_exporter": "python",
   "pygments_lexer": "ipython3",
   "version": "3.9.7"
  }
 },
 "nbformat": 4,
 "nbformat_minor": 5
}
