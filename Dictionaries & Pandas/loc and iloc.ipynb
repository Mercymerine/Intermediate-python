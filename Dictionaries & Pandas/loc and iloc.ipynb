{
 "cells": [
  {
   "cell_type": "code",
   "execution_count": 1,
   "id": "3f72a001-bf36-4d8d-86ad-99a5f9a7c3da",
   "metadata": {},
   "outputs": [],
   "source": [
    "import pandas as pd"
   ]
  },
  {
   "cell_type": "code",
   "execution_count": 2,
   "id": "b589ad5f-713c-4221-8747-b2b9d93eafe3",
   "metadata": {},
   "outputs": [
    {
     "name": "stdout",
     "output_type": "stream",
     "text": [
      "           country  drives_right  cars_per_cap\n",
      "US   United States          True           809\n",
      "AUS      Australia         False           731\n",
      "JPN          Japan         False           588\n"
     ]
    }
   ],
   "source": [
    "cars = pd.read_csv('cars_with_index.csv', index_col = 0)\n",
    "print(cars.head(3))"
   ]
  },
  {
   "cell_type": "code",
   "execution_count": 3,
   "id": "966cf1a8-a53e-43d0-9d89-9c31026f5f52",
   "metadata": {},
   "outputs": [
    {
     "name": "stdout",
     "output_type": "stream",
     "text": [
      "     country  drives_right  cars_per_cap\n",
      "RU    Russia          True           200\n",
      "MOR  Morocco          True            70\n",
      "EG     Egypt          True            45\n"
     ]
    }
   ],
   "source": [
    "print(cars.tail(3))"
   ]
  },
  {
   "cell_type": "code",
   "execution_count": 4,
   "id": "d3e37665-dc9d-4c1b-9511-5c0ad480a4fd",
   "metadata": {},
   "outputs": [
    {
     "name": "stdout",
     "output_type": "stream",
     "text": [
      "country         Russia\n",
      "drives_right      True\n",
      "cars_per_cap       200\n",
      "Name: RU, dtype: object\n"
     ]
    }
   ],
   "source": [
    "# Index with column label\n",
    "print(cars.loc['RU'])"
   ]
  },
  {
   "cell_type": "code",
   "execution_count": 5,
   "id": "1e62eeb8-3a20-4e0f-a3ca-50efde90898e",
   "metadata": {},
   "outputs": [
    {
     "name": "stdout",
     "output_type": "stream",
     "text": [
      "country         Japan\n",
      "drives_right    False\n",
      "cars_per_cap      588\n",
      "Name: JPN, dtype: object\n"
     ]
    }
   ],
   "source": [
    "print(cars.loc['JPN'])"
   ]
  },
  {
   "cell_type": "code",
   "execution_count": 6,
   "id": "9eaaca41-64b2-4226-b377-49558cacb94c",
   "metadata": {},
   "outputs": [
    {
     "name": "stdout",
     "output_type": "stream",
     "text": [
      "country         Japan\n",
      "drives_right    False\n",
      "cars_per_cap      588\n",
      "Name: JPN, dtype: object\n"
     ]
    }
   ],
   "source": [
    "# Locate with integer index\n",
    "print(cars.iloc[2])"
   ]
  },
  {
   "cell_type": "code",
   "execution_count": 7,
   "id": "62ea9e89-0036-4eb6-a58a-a08675ac8816",
   "metadata": {},
   "outputs": [
    {
     "name": "stdout",
     "output_type": "stream",
     "text": [
      "     country  drives_right  cars_per_cap\n",
      "JPN    Japan         False           588\n",
      "MOR  Morocco          True            70\n",
      "EG     Egypt          True            45\n"
     ]
    }
   ],
   "source": [
    "# Locate multiple rows with loc\n",
    "print(cars.loc[['JPN', 'MOR', 'EG']])"
   ]
  },
  {
   "cell_type": "code",
   "execution_count": 8,
   "id": "275871ab-1210-4d60-919d-e872e6b05575",
   "metadata": {},
   "outputs": [
    {
     "name": "stdout",
     "output_type": "stream",
     "text": [
      "     country  drives_right  cars_per_cap\n",
      "JPN    Japan         False           588\n",
      "RU    Russia          True           200\n",
      "MOR  Morocco          True            70\n"
     ]
    }
   ],
   "source": [
    "# Locate multiple rows with iloc\n",
    "print(cars.iloc[[2, 4, 5]])"
   ]
  },
  {
   "cell_type": "code",
   "execution_count": 9,
   "id": "8a79d285-0a15-4392-a580-b1bc109c0ecf",
   "metadata": {},
   "outputs": [
    {
     "name": "stdout",
     "output_type": "stream",
     "text": [
      "           country  drives_right  cars_per_cap\n",
      "US   United States          True           809\n",
      "AUS      Australia         False           731\n",
      "JPN          Japan         False           588\n"
     ]
    }
   ],
   "source": [
    "# Locate multiple rows with slicing techniques\n",
    "print(cars.iloc[0:3])"
   ]
  },
  {
   "cell_type": "code",
   "execution_count": 10,
   "id": "0336bedb-f4d6-4819-94b4-f44eede23af4",
   "metadata": {},
   "outputs": [
    {
     "name": "stdout",
     "output_type": "stream",
     "text": [
      "True\n"
     ]
    }
   ],
   "source": [
    "print(cars.loc['MOR']['drives_right'])"
   ]
  },
  {
   "cell_type": "code",
   "execution_count": 11,
   "id": "7d667306-2353-4cda-891a-0e79d1643163",
   "metadata": {},
   "outputs": [
    {
     "name": "stdout",
     "output_type": "stream",
     "text": [
      "     drives_right  country\n",
      "RU           True   Russia\n",
      "MOR          True  Morocco\n"
     ]
    }
   ],
   "source": [
    "# Print out a sub-DataFrame, containing the observations for Russia and Morocco and the columns country and drives_right.\n",
    "print(cars.loc[['RU', 'MOR'],['drives_right', 'country']])"
   ]
  },
  {
   "cell_type": "code",
   "execution_count": 12,
   "id": "7c67dcfd-2679-461c-8e47-c5ab26ae431b",
   "metadata": {
    "collapsed": true,
    "jupyter": {
     "outputs_hidden": true
    },
    "tags": []
   },
   "outputs": [
    {
     "ename": "KeyError",
     "evalue": "\"None of [Index(['drives_right', 'country'], dtype='object')] are in the [index]\"",
     "output_type": "error",
     "traceback": [
      "\u001b[0;31m---------------------------------------------------------------------------\u001b[0m",
      "\u001b[0;31mKeyError\u001b[0m                                  Traceback (most recent call last)",
      "\u001b[0;32m/tmp/ipykernel_4258/2170334713.py\u001b[0m in \u001b[0;36m<module>\u001b[0;34m\u001b[0m\n\u001b[0;32m----> 1\u001b[0;31m \u001b[0mprint\u001b[0m\u001b[0;34m(\u001b[0m\u001b[0mcars\u001b[0m\u001b[0;34m.\u001b[0m\u001b[0mloc\u001b[0m\u001b[0;34m[\u001b[0m\u001b[0;34m[\u001b[0m\u001b[0;34m'drives_right'\u001b[0m\u001b[0;34m,\u001b[0m \u001b[0;34m'country'\u001b[0m\u001b[0;34m]\u001b[0m\u001b[0;34m]\u001b[0m\u001b[0;34m[\u001b[0m\u001b[0;34m[\u001b[0m\u001b[0;34m'RU'\u001b[0m\u001b[0;34m,\u001b[0m \u001b[0;34m'MOR'\u001b[0m\u001b[0;34m]\u001b[0m\u001b[0;34m]\u001b[0m\u001b[0;34m)\u001b[0m\u001b[0;34m\u001b[0m\u001b[0;34m\u001b[0m\u001b[0m\n\u001b[0m",
      "\u001b[0;32m~/anaconda3/lib/python3.9/site-packages/pandas/core/indexing.py\u001b[0m in \u001b[0;36m__getitem__\u001b[0;34m(self, key)\u001b[0m\n\u001b[1;32m    929\u001b[0m \u001b[0;34m\u001b[0m\u001b[0m\n\u001b[1;32m    930\u001b[0m             \u001b[0mmaybe_callable\u001b[0m \u001b[0;34m=\u001b[0m \u001b[0mcom\u001b[0m\u001b[0;34m.\u001b[0m\u001b[0mapply_if_callable\u001b[0m\u001b[0;34m(\u001b[0m\u001b[0mkey\u001b[0m\u001b[0;34m,\u001b[0m \u001b[0mself\u001b[0m\u001b[0;34m.\u001b[0m\u001b[0mobj\u001b[0m\u001b[0;34m)\u001b[0m\u001b[0;34m\u001b[0m\u001b[0;34m\u001b[0m\u001b[0m\n\u001b[0;32m--> 931\u001b[0;31m             \u001b[0;32mreturn\u001b[0m \u001b[0mself\u001b[0m\u001b[0;34m.\u001b[0m\u001b[0m_getitem_axis\u001b[0m\u001b[0;34m(\u001b[0m\u001b[0mmaybe_callable\u001b[0m\u001b[0;34m,\u001b[0m \u001b[0maxis\u001b[0m\u001b[0;34m=\u001b[0m\u001b[0maxis\u001b[0m\u001b[0;34m)\u001b[0m\u001b[0;34m\u001b[0m\u001b[0;34m\u001b[0m\u001b[0m\n\u001b[0m\u001b[1;32m    932\u001b[0m \u001b[0;34m\u001b[0m\u001b[0m\n\u001b[1;32m    933\u001b[0m     \u001b[0;32mdef\u001b[0m \u001b[0m_is_scalar_access\u001b[0m\u001b[0;34m(\u001b[0m\u001b[0mself\u001b[0m\u001b[0;34m,\u001b[0m \u001b[0mkey\u001b[0m\u001b[0;34m:\u001b[0m \u001b[0mtuple\u001b[0m\u001b[0;34m)\u001b[0m\u001b[0;34m:\u001b[0m\u001b[0;34m\u001b[0m\u001b[0;34m\u001b[0m\u001b[0m\n",
      "\u001b[0;32m~/anaconda3/lib/python3.9/site-packages/pandas/core/indexing.py\u001b[0m in \u001b[0;36m_getitem_axis\u001b[0;34m(self, key, axis)\u001b[0m\n\u001b[1;32m   1151\u001b[0m                     \u001b[0;32mraise\u001b[0m \u001b[0mValueError\u001b[0m\u001b[0;34m(\u001b[0m\u001b[0;34m\"Cannot index with multidimensional key\"\u001b[0m\u001b[0;34m)\u001b[0m\u001b[0;34m\u001b[0m\u001b[0;34m\u001b[0m\u001b[0m\n\u001b[1;32m   1152\u001b[0m \u001b[0;34m\u001b[0m\u001b[0m\n\u001b[0;32m-> 1153\u001b[0;31m                 \u001b[0;32mreturn\u001b[0m \u001b[0mself\u001b[0m\u001b[0;34m.\u001b[0m\u001b[0m_getitem_iterable\u001b[0m\u001b[0;34m(\u001b[0m\u001b[0mkey\u001b[0m\u001b[0;34m,\u001b[0m \u001b[0maxis\u001b[0m\u001b[0;34m=\u001b[0m\u001b[0maxis\u001b[0m\u001b[0;34m)\u001b[0m\u001b[0;34m\u001b[0m\u001b[0;34m\u001b[0m\u001b[0m\n\u001b[0m\u001b[1;32m   1154\u001b[0m \u001b[0;34m\u001b[0m\u001b[0m\n\u001b[1;32m   1155\u001b[0m             \u001b[0;31m# nested tuple slicing\u001b[0m\u001b[0;34m\u001b[0m\u001b[0;34m\u001b[0m\u001b[0m\n",
      "\u001b[0;32m~/anaconda3/lib/python3.9/site-packages/pandas/core/indexing.py\u001b[0m in \u001b[0;36m_getitem_iterable\u001b[0;34m(self, key, axis)\u001b[0m\n\u001b[1;32m   1091\u001b[0m \u001b[0;34m\u001b[0m\u001b[0m\n\u001b[1;32m   1092\u001b[0m         \u001b[0;31m# A collection of keys\u001b[0m\u001b[0;34m\u001b[0m\u001b[0;34m\u001b[0m\u001b[0m\n\u001b[0;32m-> 1093\u001b[0;31m         \u001b[0mkeyarr\u001b[0m\u001b[0;34m,\u001b[0m \u001b[0mindexer\u001b[0m \u001b[0;34m=\u001b[0m \u001b[0mself\u001b[0m\u001b[0;34m.\u001b[0m\u001b[0m_get_listlike_indexer\u001b[0m\u001b[0;34m(\u001b[0m\u001b[0mkey\u001b[0m\u001b[0;34m,\u001b[0m \u001b[0maxis\u001b[0m\u001b[0;34m)\u001b[0m\u001b[0;34m\u001b[0m\u001b[0;34m\u001b[0m\u001b[0m\n\u001b[0m\u001b[1;32m   1094\u001b[0m         return self.obj._reindex_with_indexers(\n\u001b[1;32m   1095\u001b[0m             \u001b[0;34m{\u001b[0m\u001b[0maxis\u001b[0m\u001b[0;34m:\u001b[0m \u001b[0;34m[\u001b[0m\u001b[0mkeyarr\u001b[0m\u001b[0;34m,\u001b[0m \u001b[0mindexer\u001b[0m\u001b[0;34m]\u001b[0m\u001b[0;34m}\u001b[0m\u001b[0;34m,\u001b[0m \u001b[0mcopy\u001b[0m\u001b[0;34m=\u001b[0m\u001b[0;32mTrue\u001b[0m\u001b[0;34m,\u001b[0m \u001b[0mallow_dups\u001b[0m\u001b[0;34m=\u001b[0m\u001b[0;32mTrue\u001b[0m\u001b[0;34m\u001b[0m\u001b[0;34m\u001b[0m\u001b[0m\n",
      "\u001b[0;32m~/anaconda3/lib/python3.9/site-packages/pandas/core/indexing.py\u001b[0m in \u001b[0;36m_get_listlike_indexer\u001b[0;34m(self, key, axis)\u001b[0m\n\u001b[1;32m   1312\u001b[0m             \u001b[0mkeyarr\u001b[0m\u001b[0;34m,\u001b[0m \u001b[0mindexer\u001b[0m\u001b[0;34m,\u001b[0m \u001b[0mnew_indexer\u001b[0m \u001b[0;34m=\u001b[0m \u001b[0max\u001b[0m\u001b[0;34m.\u001b[0m\u001b[0m_reindex_non_unique\u001b[0m\u001b[0;34m(\u001b[0m\u001b[0mkeyarr\u001b[0m\u001b[0;34m)\u001b[0m\u001b[0;34m\u001b[0m\u001b[0;34m\u001b[0m\u001b[0m\n\u001b[1;32m   1313\u001b[0m \u001b[0;34m\u001b[0m\u001b[0m\n\u001b[0;32m-> 1314\u001b[0;31m         \u001b[0mself\u001b[0m\u001b[0;34m.\u001b[0m\u001b[0m_validate_read_indexer\u001b[0m\u001b[0;34m(\u001b[0m\u001b[0mkeyarr\u001b[0m\u001b[0;34m,\u001b[0m \u001b[0mindexer\u001b[0m\u001b[0;34m,\u001b[0m \u001b[0maxis\u001b[0m\u001b[0;34m)\u001b[0m\u001b[0;34m\u001b[0m\u001b[0;34m\u001b[0m\u001b[0m\n\u001b[0m\u001b[1;32m   1315\u001b[0m \u001b[0;34m\u001b[0m\u001b[0m\n\u001b[1;32m   1316\u001b[0m         if needs_i8_conversion(ax.dtype) or isinstance(\n",
      "\u001b[0;32m~/anaconda3/lib/python3.9/site-packages/pandas/core/indexing.py\u001b[0m in \u001b[0;36m_validate_read_indexer\u001b[0;34m(self, key, indexer, axis)\u001b[0m\n\u001b[1;32m   1372\u001b[0m                 \u001b[0;32mif\u001b[0m \u001b[0muse_interval_msg\u001b[0m\u001b[0;34m:\u001b[0m\u001b[0;34m\u001b[0m\u001b[0;34m\u001b[0m\u001b[0m\n\u001b[1;32m   1373\u001b[0m                     \u001b[0mkey\u001b[0m \u001b[0;34m=\u001b[0m \u001b[0mlist\u001b[0m\u001b[0;34m(\u001b[0m\u001b[0mkey\u001b[0m\u001b[0;34m)\u001b[0m\u001b[0;34m\u001b[0m\u001b[0;34m\u001b[0m\u001b[0m\n\u001b[0;32m-> 1374\u001b[0;31m                 \u001b[0;32mraise\u001b[0m \u001b[0mKeyError\u001b[0m\u001b[0;34m(\u001b[0m\u001b[0;34mf\"None of [{key}] are in the [{axis_name}]\"\u001b[0m\u001b[0;34m)\u001b[0m\u001b[0;34m\u001b[0m\u001b[0;34m\u001b[0m\u001b[0m\n\u001b[0m\u001b[1;32m   1375\u001b[0m \u001b[0;34m\u001b[0m\u001b[0m\n\u001b[1;32m   1376\u001b[0m             \u001b[0mnot_found\u001b[0m \u001b[0;34m=\u001b[0m \u001b[0mlist\u001b[0m\u001b[0;34m(\u001b[0m\u001b[0mensure_index\u001b[0m\u001b[0;34m(\u001b[0m\u001b[0mkey\u001b[0m\u001b[0;34m)\u001b[0m\u001b[0;34m[\u001b[0m\u001b[0mmissing_mask\u001b[0m\u001b[0;34m.\u001b[0m\u001b[0mnonzero\u001b[0m\u001b[0;34m(\u001b[0m\u001b[0;34m)\u001b[0m\u001b[0;34m[\u001b[0m\u001b[0;36m0\u001b[0m\u001b[0;34m]\u001b[0m\u001b[0;34m]\u001b[0m\u001b[0;34m.\u001b[0m\u001b[0munique\u001b[0m\u001b[0;34m(\u001b[0m\u001b[0;34m)\u001b[0m\u001b[0;34m)\u001b[0m\u001b[0;34m\u001b[0m\u001b[0;34m\u001b[0m\u001b[0m\n",
      "\u001b[0;31mKeyError\u001b[0m: \"None of [Index(['drives_right', 'country'], dtype='object')] are in the [index]\""
     ]
    }
   ],
   "source": [
    "print(cars.loc[['drives_right', 'country']][['RU', 'MOR']])"
   ]
  },
  {
   "cell_type": "code",
   "execution_count": 13,
   "id": "7536cc64-083f-4943-890d-3e876b897750",
   "metadata": {},
   "outputs": [
    {
     "name": "stdout",
     "output_type": "stream",
     "text": [
      "18\n"
     ]
    }
   ],
   "source": [
    "print(cars.loc['IN', 'cars_per_cap'])"
   ]
  },
  {
   "cell_type": "code",
   "execution_count": 14,
   "id": "ef172472-fe4e-49e0-865b-d53ce781ee68",
   "metadata": {},
   "outputs": [
    {
     "name": "stdout",
     "output_type": "stream",
     "text": [
      "country         India\n",
      "drives_right    False\n",
      "cars_per_cap       18\n",
      "Name: IN, dtype: object\n"
     ]
    }
   ],
   "source": [
    "print(cars.loc['IN'])"
   ]
  },
  {
   "cell_type": "code",
   "execution_count": 15,
   "id": "49c27d9e-61fb-4c86-a555-549d0e7d5c8a",
   "metadata": {},
   "outputs": [
    {
     "name": "stdout",
     "output_type": "stream",
     "text": [
      "India\n"
     ]
    }
   ],
   "source": [
    "print(cars.iloc[3, 0])"
   ]
  },
  {
   "cell_type": "code",
   "execution_count": 16,
   "id": "f1d2ce15-3163-44aa-804e-760f2d61a078",
   "metadata": {},
   "outputs": [
    {
     "name": "stdout",
     "output_type": "stream",
     "text": [
      "588\n"
     ]
    }
   ],
   "source": [
    "print(cars.iloc[2, 2])"
   ]
  },
  {
   "cell_type": "code",
   "execution_count": 18,
   "id": "3796ef20-9af9-4ff5-b335-faea755a36e2",
   "metadata": {},
   "outputs": [
    {
     "name": "stdout",
     "output_type": "stream",
     "text": [
      "    cars_per_cap\n",
      "IN            18\n",
      "RU           200\n"
     ]
    }
   ],
   "source": [
    "print(cars.loc[['IN', 'RU'], ['cars_per_cap']])"
   ]
  },
  {
   "cell_type": "code",
   "execution_count": 19,
   "id": "0fe7da2c-cbdc-44db-9923-5d14d5c8fe2b",
   "metadata": {},
   "outputs": [
    {
     "name": "stdout",
     "output_type": "stream",
     "text": [
      "           country  drives_right  cars_per_cap\n",
      "US   United States          True           809\n",
      "AUS      Australia         False           731\n",
      "JPN          Japan         False           588\n",
      "IN           India         False            18\n",
      "RU          Russia          True           200\n",
      "MOR        Morocco          True            70\n",
      "EG           Egypt          True            45\n"
     ]
    }
   ],
   "source": [
    "print(cars)"
   ]
  },
  {
   "cell_type": "code",
   "execution_count": 20,
   "id": "f4ed8b15-2388-42dd-8fa1-3c8c9c6f8749",
   "metadata": {},
   "outputs": [
    {
     "name": "stdout",
     "output_type": "stream",
     "text": [
      "IN     18\n",
      "RU    200\n",
      "Name: cars_per_cap, dtype: int64\n"
     ]
    }
   ],
   "source": [
    "print(cars.iloc[3:5, 2])"
   ]
  },
  {
   "cell_type": "code",
   "execution_count": 22,
   "id": "8e51cb09-52ce-487b-8b2a-23c799543dce",
   "metadata": {},
   "outputs": [
    {
     "name": "stdout",
     "output_type": "stream",
     "text": [
      "   country  cars_per_cap\n",
      "IN   India            18\n",
      "RU  Russia           200\n"
     ]
    }
   ],
   "source": [
    "print(cars.loc[['IN', 'RU'], ['country', 'cars_per_cap']])"
   ]
  },
  {
   "cell_type": "markdown",
   "id": "60aa1952-becc-43dd-8dac-0aa33312ae62",
   "metadata": {},
   "source": [
    "## loc and iloc (3)"
   ]
  },
  {
   "cell_type": "code",
   "execution_count": 26,
   "id": "0638dc26-51af-4ee0-8363-e2506f7c00a9",
   "metadata": {},
   "outputs": [
    {
     "name": "stdout",
     "output_type": "stream",
     "text": [
      "US     United States\n",
      "AUS        Australia\n",
      "JPN            Japan\n",
      "IN             India\n",
      "Name: country, dtype: object\n"
     ]
    }
   ],
   "source": [
    "print(cars.loc[:'IN', 'country'])"
   ]
  },
  {
   "cell_type": "code",
   "execution_count": 24,
   "id": "90a64073-0af5-4306-89ad-eb8365ccbc70",
   "metadata": {},
   "outputs": [
    {
     "name": "stdout",
     "output_type": "stream",
     "text": [
      "US      True\n",
      "AUS    False\n",
      "JPN    False\n",
      "IN     False\n",
      "RU      True\n",
      "MOR     True\n",
      "EG      True\n",
      "Name: drives_right, dtype: bool\n"
     ]
    }
   ],
   "source": [
    "print(cars.iloc[:, 1])"
   ]
  },
  {
   "cell_type": "code",
   "execution_count": 27,
   "id": "e045b620-c36f-4814-827f-d86b88c8f8d4",
   "metadata": {
    "scrolled": true,
    "tags": []
   },
   "outputs": [
    {
     "data": {
      "text/plain": [
       "\u001b[0;31mType:\u001b[0m        property\n",
       "\u001b[0;31mString form:\u001b[0m <property object at 0x7f22817cf0e0>\n",
       "\u001b[0;31mSource:\u001b[0m     \n",
       "\u001b[0;31m# cars.iloc.fget\u001b[0m\u001b[0;34m\u001b[0m\n",
       "\u001b[0;34m\u001b[0m\u001b[0;34m@\u001b[0m\u001b[0mproperty\u001b[0m\u001b[0;34m\u001b[0m\n",
       "\u001b[0;34m\u001b[0m\u001b[0;32mdef\u001b[0m \u001b[0miloc\u001b[0m\u001b[0;34m(\u001b[0m\u001b[0mself\u001b[0m\u001b[0;34m)\u001b[0m \u001b[0;34m->\u001b[0m \u001b[0m_iLocIndexer\u001b[0m\u001b[0;34m:\u001b[0m\u001b[0;34m\u001b[0m\n",
       "\u001b[0;34m\u001b[0m    \u001b[0;34m\"\"\"\u001b[0m\n",
       "\u001b[0;34m    Purely integer-location based indexing for selection by position.\u001b[0m\n",
       "\u001b[0;34m\u001b[0m\n",
       "\u001b[0;34m    ``.iloc[]`` is primarily integer position based (from ``0`` to\u001b[0m\n",
       "\u001b[0;34m    ``length-1`` of the axis), but may also be used with a boolean\u001b[0m\n",
       "\u001b[0;34m    array.\u001b[0m\n",
       "\u001b[0;34m\u001b[0m\n",
       "\u001b[0;34m    Allowed inputs are:\u001b[0m\n",
       "\u001b[0;34m\u001b[0m\n",
       "\u001b[0;34m    - An integer, e.g. ``5``.\u001b[0m\n",
       "\u001b[0;34m    - A list or array of integers, e.g. ``[4, 3, 0]``.\u001b[0m\n",
       "\u001b[0;34m    - A slice object with ints, e.g. ``1:7``.\u001b[0m\n",
       "\u001b[0;34m    - A boolean array.\u001b[0m\n",
       "\u001b[0;34m    - A ``callable`` function with one argument (the calling Series or\u001b[0m\n",
       "\u001b[0;34m      DataFrame) and that returns valid output for indexing (one of the above).\u001b[0m\n",
       "\u001b[0;34m      This is useful in method chains, when you don't have a reference to the\u001b[0m\n",
       "\u001b[0;34m      calling object, but would like to base your selection on some value.\u001b[0m\n",
       "\u001b[0;34m\u001b[0m\n",
       "\u001b[0;34m    ``.iloc`` will raise ``IndexError`` if a requested indexer is\u001b[0m\n",
       "\u001b[0;34m    out-of-bounds, except *slice* indexers which allow out-of-bounds\u001b[0m\n",
       "\u001b[0;34m    indexing (this conforms with python/numpy *slice* semantics).\u001b[0m\n",
       "\u001b[0;34m\u001b[0m\n",
       "\u001b[0;34m    See more at :ref:`Selection by Position <indexing.integer>`.\u001b[0m\n",
       "\u001b[0;34m\u001b[0m\n",
       "\u001b[0;34m    See Also\u001b[0m\n",
       "\u001b[0;34m    --------\u001b[0m\n",
       "\u001b[0;34m    DataFrame.iat : Fast integer location scalar accessor.\u001b[0m\n",
       "\u001b[0;34m    DataFrame.loc : Purely label-location based indexer for selection by label.\u001b[0m\n",
       "\u001b[0;34m    Series.iloc : Purely integer-location based indexing for\u001b[0m\n",
       "\u001b[0;34m                   selection by position.\u001b[0m\n",
       "\u001b[0;34m\u001b[0m\n",
       "\u001b[0;34m    Examples\u001b[0m\n",
       "\u001b[0;34m    --------\u001b[0m\n",
       "\u001b[0;34m    >>> mydict = [{'a': 1, 'b': 2, 'c': 3, 'd': 4},\u001b[0m\n",
       "\u001b[0;34m    ...           {'a': 100, 'b': 200, 'c': 300, 'd': 400},\u001b[0m\n",
       "\u001b[0;34m    ...           {'a': 1000, 'b': 2000, 'c': 3000, 'd': 4000 }]\u001b[0m\n",
       "\u001b[0;34m    >>> df = pd.DataFrame(mydict)\u001b[0m\n",
       "\u001b[0;34m    >>> df\u001b[0m\n",
       "\u001b[0;34m          a     b     c     d\u001b[0m\n",
       "\u001b[0;34m    0     1     2     3     4\u001b[0m\n",
       "\u001b[0;34m    1   100   200   300   400\u001b[0m\n",
       "\u001b[0;34m    2  1000  2000  3000  4000\u001b[0m\n",
       "\u001b[0;34m\u001b[0m\n",
       "\u001b[0;34m    **Indexing just the rows**\u001b[0m\n",
       "\u001b[0;34m\u001b[0m\n",
       "\u001b[0;34m    With a scalar integer.\u001b[0m\n",
       "\u001b[0;34m\u001b[0m\n",
       "\u001b[0;34m    >>> type(df.iloc[0])\u001b[0m\n",
       "\u001b[0;34m    <class 'pandas.core.series.Series'>\u001b[0m\n",
       "\u001b[0;34m    >>> df.iloc[0]\u001b[0m\n",
       "\u001b[0;34m    a    1\u001b[0m\n",
       "\u001b[0;34m    b    2\u001b[0m\n",
       "\u001b[0;34m    c    3\u001b[0m\n",
       "\u001b[0;34m    d    4\u001b[0m\n",
       "\u001b[0;34m    Name: 0, dtype: int64\u001b[0m\n",
       "\u001b[0;34m\u001b[0m\n",
       "\u001b[0;34m    With a list of integers.\u001b[0m\n",
       "\u001b[0;34m\u001b[0m\n",
       "\u001b[0;34m    >>> df.iloc[[0]]\u001b[0m\n",
       "\u001b[0;34m       a  b  c  d\u001b[0m\n",
       "\u001b[0;34m    0  1  2  3  4\u001b[0m\n",
       "\u001b[0;34m    >>> type(df.iloc[[0]])\u001b[0m\n",
       "\u001b[0;34m    <class 'pandas.core.frame.DataFrame'>\u001b[0m\n",
       "\u001b[0;34m\u001b[0m\n",
       "\u001b[0;34m    >>> df.iloc[[0, 1]]\u001b[0m\n",
       "\u001b[0;34m         a    b    c    d\u001b[0m\n",
       "\u001b[0;34m    0    1    2    3    4\u001b[0m\n",
       "\u001b[0;34m    1  100  200  300  400\u001b[0m\n",
       "\u001b[0;34m\u001b[0m\n",
       "\u001b[0;34m    With a `slice` object.\u001b[0m\n",
       "\u001b[0;34m\u001b[0m\n",
       "\u001b[0;34m    >>> df.iloc[:3]\u001b[0m\n",
       "\u001b[0;34m          a     b     c     d\u001b[0m\n",
       "\u001b[0;34m    0     1     2     3     4\u001b[0m\n",
       "\u001b[0;34m    1   100   200   300   400\u001b[0m\n",
       "\u001b[0;34m    2  1000  2000  3000  4000\u001b[0m\n",
       "\u001b[0;34m\u001b[0m\n",
       "\u001b[0;34m    With a boolean mask the same length as the index.\u001b[0m\n",
       "\u001b[0;34m\u001b[0m\n",
       "\u001b[0;34m    >>> df.iloc[[True, False, True]]\u001b[0m\n",
       "\u001b[0;34m          a     b     c     d\u001b[0m\n",
       "\u001b[0;34m    0     1     2     3     4\u001b[0m\n",
       "\u001b[0;34m    2  1000  2000  3000  4000\u001b[0m\n",
       "\u001b[0;34m\u001b[0m\n",
       "\u001b[0;34m    With a callable, useful in method chains. The `x` passed\u001b[0m\n",
       "\u001b[0;34m    to the ``lambda`` is the DataFrame being sliced. This selects\u001b[0m\n",
       "\u001b[0;34m    the rows whose index label even.\u001b[0m\n",
       "\u001b[0;34m\u001b[0m\n",
       "\u001b[0;34m    >>> df.iloc[lambda x: x.index % 2 == 0]\u001b[0m\n",
       "\u001b[0;34m          a     b     c     d\u001b[0m\n",
       "\u001b[0;34m    0     1     2     3     4\u001b[0m\n",
       "\u001b[0;34m    2  1000  2000  3000  4000\u001b[0m\n",
       "\u001b[0;34m\u001b[0m\n",
       "\u001b[0;34m    **Indexing both axes**\u001b[0m\n",
       "\u001b[0;34m\u001b[0m\n",
       "\u001b[0;34m    You can mix the indexer types for the index and columns. Use ``:`` to\u001b[0m\n",
       "\u001b[0;34m    select the entire axis.\u001b[0m\n",
       "\u001b[0;34m\u001b[0m\n",
       "\u001b[0;34m    With scalar integers.\u001b[0m\n",
       "\u001b[0;34m\u001b[0m\n",
       "\u001b[0;34m    >>> df.iloc[0, 1]\u001b[0m\n",
       "\u001b[0;34m    2\u001b[0m\n",
       "\u001b[0;34m\u001b[0m\n",
       "\u001b[0;34m    With lists of integers.\u001b[0m\n",
       "\u001b[0;34m\u001b[0m\n",
       "\u001b[0;34m    >>> df.iloc[[0, 2], [1, 3]]\u001b[0m\n",
       "\u001b[0;34m          b     d\u001b[0m\n",
       "\u001b[0;34m    0     2     4\u001b[0m\n",
       "\u001b[0;34m    2  2000  4000\u001b[0m\n",
       "\u001b[0;34m\u001b[0m\n",
       "\u001b[0;34m    With `slice` objects.\u001b[0m\n",
       "\u001b[0;34m\u001b[0m\n",
       "\u001b[0;34m    >>> df.iloc[1:3, 0:3]\u001b[0m\n",
       "\u001b[0;34m          a     b     c\u001b[0m\n",
       "\u001b[0;34m    1   100   200   300\u001b[0m\n",
       "\u001b[0;34m    2  1000  2000  3000\u001b[0m\n",
       "\u001b[0;34m\u001b[0m\n",
       "\u001b[0;34m    With a boolean array whose length matches the columns.\u001b[0m\n",
       "\u001b[0;34m\u001b[0m\n",
       "\u001b[0;34m    >>> df.iloc[:, [True, False, True, False]]\u001b[0m\n",
       "\u001b[0;34m          a     c\u001b[0m\n",
       "\u001b[0;34m    0     1     3\u001b[0m\n",
       "\u001b[0;34m    1   100   300\u001b[0m\n",
       "\u001b[0;34m    2  1000  3000\u001b[0m\n",
       "\u001b[0;34m\u001b[0m\n",
       "\u001b[0;34m    With a callable function that expects the Series or DataFrame.\u001b[0m\n",
       "\u001b[0;34m\u001b[0m\n",
       "\u001b[0;34m    >>> df.iloc[:, lambda df: [0, 2]]\u001b[0m\n",
       "\u001b[0;34m          a     c\u001b[0m\n",
       "\u001b[0;34m    0     1     3\u001b[0m\n",
       "\u001b[0;34m    1   100   300\u001b[0m\n",
       "\u001b[0;34m    2  1000  3000\u001b[0m\n",
       "\u001b[0;34m    \"\"\"\u001b[0m\u001b[0;34m\u001b[0m\n",
       "\u001b[0;34m\u001b[0m    \u001b[0;32mreturn\u001b[0m \u001b[0m_iLocIndexer\u001b[0m\u001b[0;34m(\u001b[0m\u001b[0;34m\"iloc\"\u001b[0m\u001b[0;34m,\u001b[0m \u001b[0mself\u001b[0m\u001b[0;34m)\u001b[0m\u001b[0;34m\u001b[0m\u001b[0;34m\u001b[0m\u001b[0m\n"
      ]
     },
     "metadata": {},
     "output_type": "display_data"
    }
   ],
   "source": [
    "print(cars.iloc??"
   ]
  },
  {
   "cell_type": "markdown",
   "id": "17f1195d-fbb9-494d-a01b-5ac5d744f10d",
   "metadata": {},
   "source": [
    "### The format for highlighting rows or columns is\n",
    "```python\n",
    "cars.iloc[start: stop: step]\n",
    "```"
   ]
  },
  {
   "cell_type": "code",
   "execution_count": 29,
   "id": "00eddb0a-ed46-417a-8d81-8b014bade9c7",
   "metadata": {
    "tags": []
   },
   "outputs": [
    {
     "name": "stdout",
     "output_type": "stream",
     "text": [
      "           country  drives_right  cars_per_cap\n",
      "US   United States          True           809\n",
      "JPN          Japan         False           588\n",
      "RU          Russia          True           200\n",
      "EG           Egypt          True            45\n"
     ]
    }
   ],
   "source": [
    "# Highlight rows with even integer indices\n",
    "print(cars.iloc[: :2])"
   ]
  },
  {
   "cell_type": "code",
   "execution_count": 30,
   "id": "4f44a0db-5971-41f2-a036-069ea5929ecb",
   "metadata": {},
   "outputs": [
    {
     "name": "stdout",
     "output_type": "stream",
     "text": [
      "          country  drives_right  cars_per_cap\n",
      "US  United States          True           809\n",
      "IN          India         False            18\n",
      "EG          Egypt          True            45\n"
     ]
    }
   ],
   "source": [
    "print(cars.iloc[: :3])"
   ]
  },
  {
   "cell_type": "code",
   "execution_count": 31,
   "id": "b2e2b770-5b54-447c-8a56-d6170a75a83f",
   "metadata": {},
   "outputs": [
    {
     "name": "stdout",
     "output_type": "stream",
     "text": [
      "US      True\n",
      "AUS    False\n",
      "JPN    False\n",
      "IN     False\n",
      "RU      True\n",
      "MOR     True\n",
      "EG      True\n",
      "Name: drives_right, dtype: bool\n"
     ]
    }
   ],
   "source": [
    "# Print out the drives_right column as a DataFrame using loc or iloc.\n",
    "print(cars.iloc[:, 1])"
   ]
  },
  {
   "cell_type": "code",
   "execution_count": 32,
   "id": "87f98342-eff7-4bff-9f81-11dc89737bb4",
   "metadata": {},
   "outputs": [
    {
     "name": "stdout",
     "output_type": "stream",
     "text": [
      "US      True\n",
      "AUS    False\n",
      "JPN    False\n",
      "IN     False\n",
      "RU      True\n",
      "MOR     True\n",
      "EG      True\n",
      "Name: drives_right, dtype: bool\n"
     ]
    }
   ],
   "source": [
    "print(cars.loc[:, 'drives_right'])"
   ]
  },
  {
   "cell_type": "code",
   "execution_count": 33,
   "id": "65d90014-ce32-4ec2-b869-cc02a0f02f63",
   "metadata": {},
   "outputs": [
    {
     "name": "stdout",
     "output_type": "stream",
     "text": [
      "     drives_right  cars_per_cap\n",
      "US           True           809\n",
      "AUS         False           731\n",
      "JPN         False           588\n",
      "IN          False            18\n",
      "RU           True           200\n",
      "MOR          True            70\n",
      "EG           True            45\n"
     ]
    }
   ],
   "source": [
    "# Print out both the cars_per_cap and drives_right column as a DataFrame using loc or iloc.\n",
    "print(cars.iloc[:, 1:3])"
   ]
  },
  {
   "cell_type": "code",
   "execution_count": 35,
   "id": "0c5ffab5-7f4f-4f15-80f2-a512283ff47f",
   "metadata": {},
   "outputs": [
    {
     "name": "stdout",
     "output_type": "stream",
     "text": [
      "     drives_right  cars_per_cap\n",
      "US           True           809\n",
      "AUS         False           731\n",
      "JPN         False           588\n",
      "IN          False            18\n",
      "RU           True           200\n",
      "MOR          True            70\n",
      "EG           True            45\n"
     ]
    }
   ],
   "source": [
    "print(cars.loc[:, ['drives_right', 'cars_per_cap']])"
   ]
  },
  {
   "cell_type": "code",
   "execution_count": 38,
   "id": "1afffd12-4207-4b36-aed0-1e0d46414b25",
   "metadata": {},
   "outputs": [
    {
     "name": "stdout",
     "output_type": "stream",
     "text": [
      "     drives_right  cars_per_cap\n",
      "JPN         False           588\n",
      "IN          False            18\n",
      "RU           True           200\n",
      "MOR          True            70\n"
     ]
    }
   ],
   "source": [
    "print(cars.loc['JPN':'MOR', ['drives_right', 'cars_per_cap']])"
   ]
  },
  {
   "cell_type": "code",
   "execution_count": null,
   "id": "49b088e1-afc5-4c16-9e3a-4b001e092faa",
   "metadata": {},
   "outputs": [],
   "source": []
  }
 ],
 "metadata": {
  "kernelspec": {
   "display_name": "Python 3 (ipykernel)",
   "language": "python",
   "name": "python3"
  },
  "language_info": {
   "codemirror_mode": {
    "name": "ipython",
    "version": 3
   },
   "file_extension": ".py",
   "mimetype": "text/x-python",
   "name": "python",
   "nbconvert_exporter": "python",
   "pygments_lexer": "ipython3",
   "version": "3.9.7"
  }
 },
 "nbformat": 4,
 "nbformat_minor": 5
}
