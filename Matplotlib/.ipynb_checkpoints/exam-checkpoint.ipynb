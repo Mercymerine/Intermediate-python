{
 "cells": [
  {
   "cell_type": "code",
   "execution_count": 42,
   "id": "0c927ba2-600a-44ba-859c-b34e244f0b33",
   "metadata": {},
   "outputs": [],
   "source": [
    "import pandas as pd\n",
    "import matplotlib.pyplot as plt\n",
    "import numpy as np"
   ]
  },
  {
   "cell_type": "code",
   "execution_count": 43,
   "id": "73dc6d18-6b23-48c3-8ba4-4774fb9d0177",
   "metadata": {},
   "outputs": [],
   "source": [
    "year = [2010, 2011, 2012, 2013, 2014, 2015, 2016, 2017, 2018, 2019, 2020]\n",
    "male = [16293, 18019, 21210, 25310, 31432, 38216, 44431, 77259, 98882, 117221, 129707]\n",
    "female = [3827, 4157, 4893, 5807, 7846, 10778, 13506, 27590, 38438, 48569, 57337]\n",
    "total = [20120, 22176, 26103, 31117, 39278, 48994, 57937, 104849, 137320, 165790, 187331]"
   ]
  },
  {
   "cell_type": "code",
   "execution_count": 44,
   "id": "ac0c7aec-95df-4d18-b171-a69cb45300fb",
   "metadata": {},
   "outputs": [
    {
     "name": "stdout",
     "output_type": "stream",
     "text": [
      "{'years': [2010, 2011, 2012, 2013, 2014, 2015, 2016, 2017, 2018, 2019, 2020], 'males': [16293, 18019, 21210, 25310, 31432, 38216, 44431, 77259, 98882, 117221, 129707], 'females': [3827, 4157, 4893, 5807, 7846, 10778, 13506, 27590, 38438, 48569, 57337], 'totals': [20120, 22176, 26103, 31117, 39278, 48994, 57937, 104849, 137320, 165790, 187331]}\n"
     ]
    }
   ],
   "source": [
    "exams ={'years':year, 'males':male, 'females':female, 'totals':total}\n",
    "print(exams)"
   ]
  },
  {
   "cell_type": "code",
   "execution_count": 45,
   "id": "5370f1b2-dafc-49c0-af80-e109d419d5b4",
   "metadata": {},
   "outputs": [],
   "source": [
    "df = pd.DataFrame(exams)"
   ]
  },
  {
   "cell_type": "code",
   "execution_count": 46,
   "id": "ebb92cdf-86ac-4742-bf3d-ce65203cde50",
   "metadata": {},
   "outputs": [
    {
     "data": {
      "text/html": [
       "<div>\n",
       "<style scoped>\n",
       "    .dataframe tbody tr th:only-of-type {\n",
       "        vertical-align: middle;\n",
       "    }\n",
       "\n",
       "    .dataframe tbody tr th {\n",
       "        vertical-align: top;\n",
       "    }\n",
       "\n",
       "    .dataframe thead th {\n",
       "        text-align: right;\n",
       "    }\n",
       "</style>\n",
       "<table border=\"1\" class=\"dataframe\">\n",
       "  <thead>\n",
       "    <tr style=\"text-align: right;\">\n",
       "      <th></th>\n",
       "      <th>years</th>\n",
       "      <th>males</th>\n",
       "      <th>females</th>\n",
       "      <th>totals</th>\n",
       "    </tr>\n",
       "  </thead>\n",
       "  <tbody>\n",
       "    <tr>\n",
       "      <th>0</th>\n",
       "      <td>2010</td>\n",
       "      <td>16293</td>\n",
       "      <td>3827</td>\n",
       "      <td>20120</td>\n",
       "    </tr>\n",
       "    <tr>\n",
       "      <th>1</th>\n",
       "      <td>2011</td>\n",
       "      <td>18019</td>\n",
       "      <td>4157</td>\n",
       "      <td>22176</td>\n",
       "    </tr>\n",
       "    <tr>\n",
       "      <th>2</th>\n",
       "      <td>2012</td>\n",
       "      <td>21210</td>\n",
       "      <td>4893</td>\n",
       "      <td>26103</td>\n",
       "    </tr>\n",
       "    <tr>\n",
       "      <th>3</th>\n",
       "      <td>2013</td>\n",
       "      <td>25310</td>\n",
       "      <td>5807</td>\n",
       "      <td>31117</td>\n",
       "    </tr>\n",
       "    <tr>\n",
       "      <th>4</th>\n",
       "      <td>2014</td>\n",
       "      <td>31432</td>\n",
       "      <td>7846</td>\n",
       "      <td>39278</td>\n",
       "    </tr>\n",
       "    <tr>\n",
       "      <th>5</th>\n",
       "      <td>2015</td>\n",
       "      <td>38216</td>\n",
       "      <td>10778</td>\n",
       "      <td>48994</td>\n",
       "    </tr>\n",
       "    <tr>\n",
       "      <th>6</th>\n",
       "      <td>2016</td>\n",
       "      <td>44431</td>\n",
       "      <td>13506</td>\n",
       "      <td>57937</td>\n",
       "    </tr>\n",
       "    <tr>\n",
       "      <th>7</th>\n",
       "      <td>2017</td>\n",
       "      <td>77259</td>\n",
       "      <td>27590</td>\n",
       "      <td>104849</td>\n",
       "    </tr>\n",
       "    <tr>\n",
       "      <th>8</th>\n",
       "      <td>2018</td>\n",
       "      <td>98882</td>\n",
       "      <td>38438</td>\n",
       "      <td>137320</td>\n",
       "    </tr>\n",
       "    <tr>\n",
       "      <th>9</th>\n",
       "      <td>2019</td>\n",
       "      <td>117221</td>\n",
       "      <td>48569</td>\n",
       "      <td>165790</td>\n",
       "    </tr>\n",
       "    <tr>\n",
       "      <th>10</th>\n",
       "      <td>2020</td>\n",
       "      <td>129707</td>\n",
       "      <td>57337</td>\n",
       "      <td>187331</td>\n",
       "    </tr>\n",
       "  </tbody>\n",
       "</table>\n",
       "</div>"
      ],
      "text/plain": [
       "    years   males  females  totals\n",
       "0    2010   16293     3827   20120\n",
       "1    2011   18019     4157   22176\n",
       "2    2012   21210     4893   26103\n",
       "3    2013   25310     5807   31117\n",
       "4    2014   31432     7846   39278\n",
       "5    2015   38216    10778   48994\n",
       "6    2016   44431    13506   57937\n",
       "7    2017   77259    27590  104849\n",
       "8    2018   98882    38438  137320\n",
       "9    2019  117221    48569  165790\n",
       "10   2020  129707    57337  187331"
      ]
     },
     "execution_count": 46,
     "metadata": {},
     "output_type": "execute_result"
    }
   ],
   "source": [
    "df"
   ]
  },
  {
   "cell_type": "code",
   "execution_count": 47,
   "id": "cc5c09d9-04cf-4743-b75e-df43fe924145",
   "metadata": {},
   "outputs": [],
   "source": [
    "df.to_csv('exams.csv', index = True) "
   ]
  },
  {
   "cell_type": "code",
   "execution_count": 48,
   "id": "b1253685-c60a-436e-8fbd-025217974827",
   "metadata": {},
   "outputs": [
    {
     "data": {
      "text/html": [
       "<div>\n",
       "<style scoped>\n",
       "    .dataframe tbody tr th:only-of-type {\n",
       "        vertical-align: middle;\n",
       "    }\n",
       "\n",
       "    .dataframe tbody tr th {\n",
       "        vertical-align: top;\n",
       "    }\n",
       "\n",
       "    .dataframe thead th {\n",
       "        text-align: right;\n",
       "    }\n",
       "</style>\n",
       "<table border=\"1\" class=\"dataframe\">\n",
       "  <thead>\n",
       "    <tr style=\"text-align: right;\">\n",
       "      <th></th>\n",
       "      <th>Unnamed: 0</th>\n",
       "      <th>years</th>\n",
       "      <th>males</th>\n",
       "      <th>females</th>\n",
       "      <th>totals</th>\n",
       "    </tr>\n",
       "  </thead>\n",
       "  <tbody>\n",
       "    <tr>\n",
       "      <th>0</th>\n",
       "      <td>0</td>\n",
       "      <td>2010</td>\n",
       "      <td>16293</td>\n",
       "      <td>3827</td>\n",
       "      <td>20120</td>\n",
       "    </tr>\n",
       "    <tr>\n",
       "      <th>1</th>\n",
       "      <td>1</td>\n",
       "      <td>2011</td>\n",
       "      <td>18019</td>\n",
       "      <td>4157</td>\n",
       "      <td>22176</td>\n",
       "    </tr>\n",
       "    <tr>\n",
       "      <th>2</th>\n",
       "      <td>2</td>\n",
       "      <td>2012</td>\n",
       "      <td>21210</td>\n",
       "      <td>4893</td>\n",
       "      <td>26103</td>\n",
       "    </tr>\n",
       "    <tr>\n",
       "      <th>3</th>\n",
       "      <td>3</td>\n",
       "      <td>2013</td>\n",
       "      <td>25310</td>\n",
       "      <td>5807</td>\n",
       "      <td>31117</td>\n",
       "    </tr>\n",
       "    <tr>\n",
       "      <th>4</th>\n",
       "      <td>4</td>\n",
       "      <td>2014</td>\n",
       "      <td>31432</td>\n",
       "      <td>7846</td>\n",
       "      <td>39278</td>\n",
       "    </tr>\n",
       "    <tr>\n",
       "      <th>5</th>\n",
       "      <td>5</td>\n",
       "      <td>2015</td>\n",
       "      <td>38216</td>\n",
       "      <td>10778</td>\n",
       "      <td>48994</td>\n",
       "    </tr>\n",
       "    <tr>\n",
       "      <th>6</th>\n",
       "      <td>6</td>\n",
       "      <td>2016</td>\n",
       "      <td>44431</td>\n",
       "      <td>13506</td>\n",
       "      <td>57937</td>\n",
       "    </tr>\n",
       "    <tr>\n",
       "      <th>7</th>\n",
       "      <td>7</td>\n",
       "      <td>2017</td>\n",
       "      <td>77259</td>\n",
       "      <td>27590</td>\n",
       "      <td>104849</td>\n",
       "    </tr>\n",
       "    <tr>\n",
       "      <th>8</th>\n",
       "      <td>8</td>\n",
       "      <td>2018</td>\n",
       "      <td>98882</td>\n",
       "      <td>38438</td>\n",
       "      <td>137320</td>\n",
       "    </tr>\n",
       "    <tr>\n",
       "      <th>9</th>\n",
       "      <td>9</td>\n",
       "      <td>2019</td>\n",
       "      <td>117221</td>\n",
       "      <td>48569</td>\n",
       "      <td>165790</td>\n",
       "    </tr>\n",
       "    <tr>\n",
       "      <th>10</th>\n",
       "      <td>10</td>\n",
       "      <td>2020</td>\n",
       "      <td>129707</td>\n",
       "      <td>57337</td>\n",
       "      <td>187331</td>\n",
       "    </tr>\n",
       "  </tbody>\n",
       "</table>\n",
       "</div>"
      ],
      "text/plain": [
       "    Unnamed: 0  years   males  females  totals\n",
       "0            0   2010   16293     3827   20120\n",
       "1            1   2011   18019     4157   22176\n",
       "2            2   2012   21210     4893   26103\n",
       "3            3   2013   25310     5807   31117\n",
       "4            4   2014   31432     7846   39278\n",
       "5            5   2015   38216    10778   48994\n",
       "6            6   2016   44431    13506   57937\n",
       "7            7   2017   77259    27590  104849\n",
       "8            8   2018   98882    38438  137320\n",
       "9            9   2019  117221    48569  165790\n",
       "10          10   2020  129707    57337  187331"
      ]
     },
     "execution_count": 48,
     "metadata": {},
     "output_type": "execute_result"
    }
   ],
   "source": [
    "pd.read_csv('exams.csv')"
   ]
  },
  {
   "cell_type": "code",
   "execution_count": 49,
   "id": "3d5f793f-fb67-42f4-ab33-5a37387e0782",
   "metadata": {},
   "outputs": [],
   "source": [
    "year = df['years']\n",
    "male = df['males']\n",
    "female = df['females']\n",
    "yearlyTotal = df['totals']"
   ]
  },
  {
   "cell_type": "code",
   "execution_count": 56,
   "id": "1acc0c7b-3a88-43d1-8d38-7fd40ab2bfb5",
   "metadata": {},
   "outputs": [],
   "source": [
    "x_index = np.arange(len(year))"
   ]
  },
  {
   "cell_type": "markdown",
   "id": "605ff976-f9cc-483f-bf93-9536b049bfe7",
   "metadata": {},
   "source": [
    "## Line Graph"
   ]
  },
  {
   "cell_type": "code",
   "execution_count": 58,
   "id": "e20e417a-c86c-4dd1-8508-6f00daa6374b",
   "metadata": {},
   "outputs": [
    {
     "data": {
      "image/png": "[encoded data removed]",
      "text/plain": [
       "<Figure size 432x288 with 1 Axes>"
      ]
     },
     "metadata": {
      "needs_background": "light"
     },
     "output_type": "display_data"
    }
   ],
   "source": [
    "# Total\n",
    "plt.plot(x_index, yearlyTotal, label='Total')\n",
    "# Male\n",
    "plt.plot(x_index, male, label='Male')\n",
    "# Female\n",
    "plt.plot(x_index, female, label='Female')\n",
    "\n",
    "plt.legend()\n",
    "plt.xticks(ticks=x_index, labels=year)\n",
    "plt.title(\"Students taking AP CS Exam\")\n",
    "plt.xlabel(\"Year\")\n",
    "plt.ylabel(\"Number of Students\")\n",
    "plt.tight_layout()\n",
    "plt.show()"
   ]
  },
  {
   "cell_type": "markdown",
   "id": "2cde7ee3-4c3b-4e29-8890-1fd23b16afc4",
   "metadata": {},
   "source": [
    "## Bar Graph"
   ]
  },
  {
   "cell_type": "code",
   "execution_count": 65,
   "id": "cd39eabc-30b1-40d0-aec3-64797cc9b6d3",
   "metadata": {},
   "outputs": [
    {
     "data": {
      "image/png": "[encoded data removed]",
      "text/plain": [
       "<Figure size 432x288 with 1 Axes>"
      ]
     },
     "metadata": {
      "needs_background": "light"
     },
     "output_type": "display_data"
    }
   ],
   "source": [
    "# bar width\n",
    "width = 0.2\n",
    "\n",
    "# Total\n",
    "# plt.bar(x_index-width, yearlyTotal, width=width, label='Total')\n",
    "# Male\n",
    "plt.bar(x_index, male,  width=width, label='Male')\n",
    "# Female\n",
    "plt.bar(x_index+width, female,  width=width, label='Female')\n",
    "\n",
    "plt.legend()\n",
    "plt.xticks(ticks=x_index, labels=year)\n",
    "plt.title(\"Students taking AP CS Exam\")\n",
    "plt.xlabel(\"Year\")\n",
    "plt.ylabel(\"Number of Students\")\n",
    "plt.tight_layout()\n",
    "plt.show()"
   ]
  },
  {
   "cell_type": "code",
   "execution_count": 69,
   "id": "cfe6a27a-a348-415d-8051-8903dd4d6af8",
   "metadata": {},
   "outputs": [],
   "source": [
    "plt.style.use('bmh')"
   ]
  },
  {
   "cell_type": "code",
   "execution_count": 70,
   "id": "0d65ad04-6c46-4847-bcc4-5d02177b0471",
   "metadata": {},
   "outputs": [
    {
     "data": {
      "image/png": "[encoded data removed]",
      "text/plain": [
       "<Figure size 432x288 with 1 Axes>"
      ]
     },
     "metadata": {
      "needs_background": "light"
     },
     "output_type": "display_data"
    }
   ],
   "source": [
    "# bar width\n",
    "width = 0.2\n",
    "\n",
    "# Total\n",
    "# plt.bar(x_index-width, yearlyTotal, width=width, label='Total')\n",
    "# Male\n",
    "plt.barh(x_index, male,  height=width, label='Male')\n",
    "# Female\n",
    "plt.barh(x_index-width, female,  height=width, label='Female')\n",
    "\n",
    "plt.legend()\n",
    "plt.yticks(ticks=x_index, labels=year)\n",
    "plt.title(\"Students taking AP CS Exam\")\n",
    "plt.ylabel(\"Year\")\n",
    "plt.xlabel(\"Number of Students\")\n",
    "plt.tight_layout()\n",
    "plt.show()"
   ]
  },
  {
   "cell_type": "code",
   "execution_count": null,
   "id": "f3486108-582d-4f61-a2d6-1c60927454e5",
   "metadata": {},
   "outputs": [],
   "source": []
  }
 ],
 "metadata": {
  "kernelspec": {
   "display_name": "Python 3 (ipykernel)",
   "language": "python",
   "name": "python3"
  },
  "language_info": {
   "codemirror_mode": {
    "name": "ipython",
    "version": 3
   },
   "file_extension": ".py",
   "mimetype": "text/x-python",
   "name": "python",
   "nbconvert_exporter": "python",
   "pygments_lexer": "ipython3",
   "version": "3.9.7"
  }
 },
 "nbformat": 4,
 "nbformat_minor": 5
}
