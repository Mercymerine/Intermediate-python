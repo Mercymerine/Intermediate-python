{
 "cells": [
  {
   "cell_type": "markdown",
   "id": "ced640ff-892a-433e-a89d-e45f3474ea84",
   "metadata": {},
   "source": [
    "## RANDOM NUMBERS"
   ]
  },
  {
   "cell_type": "code",
   "execution_count": 1,
   "id": "75943fdc-f1f7-48f6-8827-c9edca08eaef",
   "metadata": {},
   "outputs": [],
   "source": [
    "import numpy as np"
   ]
  },
  {
   "cell_type": "code",
   "execution_count": 4,
   "id": "66b5cb1f-2c42-435a-98a1-2b1bdc9f2830",
   "metadata": {},
   "outputs": [
    {
     "data": {
      "text/plain": [
       "0.08433210580655792"
      ]
     },
     "execution_count": 4,
     "metadata": {},
     "output_type": "execute_result"
    }
   ],
   "source": [
    "np.random.rand() # generates pseudo random numbers"
   ]
  },
  {
   "cell_type": "code",
   "execution_count": 15,
   "id": "6a556ce0-fd24-4b95-8374-60e3af24fe7f",
   "metadata": {},
   "outputs": [
    {
     "data": {
      "text/plain": [
       "0.6964691855978616"
      ]
     },
     "execution_count": 15,
     "metadata": {},
     "output_type": "execute_result"
    }
   ],
   "source": [
    "np.random.seed(123) # Starting from a seed\n",
    "np.random.rand()"
   ]
  },
  {
   "cell_type": "code",
   "execution_count": 13,
   "id": "2d4e3af6-0fde-43c2-b493-5d593c51d1c6",
   "metadata": {},
   "outputs": [
    {
     "data": {
      "text/plain": [
       "0.28613933495037946"
      ]
     },
     "execution_count": 13,
     "metadata": {},
     "output_type": "execute_result"
    }
   ],
   "source": [
    "np.random.rand()"
   ]
  },
  {
   "cell_type": "code",
   "execution_count": 16,
   "id": "b59af749-f6be-4c4b-b6a4-52caa15ee854",
   "metadata": {},
   "outputs": [
    {
     "data": {
      "text/plain": [
       "0.6964691855978616"
      ]
     },
     "execution_count": 16,
     "metadata": {},
     "output_type": "execute_result"
    }
   ],
   "source": [
    "np.random.seed(123) # Starting from a seed\n",
    "np.random.rand()"
   ]
  },
  {
   "cell_type": "code",
   "execution_count": 17,
   "id": "f8604b25-bd0f-4390-bfe5-306ed1dd1c37",
   "metadata": {},
   "outputs": [
    {
     "data": {
      "text/plain": [
       "0.28613933495037946"
      ]
     },
     "execution_count": 17,
     "metadata": {},
     "output_type": "execute_result"
    }
   ],
   "source": [
    "np.random.rand() # if youu don't specify any arguments between, it generates a random float between 0 and 1"
   ]
  },
  {
   "cell_type": "code",
   "execution_count": 20,
   "id": "b0d60248-186a-445c-8ea3-8849f86d0322",
   "metadata": {},
   "outputs": [
    {
     "name": "stdout",
     "output_type": "stream",
     "text": [
      "0\n",
      "heads\n"
     ]
    }
   ],
   "source": [
    "np.random.seed(123) # Sets the random seeds such that the results are reproducible between simulations\n",
    "coin = np.random.randint(0, 2) # Randomly generate 0 or 1\n",
    "print(coin)\n",
    "\n",
    "if coin == 0:\n",
    "    print(\"heads\")\n",
    "else:\n",
    "    print(\"tails\")"
   ]
  },
  {
   "cell_type": "code",
   "execution_count": 23,
   "id": "c4cd134f-f1b4-4700-b5d3-622c422967a8",
   "metadata": {},
   "outputs": [
    {
     "name": "stdout",
     "output_type": "stream",
     "text": [
      "[[5 3 2 4 3 4 2]]\n"
     ]
    }
   ],
   "source": [
    "print(np.random.randint(low=1, high=7, size=(1, 7)))"
   ]
  },
  {
   "cell_type": "code",
   "execution_count": 24,
   "id": "ce176b4e-f296-424f-92d6-24b83362bd84",
   "metadata": {},
   "outputs": [
    {
     "name": "stdout",
     "output_type": "stream",
     "text": [
      "[[2 1 2 2 1 1 2]]\n"
     ]
    }
   ],
   "source": [
    "print(np.random.randint(low=1, high=7, size=(1, 7)))"
   ]
  },
  {
   "cell_type": "code",
   "execution_count": 26,
   "id": "422d80d8-63f8-43df-a7a8-30744ce8274b",
   "metadata": {},
   "outputs": [
    {
     "name": "stdout",
     "output_type": "stream",
     "text": [
      "[6]\n",
      "53\n"
     ]
    }
   ],
   "source": [
    "np.random.seed(123)\n",
    "step = 50\n",
    "\n",
    "dice = np.random.randint(low=1, high=7, size=(1))\n",
    "\n",
    "if dice <= 2:\n",
    "    step = step - 1\n",
    "elif dice >= 3 and dice <= 5:\n",
    "    step = step +1\n",
    "else:\n",
    "    step = step + np.random.randint(1, 7)\n",
    "\n",
    "print(dice)\n",
    "print(step)"
   ]
  },
  {
   "cell_type": "code",
   "execution_count": 28,
   "id": "cf7e1532-1bd1-4471-957a-ca2e045139f3",
   "metadata": {},
   "outputs": [
    {
     "name": "stdout",
     "output_type": "stream",
     "text": [
      "['heads', 'tails', 'heads', 'heads', 'heads', 'heads', 'heads', 'tails', 'tails', 'heads']\n"
     ]
    }
   ],
   "source": [
    "np.random.seed(123)\n",
    "outcomes = []\n",
    "\n",
    "for x in range(10):\n",
    "    coin = np.random.randint(0, 2)\n",
    "    if coin == 0:\n",
    "        outcomes.append(\"heads\")\n",
    "    else:\n",
    "        outcomes.append(\"tails\")\n",
    "print(outcomes)"
   ]
  },
  {
   "cell_type": "code",
   "execution_count": 29,
   "id": "2ce8a948-08af-4096-b7ad-d3c47ce9ca09",
   "metadata": {},
   "outputs": [
    {
     "name": "stdout",
     "output_type": "stream",
     "text": [
      "[0, 0, 1, 1, 1, 1, 1, 1, 2, 3, 3]\n"
     ]
    }
   ],
   "source": [
    "# Random Walk\n",
    "\n",
    "np.random.seed(123)\n",
    "tails = [0]\n",
    "\n",
    "for x in range(10):\n",
    "    coin = np.random.randint(0, 2)\n",
    "    tails.append(tails[x] + coin)\n",
    "print(tails)"
   ]
  },
  {
   "cell_type": "code",
   "execution_count": null,
   "id": "3f114fa6-0970-46e8-85dc-8ec311e18de4",
   "metadata": {},
   "outputs": [],
   "source": []
  }
 ],
 "metadata": {
  "kernelspec": {
   "display_name": "Python 3 (ipykernel)",
   "language": "python",
   "name": "python3"
  },
  "language_info": {
   "codemirror_mode": {
    "name": "ipython",
    "version": 3
   },
   "file_extension": ".py",
   "mimetype": "text/x-python",
   "name": "python",
   "nbconvert_exporter": "python",
   "pygments_lexer": "ipython3",
   "version": "3.9.7"
  }
 },
 "nbformat": 4,
 "nbformat_minor": 5
}
