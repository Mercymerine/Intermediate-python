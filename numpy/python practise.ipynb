{
 "cells": [
  {
   "cell_type": "code",
   "execution_count": 1,
   "id": "e9a08dbf-c1ae-4c97-a13b-93834edc4aa6",
   "metadata": {},
   "outputs": [
    {
     "name": "stdout",
     "output_type": "stream",
     "text": [
      "[True, 'Python']\n"
     ]
    }
   ],
   "source": [
    "x = True\n",
    "y = 'Python'\n",
    "print([x, y])"
   ]
  },
  {
   "cell_type": "code",
   "execution_count": 3,
   "id": "595a26d7-dbf3-439c-a00a-30083e4b5afd",
   "metadata": {},
   "outputs": [],
   "source": [
    "import numpy as np"
   ]
  },
  {
   "cell_type": "code",
   "execution_count": 4,
   "id": "3783fb22-dba2-42eb-aeee-a14f1795918e",
   "metadata": {},
   "outputs": [],
   "source": [
    "np_2d = np.array([[5,  6, 1, 2, 3, 4],\n",
    "                  [4,  5, 3, 2, 1, 8],\n",
    "                  [9, 10, 3, 7, 6, 5]])"
   ]
  },
  {
   "cell_type": "code",
   "execution_count": 9,
   "id": "85fb173a-7de9-4193-8bb6-ebe800af70ac",
   "metadata": {},
   "outputs": [
    {
     "data": {
      "text/plain": [
       "array([5, 6, 1, 2, 3, 4])"
      ]
     },
     "execution_count": 9,
     "metadata": {},
     "output_type": "execute_result"
    }
   ],
   "source": [
    "np_2d[0, :]"
   ]
  },
  {
   "cell_type": "code",
   "execution_count": 10,
   "id": "38c734ac-db2e-4d34-92fe-d35512701624",
   "metadata": {},
   "outputs": [
    {
     "name": "stdout",
     "output_type": "stream",
     "text": [
      "3.5\n"
     ]
    }
   ],
   "source": [
    "print(np.mean(np_2d[0, :]))"
   ]
  },
  {
   "cell_type": "code",
   "execution_count": 8,
   "id": "a309315c-1d9c-49bc-a292-4280256f76dd",
   "metadata": {},
   "outputs": [
    {
     "name": "stdout",
     "output_type": "stream",
     "text": [
      "1.707825127659933\n",
      "21\n",
      "3.5\n"
     ]
    }
   ],
   "source": [
    "print(np.std(np_2d[0, :]))\n",
    "print(np.sum(np_2d[0, :]))\n",
    "print(np.median(np_2d[0, :]))"
   ]
  },
  {
   "cell_type": "code",
   "execution_count": 11,
   "id": "6acead92-46fd-471e-a4f0-9167baed9f5e",
   "metadata": {},
   "outputs": [
    {
     "name": "stdout",
     "output_type": "stream",
     "text": [
      "[1, 2, 3, 4, 5, 6]\n"
     ]
    }
   ],
   "source": [
    "print(sorted(np_2d[0, :]))"
   ]
  },
  {
   "cell_type": "code",
   "execution_count": 16,
   "id": "80b8b0c0-64f5-4f59-bbb0-ee68a47379b0",
   "metadata": {},
   "outputs": [
    {
     "name": "stdout",
     "output_type": "stream",
     "text": [
      "1.56\n"
     ]
    }
   ],
   "source": [
    "np_heights = np.array([[1.75,1.65,1.8,1.5],[1.56,1.70,1.4,1.29],[1.49,1.68,1.3,1.8]])\n",
    "np.sort(np_heights[0])\n",
    "print(np.median(np_heights[:, 0]))"
   ]
  },
  {
   "cell_type": "code",
   "execution_count": null,
   "id": "925e620d-94aa-43b6-a1f9-86d5512b60bf",
   "metadata": {},
   "outputs": [],
   "source": []
  }
 ],
 "metadata": {
  "kernelspec": {
   "display_name": "Python 3 (ipykernel)",
   "language": "python",
   "name": "python3"
  },
  "language_info": {
   "codemirror_mode": {
    "name": "ipython",
    "version": 3
   },
   "file_extension": ".py",
   "mimetype": "text/x-python",
   "name": "python",
   "nbconvert_exporter": "python",
   "pygments_lexer": "ipython3",
   "version": "3.9.7"
  }
 },
 "nbformat": 4,
 "nbformat_minor": 5
}
