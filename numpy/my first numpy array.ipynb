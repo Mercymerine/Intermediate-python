{
 "cells": [
  {
   "cell_type": "code",
   "execution_count": 1,
   "id": "f558aa03-6e1e-44ae-84d8-62152c152741",
   "metadata": {},
   "outputs": [],
   "source": [
    "baseball = [180, 215, 210, 210, 188, 176, 209, 200]"
   ]
  },
  {
   "cell_type": "code",
   "execution_count": 2,
   "id": "cf50d3dd-30d2-432f-a801-3c7c5a712ab8",
   "metadata": {},
   "outputs": [],
   "source": [
    "import numpy as np"
   ]
  },
  {
   "cell_type": "code",
   "execution_count": 3,
   "id": "2a2dba6e-24de-4b38-ad85-8d3c1be8ee65",
   "metadata": {},
   "outputs": [],
   "source": [
    "np_baseball = np.array(baseball)"
   ]
  },
  {
   "cell_type": "code",
   "execution_count": 4,
   "id": "8a54fede-8317-40af-882a-e6389fd9ca44",
   "metadata": {},
   "outputs": [
    {
     "name": "stdout",
     "output_type": "stream",
     "text": [
      "<class 'numpy.ndarray'>\n"
     ]
    }
   ],
   "source": [
    "print(type(np_baseball))"
   ]
  },
  {
   "cell_type": "code",
   "execution_count": 5,
   "id": "84ab7d19-a50b-4373-946a-d56d8f3c0f6e",
   "metadata": {},
   "outputs": [
    {
     "name": "stdout",
     "output_type": "stream",
     "text": [
      "<class 'list'>\n"
     ]
    }
   ],
   "source": [
    "print(type(baseball))"
   ]
  },
  {
   "cell_type": "markdown",
   "id": "e3148fa3-f4d9-4a52-8bea-91551a02fc5b",
   "metadata": {},
   "source": [
    "## baseball players height."
   ]
  },
  {
   "cell_type": "code",
   "execution_count": 7,
   "id": "b4d2e85f-f1bd-4d63-a66c-11fe2be4f1b0",
   "metadata": {},
   "outputs": [
    {
     "ename": "TypeError",
     "evalue": "can't multiply sequence by non-int of type 'float'",
     "output_type": "error",
     "traceback": [
      "\u001b[0;31m---------------------------------------------------------------------------\u001b[0m",
      "\u001b[0;31mTypeError\u001b[0m                                 Traceback (most recent call last)",
      "\u001b[0;32m/tmp/ipykernel_4704/4285542533.py\u001b[0m in \u001b[0;36m<module>\u001b[0;34m\u001b[0m\n\u001b[0;32m----> 1\u001b[0;31m \u001b[0mbaseball_height\u001b[0m \u001b[0;34m=\u001b[0m \u001b[0mbaseball\u001b[0m \u001b[0;34m*\u001b[0m  \u001b[0;36m0.0254\u001b[0m\u001b[0;34m\u001b[0m\u001b[0;34m\u001b[0m\u001b[0m\n\u001b[0m",
      "\u001b[0;31mTypeError\u001b[0m: can't multiply sequence by non-int of type 'float'"
     ]
    }
   ],
   "source": [
    "baseball_height = baseball *  0.0254"
   ]
  },
  {
   "cell_type": "code",
   "execution_count": 8,
   "id": "cfc22279-c6af-489a-8836-474d9f4aad6a",
   "metadata": {},
   "outputs": [],
   "source": [
    "np_height_m = np_baseball * 0.0254"
   ]
  },
  {
   "cell_type": "code",
   "execution_count": 9,
   "id": "25303f84-4478-4352-b554-eaca3976ec81",
   "metadata": {},
   "outputs": [
    {
     "name": "stdout",
     "output_type": "stream",
     "text": [
      "[4.572  5.461  5.334  5.334  4.7752 4.4704 5.3086 5.08  ]\n"
     ]
    }
   ],
   "source": [
    "print(np_height_m)"
   ]
  },
  {
   "cell_type": "markdown",
   "id": "b8e889e9-407d-4e4e-a655-9c95841f5bc4",
   "metadata": {},
   "source": [
    "## Baseball player's BMI"
   ]
  },
  {
   "cell_type": "code",
   "execution_count": 10,
   "id": "cd481d95-2867-48a3-b14c-b9f1e5195022",
   "metadata": {
    "scrolled": true,
    "tags": []
   },
   "outputs": [
    {
     "name": "stdout",
     "output_type": "stream",
     "text": [
      "Help on class range in module builtins:\n",
      "\n",
      "class range(object)\n",
      " |  range(stop) -> range object\n",
      " |  range(start, stop[, step]) -> range object\n",
      " |  \n",
      " |  Return an object that produces a sequence of integers from start (inclusive)\n",
      " |  to stop (exclusive) by step.  range(i, j) produces i, i+1, i+2, ..., j-1.\n",
      " |  start defaults to 0, and stop is omitted!  range(4) produces 0, 1, 2, 3.\n",
      " |  These are exactly the valid indices for a list of 4 elements.\n",
      " |  When step is given, it specifies the increment (or decrement).\n",
      " |  \n",
      " |  Methods defined here:\n",
      " |  \n",
      " |  __bool__(self, /)\n",
      " |      self != 0\n",
      " |  \n",
      " |  __contains__(self, key, /)\n",
      " |      Return key in self.\n",
      " |  \n",
      " |  __eq__(self, value, /)\n",
      " |      Return self==value.\n",
      " |  \n",
      " |  __ge__(self, value, /)\n",
      " |      Return self>=value.\n",
      " |  \n",
      " |  __getattribute__(self, name, /)\n",
      " |      Return getattr(self, name).\n",
      " |  \n",
      " |  __getitem__(self, key, /)\n",
      " |      Return self[key].\n",
      " |  \n",
      " |  __gt__(self, value, /)\n",
      " |      Return self>value.\n",
      " |  \n",
      " |  __hash__(self, /)\n",
      " |      Return hash(self).\n",
      " |  \n",
      " |  __iter__(self, /)\n",
      " |      Implement iter(self).\n",
      " |  \n",
      " |  __le__(self, value, /)\n",
      " |      Return self<=value.\n",
      " |  \n",
      " |  __len__(self, /)\n",
      " |      Return len(self).\n",
      " |  \n",
      " |  __lt__(self, value, /)\n",
      " |      Return self<value.\n",
      " |  \n",
      " |  __ne__(self, value, /)\n",
      " |      Return self!=value.\n",
      " |  \n",
      " |  __reduce__(...)\n",
      " |      Helper for pickle.\n",
      " |  \n",
      " |  __repr__(self, /)\n",
      " |      Return repr(self).\n",
      " |  \n",
      " |  __reversed__(...)\n",
      " |      Return a reverse iterator.\n",
      " |  \n",
      " |  count(...)\n",
      " |      rangeobject.count(value) -> integer -- return number of occurrences of value\n",
      " |  \n",
      " |  index(...)\n",
      " |      rangeobject.index(value) -> integer -- return index of value.\n",
      " |      Raise ValueError if the value is not present.\n",
      " |  \n",
      " |  ----------------------------------------------------------------------\n",
      " |  Static methods defined here:\n",
      " |  \n",
      " |  __new__(*args, **kwargs) from builtins.type\n",
      " |      Create and return a new object.  See help(type) for accurate signature.\n",
      " |  \n",
      " |  ----------------------------------------------------------------------\n",
      " |  Data descriptors defined here:\n",
      " |  \n",
      " |  start\n",
      " |  \n",
      " |  step\n",
      " |  \n",
      " |  stop\n",
      "\n"
     ]
    }
   ],
   "source": [
    "help(range)"
   ]
  },
  {
   "cell_type": "code",
   "execution_count": 13,
   "id": "94611a76-e604-4544-9e6a-6fba205be98e",
   "metadata": {},
   "outputs": [
    {
     "name": "stdout",
     "output_type": "stream",
     "text": [
      "[70, 71, 72, 73, 74, 75, 76, 77, 78, 79]\n"
     ]
    }
   ],
   "source": [
    "height_in = list(range(70, 80))\n",
    "print(height_in)"
   ]
  },
  {
   "cell_type": "code",
   "execution_count": 16,
   "id": "4dc1c7c7-4957-4649-967b-117711c3cb29",
   "metadata": {},
   "outputs": [
    {
     "name": "stdout",
     "output_type": "stream",
     "text": [
      "[150, 151, 152, 153, 154, 155, 156, 157, 158, 159]\n"
     ]
    }
   ],
   "source": [
    "weight_lb = list(range(150,160))\n",
    "print(weight_lb)"
   ]
  },
  {
   "cell_type": "code",
   "execution_count": 18,
   "id": "3c8bf44c-a7e8-488d-8bce-8f8b93c508f6",
   "metadata": {},
   "outputs": [],
   "source": [
    "np_weight_kg = np.array(weight_lb) * 0.453592"
   ]
  },
  {
   "cell_type": "code",
   "execution_count": 19,
   "id": "2b9b182e-c0f1-4039-9d87-303a0f8ea3d6",
   "metadata": {},
   "outputs": [],
   "source": [
    "np_height_m = np.array(height_in) * 0.0254"
   ]
  },
  {
   "cell_type": "code",
   "execution_count": 20,
   "id": "ffe77fa4-11ee-4429-8fb8-066badde815b",
   "metadata": {},
   "outputs": [],
   "source": [
    "bmi = np_weight_kg / (np_height_m ** 2)"
   ]
  },
  {
   "cell_type": "code",
   "execution_count": 21,
   "id": "9c7c1d23-9ebe-4c9d-b470-964593842a02",
   "metadata": {},
   "outputs": [
    {
     "name": "stdout",
     "output_type": "stream",
     "text": [
      "[21.5225206  21.05999205 20.61467765 20.18569299 19.77221091 19.37345706\n",
      " 18.98870584 18.61727677 18.25853106 17.91186861]\n"
     ]
    }
   ],
   "source": [
    "print(bmi)"
   ]
  },
  {
   "cell_type": "code",
   "execution_count": 22,
   "id": "664f6e81-ac69-4b02-b922-189ed57d4af5",
   "metadata": {},
   "outputs": [
    {
     "name": "stdout",
     "output_type": "stream",
     "text": [
      "[False False  True  True  True  True  True  True  True  True]\n"
     ]
    }
   ],
   "source": [
    "light = bmi < 21\n",
    "print(light)"
   ]
  },
  {
   "cell_type": "code",
   "execution_count": 24,
   "id": "ab252fe9-822f-4de6-885b-198c47f4d42f",
   "metadata": {},
   "outputs": [
    {
     "name": "stdout",
     "output_type": "stream",
     "text": [
      "[20.61467765 20.18569299 19.77221091 19.37345706 18.98870584 18.61727677\n",
      " 18.25853106 17.91186861]\n"
     ]
    }
   ],
   "source": [
    "print(bmi[light])"
   ]
  },
  {
   "cell_type": "code",
   "execution_count": 26,
   "id": "4e859de1-f503-487c-9fa7-803a8f915ee2",
   "metadata": {},
   "outputs": [
    {
     "name": "stdout",
     "output_type": "stream",
     "text": [
      "8\n"
     ]
    }
   ],
   "source": [
    "print(len(bmi[light]))"
   ]
  },
  {
   "cell_type": "code",
   "execution_count": 27,
   "id": "a3d28eee-8398-40ef-a52a-274a38def81e",
   "metadata": {},
   "outputs": [
    {
     "name": "stdout",
     "output_type": "stream",
     "text": [
      "10\n"
     ]
    }
   ],
   "source": [
    "print(len(bmi))"
   ]
  },
  {
   "cell_type": "code",
   "execution_count": 28,
   "id": "31c08206-6f63-47d2-b952-3c6711e511b2",
   "metadata": {},
   "outputs": [
    {
     "data": {
      "text/plain": [
       "array([4, 5, 2])"
      ]
     },
     "execution_count": 28,
     "metadata": {},
     "output_type": "execute_result"
    }
   ],
   "source": [
    "np.array([True, 1, 2]) + np.array([3, 4, False])"
   ]
  },
  {
   "cell_type": "markdown",
   "id": "fb7eed22-6f5a-4108-bbf5-a62e58eb46a5",
   "metadata": {},
   "source": [
    "## Subsetting NumPy Arrays"
   ]
  },
  {
   "cell_type": "code",
   "execution_count": 29,
   "id": "315ae0d6-ff92-4532-b8bd-45a8812bfba8",
   "metadata": {},
   "outputs": [],
   "source": [
    "x = [\"a\", \"b\", \"c\"]"
   ]
  },
  {
   "cell_type": "code",
   "execution_count": 30,
   "id": "eea30726-b99b-480e-8457-65679da914a0",
   "metadata": {},
   "outputs": [
    {
     "name": "stdout",
     "output_type": "stream",
     "text": [
      "b\n"
     ]
    }
   ],
   "source": [
    "print(x[1])"
   ]
  },
  {
   "cell_type": "code",
   "execution_count": null,
   "id": "69635c98-5ba2-4096-91d3-871c1f63aeb1",
   "metadata": {},
   "outputs": [],
   "source": []
  }
 ],
 "metadata": {
  "kernelspec": {
   "display_name": "Python 3 (ipykernel)",
   "language": "python",
   "name": "python3"
  },
  "language_info": {
   "codemirror_mode": {
    "name": "ipython",
    "version": 3
   },
   "file_extension": ".py",
   "mimetype": "text/x-python",
   "name": "python",
   "nbconvert_exporter": "python",
   "pygments_lexer": "ipython3",
   "version": "3.9.7"
  }
 },
 "nbformat": 4,
 "nbformat_minor": 5
}
