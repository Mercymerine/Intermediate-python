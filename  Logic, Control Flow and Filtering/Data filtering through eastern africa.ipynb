{
 "cells": [
  {
   "cell_type": "code",
   "execution_count": 1,
   "id": "bff3ded7-7d19-4e86-9edb-662859608c81",
   "metadata": {},
   "outputs": [],
   "source": [
    "import pandas as pd\n",
    "import numpy as np"
   ]
  },
  {
   "cell_type": "code",
   "execution_count": 11,
   "id": "22f62d0e-9878-4c16-89e1-579181448a7b",
   "metadata": {},
   "outputs": [],
   "source": [
    "eastern = pd.read_csv(\"eastern africa.csv\", index_col = 0)"
   ]
  },
  {
   "cell_type": "code",
   "execution_count": 12,
   "id": "d188e15c-7331-4b00-b8cc-1afb05cff66a",
   "metadata": {},
   "outputs": [
    {
     "data": {
      "text/html": [
       "<div>\n",
       "<style scoped>\n",
       "    .dataframe tbody tr th:only-of-type {\n",
       "        vertical-align: middle;\n",
       "    }\n",
       "\n",
       "    .dataframe tbody tr th {\n",
       "        vertical-align: top;\n",
       "    }\n",
       "\n",
       "    .dataframe thead th {\n",
       "        text-align: right;\n",
       "    }\n",
       "</style>\n",
       "<table border=\"1\" class=\"dataframe\">\n",
       "  <thead>\n",
       "    <tr style=\"text-align: right;\">\n",
       "      <th></th>\n",
       "      <th>countries</th>\n",
       "      <th>capitals</th>\n",
       "      <th>population</th>\n",
       "    </tr>\n",
       "  </thead>\n",
       "  <tbody>\n",
       "    <tr>\n",
       "      <th>KEN</th>\n",
       "      <td>kenya</td>\n",
       "      <td>nairobi</td>\n",
       "      <td>53.7700</td>\n",
       "    </tr>\n",
       "    <tr>\n",
       "      <th>UG</th>\n",
       "      <td>uganda</td>\n",
       "      <td>kampala</td>\n",
       "      <td>45.7400</td>\n",
       "    </tr>\n",
       "    <tr>\n",
       "      <th>BUR</th>\n",
       "      <td>burundi</td>\n",
       "      <td>bujumbura</td>\n",
       "      <td>11.8900</td>\n",
       "    </tr>\n",
       "    <tr>\n",
       "      <th>RWA</th>\n",
       "      <td>rwanda</td>\n",
       "      <td>kigali</td>\n",
       "      <td>12.9500</td>\n",
       "    </tr>\n",
       "    <tr>\n",
       "      <th>TZ</th>\n",
       "      <td>tanzania</td>\n",
       "      <td>dodoma</td>\n",
       "      <td>59.7300</td>\n",
       "    </tr>\n",
       "    <tr>\n",
       "      <th>SOM</th>\n",
       "      <td>somalia</td>\n",
       "      <td>mogadishu</td>\n",
       "      <td>15.8900</td>\n",
       "    </tr>\n",
       "    <tr>\n",
       "      <th>ET</th>\n",
       "      <td>ethiopia</td>\n",
       "      <td>addis ababa</td>\n",
       "      <td>115.0000</td>\n",
       "    </tr>\n",
       "    <tr>\n",
       "      <th>DJ</th>\n",
       "      <td>djibouti</td>\n",
       "      <td>djibouti</td>\n",
       "      <td>0.9882</td>\n",
       "    </tr>\n",
       "    <tr>\n",
       "      <th>ER</th>\n",
       "      <td>eritrea</td>\n",
       "      <td>asmara</td>\n",
       "      <td>6.0810</td>\n",
       "    </tr>\n",
       "    <tr>\n",
       "      <th>SS</th>\n",
       "      <td>south sudan</td>\n",
       "      <td>juba</td>\n",
       "      <td>11.1900</td>\n",
       "    </tr>\n",
       "  </tbody>\n",
       "</table>\n",
       "</div>"
      ],
      "text/plain": [
       "       countries     capitals  population\n",
       "KEN        kenya      nairobi     53.7700\n",
       "UG        uganda      kampala     45.7400\n",
       "BUR      burundi    bujumbura     11.8900\n",
       "RWA       rwanda       kigali     12.9500\n",
       "TZ      tanzania       dodoma     59.7300\n",
       "SOM      somalia    mogadishu     15.8900\n",
       "ET      ethiopia  addis ababa    115.0000\n",
       "DJ      djibouti     djibouti      0.9882\n",
       "ER       eritrea       asmara      6.0810\n",
       "SS   south sudan         juba     11.1900"
      ]
     },
     "execution_count": 12,
     "metadata": {},
     "output_type": "execute_result"
    }
   ],
   "source": [
    "eastern"
   ]
  },
  {
   "cell_type": "code",
   "execution_count": 5,
   "id": "2ca0ca31-b36f-4c09-bbde-e4f849ec22a2",
   "metadata": {},
   "outputs": [
    {
     "data": {
      "text/plain": [
       "0     53.7700\n",
       "1     45.7400\n",
       "2     11.8900\n",
       "3     12.9500\n",
       "4     59.7300\n",
       "5     15.8900\n",
       "6    115.0000\n",
       "7      0.9882\n",
       "8      6.0810\n",
       "9     11.1900\n",
       "Name: population, dtype: float64"
      ]
     },
     "execution_count": 5,
     "metadata": {},
     "output_type": "execute_result"
    }
   ],
   "source": [
    "eastern[\"population\"]"
   ]
  },
  {
   "cell_type": "code",
   "execution_count": 14,
   "id": "95c2a40d-cdb7-47f5-aac4-26cae2816620",
   "metadata": {},
   "outputs": [
    {
     "data": {
      "text/plain": [
       "KEN     53.7700\n",
       "UG      45.7400\n",
       "BUR     11.8900\n",
       "RWA     12.9500\n",
       "TZ      59.7300\n",
       "SOM     15.8900\n",
       "ET     115.0000\n",
       "DJ       0.9882\n",
       "ER       6.0810\n",
       "SS      11.1900\n",
       "Name: population, dtype: float64"
      ]
     },
     "execution_count": 14,
     "metadata": {},
     "output_type": "execute_result"
    }
   ],
   "source": [
    "eastern.iloc[:, 2]"
   ]
  },
  {
   "cell_type": "code",
   "execution_count": 15,
   "id": "b7e6214e-f2d8-41a9-b588-403fb929e138",
   "metadata": {},
   "outputs": [
    {
     "data": {
      "text/html": [
       "<div>\n",
       "<style scoped>\n",
       "    .dataframe tbody tr th:only-of-type {\n",
       "        vertical-align: middle;\n",
       "    }\n",
       "\n",
       "    .dataframe tbody tr th {\n",
       "        vertical-align: top;\n",
       "    }\n",
       "\n",
       "    .dataframe thead th {\n",
       "        text-align: right;\n",
       "    }\n",
       "</style>\n",
       "<table border=\"1\" class=\"dataframe\">\n",
       "  <thead>\n",
       "    <tr style=\"text-align: right;\">\n",
       "      <th></th>\n",
       "      <th>population</th>\n",
       "    </tr>\n",
       "  </thead>\n",
       "  <tbody>\n",
       "    <tr>\n",
       "      <th>KEN</th>\n",
       "      <td>53.7700</td>\n",
       "    </tr>\n",
       "    <tr>\n",
       "      <th>UG</th>\n",
       "      <td>45.7400</td>\n",
       "    </tr>\n",
       "    <tr>\n",
       "      <th>BUR</th>\n",
       "      <td>11.8900</td>\n",
       "    </tr>\n",
       "    <tr>\n",
       "      <th>RWA</th>\n",
       "      <td>12.9500</td>\n",
       "    </tr>\n",
       "    <tr>\n",
       "      <th>TZ</th>\n",
       "      <td>59.7300</td>\n",
       "    </tr>\n",
       "    <tr>\n",
       "      <th>SOM</th>\n",
       "      <td>15.8900</td>\n",
       "    </tr>\n",
       "    <tr>\n",
       "      <th>ET</th>\n",
       "      <td>115.0000</td>\n",
       "    </tr>\n",
       "    <tr>\n",
       "      <th>DJ</th>\n",
       "      <td>0.9882</td>\n",
       "    </tr>\n",
       "    <tr>\n",
       "      <th>ER</th>\n",
       "      <td>6.0810</td>\n",
       "    </tr>\n",
       "    <tr>\n",
       "      <th>SS</th>\n",
       "      <td>11.1900</td>\n",
       "    </tr>\n",
       "  </tbody>\n",
       "</table>\n",
       "</div>"
      ],
      "text/plain": [
       "     population\n",
       "KEN     53.7700\n",
       "UG      45.7400\n",
       "BUR     11.8900\n",
       "RWA     12.9500\n",
       "TZ      59.7300\n",
       "SOM     15.8900\n",
       "ET     115.0000\n",
       "DJ       0.9882\n",
       "ER       6.0810\n",
       "SS      11.1900"
      ]
     },
     "execution_count": 15,
     "metadata": {},
     "output_type": "execute_result"
    }
   ],
   "source": [
    "eastern.loc[:, [\"population\"]]"
   ]
  },
  {
   "cell_type": "code",
   "execution_count": 17,
   "id": "e2a6c27e-0358-48e4-a11c-c223ebd9f463",
   "metadata": {},
   "outputs": [],
   "source": [
    "east = eastern[\"population\"] < 15"
   ]
  },
  {
   "cell_type": "code",
   "execution_count": 18,
   "id": "feea0517-60b4-43af-be13-dcbc22c754aa",
   "metadata": {},
   "outputs": [
    {
     "data": {
      "text/plain": [
       "KEN    False\n",
       "UG     False\n",
       "BUR     True\n",
       "RWA     True\n",
       "TZ     False\n",
       "SOM    False\n",
       "ET     False\n",
       "DJ      True\n",
       "ER      True\n",
       "SS      True\n",
       "Name: population, dtype: bool"
      ]
     },
     "execution_count": 18,
     "metadata": {},
     "output_type": "execute_result"
    }
   ],
   "source": [
    "east"
   ]
  },
  {
   "cell_type": "code",
   "execution_count": 19,
   "id": "e537cce1-268a-4f7a-8153-864f880a3f20",
   "metadata": {},
   "outputs": [
    {
     "data": {
      "text/html": [
       "<div>\n",
       "<style scoped>\n",
       "    .dataframe tbody tr th:only-of-type {\n",
       "        vertical-align: middle;\n",
       "    }\n",
       "\n",
       "    .dataframe tbody tr th {\n",
       "        vertical-align: top;\n",
       "    }\n",
       "\n",
       "    .dataframe thead th {\n",
       "        text-align: right;\n",
       "    }\n",
       "</style>\n",
       "<table border=\"1\" class=\"dataframe\">\n",
       "  <thead>\n",
       "    <tr style=\"text-align: right;\">\n",
       "      <th></th>\n",
       "      <th>countries</th>\n",
       "      <th>capitals</th>\n",
       "      <th>population</th>\n",
       "    </tr>\n",
       "  </thead>\n",
       "  <tbody>\n",
       "    <tr>\n",
       "      <th>BUR</th>\n",
       "      <td>burundi</td>\n",
       "      <td>bujumbura</td>\n",
       "      <td>11.8900</td>\n",
       "    </tr>\n",
       "    <tr>\n",
       "      <th>RWA</th>\n",
       "      <td>rwanda</td>\n",
       "      <td>kigali</td>\n",
       "      <td>12.9500</td>\n",
       "    </tr>\n",
       "    <tr>\n",
       "      <th>DJ</th>\n",
       "      <td>djibouti</td>\n",
       "      <td>djibouti</td>\n",
       "      <td>0.9882</td>\n",
       "    </tr>\n",
       "    <tr>\n",
       "      <th>ER</th>\n",
       "      <td>eritrea</td>\n",
       "      <td>asmara</td>\n",
       "      <td>6.0810</td>\n",
       "    </tr>\n",
       "    <tr>\n",
       "      <th>SS</th>\n",
       "      <td>south sudan</td>\n",
       "      <td>juba</td>\n",
       "      <td>11.1900</td>\n",
       "    </tr>\n",
       "  </tbody>\n",
       "</table>\n",
       "</div>"
      ],
      "text/plain": [
       "       countries   capitals  population\n",
       "BUR      burundi  bujumbura     11.8900\n",
       "RWA       rwanda     kigali     12.9500\n",
       "DJ      djibouti   djibouti      0.9882\n",
       "ER       eritrea     asmara      6.0810\n",
       "SS   south sudan       juba     11.1900"
      ]
     },
     "execution_count": 19,
     "metadata": {},
     "output_type": "execute_result"
    }
   ],
   "source": [
    "eastern[east]"
   ]
  },
  {
   "cell_type": "code",
   "execution_count": 20,
   "id": "678d07e4-62de-4988-8287-c5df6565fdce",
   "metadata": {},
   "outputs": [
    {
     "data": {
      "text/plain": [
       "KEN     True\n",
       "UG      True\n",
       "BUR    False\n",
       "RWA    False\n",
       "TZ      True\n",
       "SOM    False\n",
       "ET      True\n",
       "DJ     False\n",
       "ER     False\n",
       "SS     False\n",
       "Name: population, dtype: bool"
      ]
     },
     "execution_count": 20,
     "metadata": {},
     "output_type": "execute_result"
    }
   ],
   "source": [
    "np.logical_and(eastern[\"population\"] > 35, eastern[\"population\"] < 120)"
   ]
  },
  {
   "cell_type": "code",
   "execution_count": 21,
   "id": "b28daa9e-1b13-4420-87c1-b51f967e9346",
   "metadata": {},
   "outputs": [
    {
     "data": {
      "text/html": [
       "<div>\n",
       "<style scoped>\n",
       "    .dataframe tbody tr th:only-of-type {\n",
       "        vertical-align: middle;\n",
       "    }\n",
       "\n",
       "    .dataframe tbody tr th {\n",
       "        vertical-align: top;\n",
       "    }\n",
       "\n",
       "    .dataframe thead th {\n",
       "        text-align: right;\n",
       "    }\n",
       "</style>\n",
       "<table border=\"1\" class=\"dataframe\">\n",
       "  <thead>\n",
       "    <tr style=\"text-align: right;\">\n",
       "      <th></th>\n",
       "      <th>countries</th>\n",
       "      <th>capitals</th>\n",
       "      <th>population</th>\n",
       "    </tr>\n",
       "  </thead>\n",
       "  <tbody>\n",
       "    <tr>\n",
       "      <th>KEN</th>\n",
       "      <td>kenya</td>\n",
       "      <td>nairobi</td>\n",
       "      <td>53.77</td>\n",
       "    </tr>\n",
       "    <tr>\n",
       "      <th>UG</th>\n",
       "      <td>uganda</td>\n",
       "      <td>kampala</td>\n",
       "      <td>45.74</td>\n",
       "    </tr>\n",
       "    <tr>\n",
       "      <th>TZ</th>\n",
       "      <td>tanzania</td>\n",
       "      <td>dodoma</td>\n",
       "      <td>59.73</td>\n",
       "    </tr>\n",
       "    <tr>\n",
       "      <th>ET</th>\n",
       "      <td>ethiopia</td>\n",
       "      <td>addis ababa</td>\n",
       "      <td>115.00</td>\n",
       "    </tr>\n",
       "  </tbody>\n",
       "</table>\n",
       "</div>"
      ],
      "text/plain": [
       "    countries     capitals  population\n",
       "KEN     kenya      nairobi       53.77\n",
       "UG     uganda      kampala       45.74\n",
       "TZ   tanzania       dodoma       59.73\n",
       "ET   ethiopia  addis ababa      115.00"
      ]
     },
     "execution_count": 21,
     "metadata": {},
     "output_type": "execute_result"
    }
   ],
   "source": [
    "eastern[np.logical_and(eastern[\"population\"] > 35, eastern[\"population\"] < 120)]"
   ]
  },
  {
   "cell_type": "code",
   "execution_count": null,
   "id": "8a42368c-21c6-48b3-bf38-33e2d0cfaafa",
   "metadata": {},
   "outputs": [],
   "source": []
  }
 ],
 "metadata": {
  "kernelspec": {
   "display_name": "Python 3 (ipykernel)",
   "language": "python",
   "name": "python3"
  },
  "language_info": {
   "codemirror_mode": {
    "name": "ipython",
    "version": 3
   },
   "file_extension": ".py",
   "mimetype": "text/x-python",
   "name": "python",
   "nbconvert_exporter": "python",
   "pygments_lexer": "ipython3",
   "version": "3.9.7"
  }
 },
 "nbformat": 4,
 "nbformat_minor": 5
}
