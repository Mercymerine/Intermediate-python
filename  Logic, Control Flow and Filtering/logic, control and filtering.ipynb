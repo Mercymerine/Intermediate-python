{
 "cells": [
  {
   "cell_type": "code",
   "execution_count": 1,
   "id": "ccc838a4-2451-4cc9-80d2-a2aecf27dd00",
   "metadata": {},
   "outputs": [
    {
     "name": "stdout",
     "output_type": "stream",
     "text": [
      "the hallway is 11.25\n",
      "the kitchen is 18.0\n",
      "the living room is 20.0\n",
      "the bedroom is 10.75\n",
      "the bathroom is 9.5\n"
     ]
    }
   ],
   "source": [
    "house = [[\"hallway\", 11.25], \n",
    "         [\"kitchen\", 18.0], \n",
    "         [\"living room\", 20.0], \n",
    "         [\"bedroom\", 10.75], \n",
    "         [\"bathroom\", 9.50]]\n",
    "\n",
    "for x in house:\n",
    "    #print(x[0])\n",
    "    #print(x[1])\n",
    "     #print(\"the \" + str(x[0] + \" is \" + str(x[1]))) \n",
    "     print(f'the {x[0]} is {x[1]}')"
   ]
  },
  {
   "cell_type": "markdown",
   "id": "63125c61-b315-4939-bbf2-21597461437e",
   "metadata": {},
   "source": [
    "## 2D Numpy Arrays iteration"
   ]
  },
  {
   "cell_type": "code",
   "execution_count": 2,
   "id": "179a32a3-6429-474d-ba71-ae106c88fcbf",
   "metadata": {},
   "outputs": [],
   "source": [
    "import numpy as np"
   ]
  },
  {
   "cell_type": "code",
   "execution_count": 3,
   "id": "4559593f-dc57-472b-8b29-50a871c5ef68",
   "metadata": {},
   "outputs": [
    {
     "name": "stdout",
     "output_type": "stream",
     "text": [
      "[[ 1.73  1.68  1.71  1.89  1.79]\n",
      " [65.4  59.2  63.6  88.4  68.7 ]]\n",
      "[1.73 1.68 1.71 1.89 1.79]\n",
      "[65.4 59.2 63.6 88.4 68.7]\n",
      "1.73\n",
      "1.68\n",
      "1.71\n",
      "1.89\n",
      "1.79\n",
      "65.4\n",
      "59.2\n",
      "63.6\n",
      "88.4\n",
      "68.7\n"
     ]
    }
   ],
   "source": [
    "np_height = np.array([1.73, 1.68, 1.71, 1.89, 1.79])\n",
    "np_weight = np.array([65.4, 59.2, 63.6, 88.4, 68.7])\n",
    "\n",
    "#creating an array for both\n",
    "meas = np.array([np_height, np_weight])\n",
    "print(meas)\n",
    "\n",
    "#iterating over a 2D numpy array\n",
    "#The for loop simpy prints out each array\n",
    "for var in meas:\n",
    "    print(var)\n",
    "    \n",
    "#To iterate through each value we have to use: the function (np.nditer())\n",
    "for val in np.nditer(meas):\n",
    "    print(val)"
   ]
  },
  {
   "cell_type": "code",
   "execution_count": 4,
   "id": "5c842cea-247c-4898-bf09-d64ac668ae22",
   "metadata": {},
   "outputs": [],
   "source": [
    "import pandas as pd"
   ]
  },
  {
   "cell_type": "code",
   "execution_count": 5,
   "id": "78887490-05b4-4cc4-ab04-908e6a13a989",
   "metadata": {},
   "outputs": [],
   "source": [
    "country = ['Brazil', 'Russia', 'India', 'China', 'South Africa']\n",
    "capital = ['Brasilia', 'Moscow', 'New Delhi', 'Beijing', 'Pretoria']\n",
    "area = [8.516, 17.100, 3.286, 9.597, 1.221]\n",
    "population = ['200.4B', '143.5B', '1252.0B', '1357.0B', '52.9B']"
   ]
  },
  {
   "cell_type": "code",
   "execution_count": 6,
   "id": "a88dc6f5-a4a7-4e15-b8fe-04bc9c57ba09",
   "metadata": {},
   "outputs": [
    {
     "name": "stdout",
     "output_type": "stream",
     "text": [
      "{'country': ['Brazil', 'Russia', 'India', 'China', 'South Africa'], 'capital': ['Brasilia', 'Moscow', 'New Delhi', 'Beijing', 'Pretoria'], 'area': [8.516, 17.1, 3.286, 9.597, 1.221], 'population': ['200.4B', '143.5B', '1252.0B', '1357.0B', '52.9B']}\n"
     ]
    }
   ],
   "source": [
    "brics = {'country':country, 'capital':capital, 'area':area, 'population':population}\n",
    "print(brics)"
   ]
  },
  {
   "cell_type": "code",
   "execution_count": 7,
   "id": "e8315c76-3259-439e-a292-f15f6ed3e70b",
   "metadata": {},
   "outputs": [
    {
     "name": "stdout",
     "output_type": "stream",
     "text": [
      "        country    capital    area population\n",
      "0        Brazil   Brasilia   8.516     200.4B\n",
      "1        Russia     Moscow  17.100     143.5B\n",
      "2         India  New Delhi   3.286    1252.0B\n",
      "3         China    Beijing   9.597    1357.0B\n",
      "4  South Africa   Pretoria   1.221      52.9B\n"
     ]
    }
   ],
   "source": [
    "new_brics = pd.DataFrame(brics)\n",
    "print(new_brics)"
   ]
  },
  {
   "cell_type": "code",
   "execution_count": 8,
   "id": "9bd9df5b-2fa0-406b-af13-a61c344b8fc4",
   "metadata": {},
   "outputs": [
    {
     "name": "stdout",
     "output_type": "stream",
     "text": [
      "        country    capital    area population\n",
      "0        Brazil   Brasilia   8.516     200.4B\n",
      "1        Russia     Moscow  17.100     143.5B\n",
      "2         India  New Delhi   3.286    1252.0B\n",
      "3         China    Beijing   9.597    1357.0B\n",
      "4  South Africa   Pretoria   1.221      52.9B\n"
     ]
    }
   ],
   "source": [
    "print(new_brics)"
   ]
  },
  {
   "cell_type": "code",
   "execution_count": 9,
   "id": "23acd58e-0999-4478-a885-930ecc3702db",
   "metadata": {},
   "outputs": [
    {
     "name": "stdout",
     "output_type": "stream",
     "text": [
      "0     8.516\n",
      "1    17.100\n",
      "2     3.286\n",
      "3     9.597\n",
      "4     1.221\n",
      "Name: area, dtype: float64\n"
     ]
    }
   ],
   "source": [
    "print(new_brics['area'])"
   ]
  },
  {
   "cell_type": "code",
   "execution_count": 10,
   "id": "82e3f5e2-80c0-4203-a028-3faf457bdc2f",
   "metadata": {},
   "outputs": [
    {
     "name": "stdout",
     "output_type": "stream",
     "text": [
      "0     8.516\n",
      "1    17.100\n",
      "2     3.286\n",
      "3     9.597\n",
      "4     1.221\n",
      "Name: area, dtype: float64\n"
     ]
    }
   ],
   "source": [
    "brics_series = pd.Series(data = new_brics['area'], name='area')\n",
    "print(brics_series)"
   ]
  },
  {
   "cell_type": "code",
   "execution_count": 11,
   "id": "e387c0fb-8157-49b9-a986-9ac58cfb3dc0",
   "metadata": {},
   "outputs": [
    {
     "name": "stdout",
     "output_type": "stream",
     "text": [
      "         country    capital    area population\n",
      "BR        Brazil   Brasilia   8.516     200.4B\n",
      "RU        Russia     Moscow  17.100     143.5B\n",
      "IN         India  New Delhi   3.286    1252.0B\n",
      "CH         China    Beijing   9.597    1357.0B\n",
      "SA  South Africa   Pretoria   1.221      52.9B\n"
     ]
    }
   ],
   "source": [
    "row_labels = ['BR', 'RU', 'IN', 'CH', 'SA']\n",
    "new_brics.index = row_labels\n",
    "print(new_brics)"
   ]
  },
  {
   "cell_type": "code",
   "execution_count": 12,
   "id": "8448fdc4-9be7-4b23-9e08-b5c444c6ece6",
   "metadata": {},
   "outputs": [],
   "source": [
    "#brics = pd.DataFrame(brics, index = row_labels)\n",
    "#print(brics)"
   ]
  },
  {
   "cell_type": "code",
   "execution_count": 13,
   "id": "eeb8df4e-5dcc-497e-a64a-40eec28b56f9",
   "metadata": {},
   "outputs": [],
   "source": [
    "#brics = pd.DataFrame(new_brics, index = row_labels)\n",
    "#print(brics)"
   ]
  },
  {
   "cell_type": "code",
   "execution_count": 14,
   "id": "7c396ebd-50fb-4714-a9b0-4246250e6627",
   "metadata": {},
   "outputs": [],
   "source": [
    "new_brics.to_csv('brics information.csv', sep = ',', index = True)"
   ]
  },
  {
   "cell_type": "code",
   "execution_count": 15,
   "id": "a6418346-b7ea-41f4-9bd3-77114f6bc7c4",
   "metadata": {},
   "outputs": [
    {
     "name": "stdout",
     "output_type": "stream",
     "text": [
      "         country    capital    area population\n",
      "BR        Brazil   Brasilia   8.516     200.4B\n",
      "RU        Russia     Moscow  17.100     143.5B\n",
      "IN         India  New Delhi   3.286    1252.0B\n",
      "CH         China    Beijing   9.597    1357.0B\n",
      "SA  South Africa   Pretoria   1.221      52.9B\n"
     ]
    }
   ],
   "source": [
    "new_brics = pd.read_csv('brics information.csv', index_col = 0)\n",
    "print(new_brics)"
   ]
  },
  {
   "cell_type": "code",
   "execution_count": 16,
   "id": "f1dca2a9-0d9d-4acc-93ad-3187d0797c09",
   "metadata": {},
   "outputs": [
    {
     "data": {
      "text/html": [
       "<div>\n",
       "<style scoped>\n",
       "    .dataframe tbody tr th:only-of-type {\n",
       "        vertical-align: middle;\n",
       "    }\n",
       "\n",
       "    .dataframe tbody tr th {\n",
       "        vertical-align: top;\n",
       "    }\n",
       "\n",
       "    .dataframe thead th {\n",
       "        text-align: right;\n",
       "    }\n",
       "</style>\n",
       "<table border=\"1\" class=\"dataframe\">\n",
       "  <thead>\n",
       "    <tr style=\"text-align: right;\">\n",
       "      <th></th>\n",
       "      <th>country</th>\n",
       "      <th>capital</th>\n",
       "      <th>area</th>\n",
       "      <th>population</th>\n",
       "    </tr>\n",
       "  </thead>\n",
       "  <tbody>\n",
       "    <tr>\n",
       "      <th>BR</th>\n",
       "      <td>Brazil</td>\n",
       "      <td>Brasilia</td>\n",
       "      <td>8.516</td>\n",
       "      <td>200.4B</td>\n",
       "    </tr>\n",
       "    <tr>\n",
       "      <th>RU</th>\n",
       "      <td>Russia</td>\n",
       "      <td>Moscow</td>\n",
       "      <td>17.100</td>\n",
       "      <td>143.5B</td>\n",
       "    </tr>\n",
       "    <tr>\n",
       "      <th>IN</th>\n",
       "      <td>India</td>\n",
       "      <td>New Delhi</td>\n",
       "      <td>3.286</td>\n",
       "      <td>1252.0B</td>\n",
       "    </tr>\n",
       "    <tr>\n",
       "      <th>CH</th>\n",
       "      <td>China</td>\n",
       "      <td>Beijing</td>\n",
       "      <td>9.597</td>\n",
       "      <td>1357.0B</td>\n",
       "    </tr>\n",
       "    <tr>\n",
       "      <th>SA</th>\n",
       "      <td>South Africa</td>\n",
       "      <td>Pretoria</td>\n",
       "      <td>1.221</td>\n",
       "      <td>52.9B</td>\n",
       "    </tr>\n",
       "  </tbody>\n",
       "</table>\n",
       "</div>"
      ],
      "text/plain": [
       "         country    capital    area population\n",
       "BR        Brazil   Brasilia   8.516     200.4B\n",
       "RU        Russia     Moscow  17.100     143.5B\n",
       "IN         India  New Delhi   3.286    1252.0B\n",
       "CH         China    Beijing   9.597    1357.0B\n",
       "SA  South Africa   Pretoria   1.221      52.9B"
      ]
     },
     "execution_count": 16,
     "metadata": {},
     "output_type": "execute_result"
    }
   ],
   "source": [
    " new_brics"
   ]
  },
  {
   "cell_type": "markdown",
   "id": "75f3d712-2f27-4ac9-8ce7-f8e357c78c71",
   "metadata": {},
   "source": [
    "## Looping Data Structures"
   ]
  },
  {
   "cell_type": "code",
   "execution_count": 17,
   "id": "cf3c6596-6613-4605-9f8f-f35394654040",
   "metadata": {},
   "outputs": [
    {
     "name": "stdout",
     "output_type": "stream",
     "text": [
      "country\n",
      "capital\n",
      "area\n",
      "population\n"
     ]
    }
   ],
   "source": [
    "new_brics = pd.read_csv('brics information.csv', index_col = 0)\n",
    "# print(new_brics)\n",
    "\n",
    "# the for loop only give us the column\n",
    "for val in new_brics:\n",
    "    print(val)"
   ]
  },
  {
   "cell_type": "markdown",
   "id": "0e63085f-ceaf-476f-a56c-baf89a3ba4b2",
   "metadata": {},
   "source": [
    "### iterrows"
   ]
  },
  {
   "cell_type": "code",
   "execution_count": 18,
   "id": "42a7cfff-ba24-470f-9b9c-d6929eec48c8",
   "metadata": {},
   "outputs": [
    {
     "name": "stdout",
     "output_type": "stream",
     "text": [
      "BR\n",
      "country         Brazil\n",
      "capital       Brasilia\n",
      "area             8.516\n",
      "population      200.4B\n",
      "Name: BR, dtype: object\n",
      "RU\n",
      "country       Russia\n",
      "capital       Moscow\n",
      "area            17.1\n",
      "population    143.5B\n",
      "Name: RU, dtype: object\n",
      "IN\n",
      "country           India\n",
      "capital       New Delhi\n",
      "area              3.286\n",
      "population      1252.0B\n",
      "Name: IN, dtype: object\n",
      "CH\n",
      "country         China\n",
      "capital       Beijing\n",
      "area            9.597\n",
      "population    1357.0B\n",
      "Name: CH, dtype: object\n",
      "SA\n",
      "country       South Africa\n",
      "capital           Pretoria\n",
      "area                 1.221\n",
      "population           52.9B\n",
      "Name: SA, dtype: object\n"
     ]
    }
   ],
   "source": [
    "# It gives us the label of the row and the values of each row.\n",
    "for lab, row in new_brics.iterrows():\n",
    "    print(lab)\n",
    "    print(row)"
   ]
  },
  {
   "cell_type": "code",
   "execution_count": 19,
   "id": "52f4dc9b-797b-4d13-8e08-a66f73bd1dc8",
   "metadata": {},
   "outputs": [
    {
     "name": "stdout",
     "output_type": "stream",
     "text": [
      "BR: Brasilia\n",
      "RU: Moscow\n",
      "IN: New Delhi\n",
      "CH: Beijing\n",
      "SA: Pretoria\n"
     ]
    }
   ],
   "source": [
    "for lab, row in new_brics.iterrows():\n",
    "    print(lab + \": \" + row[\"capital\"])"
   ]
  },
  {
   "cell_type": "markdown",
   "id": "e3679166-0b3f-4787-be19-f97f2ec0dfab",
   "metadata": {},
   "source": [
    "## Adding a column"
   ]
  },
  {
   "cell_type": "code",
   "execution_count": 20,
   "id": "9cfe5336-1474-4623-b60b-d5566f924f16",
   "metadata": {},
   "outputs": [
    {
     "name": "stdout",
     "output_type": "stream",
     "text": [
      "         country    capital    area population  name_length\n",
      "BR        Brazil   Brasilia   8.516     200.4B         12.0\n",
      "RU        Russia     Moscow  17.100     143.5B         12.0\n",
      "IN         India  New Delhi   3.286    1252.0B         12.0\n",
      "CH         China    Beijing   9.597    1357.0B         12.0\n",
      "SA  South Africa   Pretoria   1.221      52.9B         12.0\n"
     ]
    }
   ],
   "source": [
    "for lab, rows in new_brics.iterrows():\n",
    "    \n",
    "    #Creating a series on every iteration but it is inefficient\n",
    "    new_brics.loc[lab, \"name_length\"] = len(row[\"country\"])\n",
    "\n",
    "print(new_brics)"
   ]
  },
  {
   "cell_type": "code",
   "execution_count": 21,
   "id": "33114da7-7c97-4b37-9106-f29e7154e33b",
   "metadata": {},
   "outputs": [
    {
     "data": {
      "text/html": [
       "<div>\n",
       "<style scoped>\n",
       "    .dataframe tbody tr th:only-of-type {\n",
       "        vertical-align: middle;\n",
       "    }\n",
       "\n",
       "    .dataframe tbody tr th {\n",
       "        vertical-align: top;\n",
       "    }\n",
       "\n",
       "    .dataframe thead th {\n",
       "        text-align: right;\n",
       "    }\n",
       "</style>\n",
       "<table border=\"1\" class=\"dataframe\">\n",
       "  <thead>\n",
       "    <tr style=\"text-align: right;\">\n",
       "      <th></th>\n",
       "      <th>country</th>\n",
       "      <th>capital</th>\n",
       "      <th>area</th>\n",
       "      <th>population</th>\n",
       "      <th>name_length</th>\n",
       "    </tr>\n",
       "  </thead>\n",
       "  <tbody>\n",
       "    <tr>\n",
       "      <th>BR</th>\n",
       "      <td>Brazil</td>\n",
       "      <td>Brasilia</td>\n",
       "      <td>8.516</td>\n",
       "      <td>200.4B</td>\n",
       "      <td>12.0</td>\n",
       "    </tr>\n",
       "    <tr>\n",
       "      <th>RU</th>\n",
       "      <td>Russia</td>\n",
       "      <td>Moscow</td>\n",
       "      <td>17.100</td>\n",
       "      <td>143.5B</td>\n",
       "      <td>12.0</td>\n",
       "    </tr>\n",
       "    <tr>\n",
       "      <th>IN</th>\n",
       "      <td>India</td>\n",
       "      <td>New Delhi</td>\n",
       "      <td>3.286</td>\n",
       "      <td>1252.0B</td>\n",
       "      <td>12.0</td>\n",
       "    </tr>\n",
       "    <tr>\n",
       "      <th>CH</th>\n",
       "      <td>China</td>\n",
       "      <td>Beijing</td>\n",
       "      <td>9.597</td>\n",
       "      <td>1357.0B</td>\n",
       "      <td>12.0</td>\n",
       "    </tr>\n",
       "    <tr>\n",
       "      <th>SA</th>\n",
       "      <td>South Africa</td>\n",
       "      <td>Pretoria</td>\n",
       "      <td>1.221</td>\n",
       "      <td>52.9B</td>\n",
       "      <td>12.0</td>\n",
       "    </tr>\n",
       "  </tbody>\n",
       "</table>\n",
       "</div>"
      ],
      "text/plain": [
       "         country    capital    area population  name_length\n",
       "BR        Brazil   Brasilia   8.516     200.4B         12.0\n",
       "RU        Russia     Moscow  17.100     143.5B         12.0\n",
       "IN         India  New Delhi   3.286    1252.0B         12.0\n",
       "CH         China    Beijing   9.597    1357.0B         12.0\n",
       "SA  South Africa   Pretoria   1.221      52.9B         12.0"
      ]
     },
     "execution_count": 21,
     "metadata": {},
     "output_type": "execute_result"
    }
   ],
   "source": [
    "new_brics"
   ]
  },
  {
   "cell_type": "code",
   "execution_count": 22,
   "id": "5c1fc059-2f02-4b3d-8561-987e4f08124e",
   "metadata": {},
   "outputs": [
    {
     "name": "stdout",
     "output_type": "stream",
     "text": [
      "         country    capital    area population  name_length\n",
      "BR        Brazil   Brasilia   8.516     200.4B            6\n",
      "RU        Russia     Moscow  17.100     143.5B            6\n",
      "IN         India  New Delhi   3.286    1252.0B            5\n",
      "CH         China    Beijing   9.597    1357.0B            5\n",
      "SA  South Africa   Pretoria   1.221      52.9B           12\n"
     ]
    }
   ],
   "source": [
    "new_brics['name_length'] = new_brics['country'].apply(len)\n",
    "print(new_brics)"
   ]
  },
  {
   "cell_type": "code",
   "execution_count": 23,
   "id": "bf22c690-413b-45ba-b904-9e03ffc24a7f",
   "metadata": {},
   "outputs": [
    {
     "data": {
      "text/html": [
       "<div>\n",
       "<style scoped>\n",
       "    .dataframe tbody tr th:only-of-type {\n",
       "        vertical-align: middle;\n",
       "    }\n",
       "\n",
       "    .dataframe tbody tr th {\n",
       "        vertical-align: top;\n",
       "    }\n",
       "\n",
       "    .dataframe thead th {\n",
       "        text-align: right;\n",
       "    }\n",
       "</style>\n",
       "<table border=\"1\" class=\"dataframe\">\n",
       "  <thead>\n",
       "    <tr style=\"text-align: right;\">\n",
       "      <th></th>\n",
       "      <th>country</th>\n",
       "      <th>capital</th>\n",
       "      <th>area</th>\n",
       "      <th>population</th>\n",
       "      <th>name_length</th>\n",
       "    </tr>\n",
       "  </thead>\n",
       "  <tbody>\n",
       "    <tr>\n",
       "      <th>BR</th>\n",
       "      <td>Brazil</td>\n",
       "      <td>Brasilia</td>\n",
       "      <td>8.516</td>\n",
       "      <td>200.4B</td>\n",
       "      <td>6</td>\n",
       "    </tr>\n",
       "    <tr>\n",
       "      <th>RU</th>\n",
       "      <td>Russia</td>\n",
       "      <td>Moscow</td>\n",
       "      <td>17.100</td>\n",
       "      <td>143.5B</td>\n",
       "      <td>6</td>\n",
       "    </tr>\n",
       "    <tr>\n",
       "      <th>IN</th>\n",
       "      <td>India</td>\n",
       "      <td>New Delhi</td>\n",
       "      <td>3.286</td>\n",
       "      <td>1252.0B</td>\n",
       "      <td>5</td>\n",
       "    </tr>\n",
       "    <tr>\n",
       "      <th>CH</th>\n",
       "      <td>China</td>\n",
       "      <td>Beijing</td>\n",
       "      <td>9.597</td>\n",
       "      <td>1357.0B</td>\n",
       "      <td>5</td>\n",
       "    </tr>\n",
       "    <tr>\n",
       "      <th>SA</th>\n",
       "      <td>South Africa</td>\n",
       "      <td>Pretoria</td>\n",
       "      <td>1.221</td>\n",
       "      <td>52.9B</td>\n",
       "      <td>12</td>\n",
       "    </tr>\n",
       "  </tbody>\n",
       "</table>\n",
       "</div>"
      ],
      "text/plain": [
       "         country    capital    area population  name_length\n",
       "BR        Brazil   Brasilia   8.516     200.4B            6\n",
       "RU        Russia     Moscow  17.100     143.5B            6\n",
       "IN         India  New Delhi   3.286    1252.0B            5\n",
       "CH         China    Beijing   9.597    1357.0B            5\n",
       "SA  South Africa   Pretoria   1.221      52.9B           12"
      ]
     },
     "execution_count": 23,
     "metadata": {},
     "output_type": "execute_result"
    }
   ],
   "source": [
    "new_brics"
   ]
  },
  {
   "cell_type": "markdown",
   "id": "f18127df-16e9-4e63-800c-ee7593f2790e",
   "metadata": {},
   "source": [
    "## SQUARE BRACKETS; allow column access: brics[['country', 'capital']] and row access through only slicing: brics[1:4]\n",
    "                    \n",
    "## ROW AND COLUMN ACCESSING; loc and iloc"
   ]
  },
  {
   "cell_type": "code",
   "execution_count": 24,
   "id": "89914383-e406-4cef-b46b-6da3d20cc323",
   "metadata": {},
   "outputs": [
    {
     "data": {
      "text/plain": [
       "country        Russia\n",
       "capital        Moscow\n",
       "area             17.1\n",
       "population     143.5B\n",
       "name_length         6\n",
       "Name: RU, dtype: object"
      ]
     },
     "execution_count": 24,
     "metadata": {},
     "output_type": "execute_result"
    }
   ],
   "source": [
    "#loc\n",
    "\n",
    "new_brics.loc['RU']"
   ]
  },
  {
   "cell_type": "code",
   "execution_count": 25,
   "id": "88f83a7c-53a6-4bd7-b726-46cc30be0858",
   "metadata": {},
   "outputs": [
    {
     "data": {
      "text/html": [
       "<div>\n",
       "<style scoped>\n",
       "    .dataframe tbody tr th:only-of-type {\n",
       "        vertical-align: middle;\n",
       "    }\n",
       "\n",
       "    .dataframe tbody tr th {\n",
       "        vertical-align: top;\n",
       "    }\n",
       "\n",
       "    .dataframe thead th {\n",
       "        text-align: right;\n",
       "    }\n",
       "</style>\n",
       "<table border=\"1\" class=\"dataframe\">\n",
       "  <thead>\n",
       "    <tr style=\"text-align: right;\">\n",
       "      <th></th>\n",
       "      <th>country</th>\n",
       "      <th>capital</th>\n",
       "      <th>area</th>\n",
       "      <th>population</th>\n",
       "      <th>name_length</th>\n",
       "    </tr>\n",
       "  </thead>\n",
       "  <tbody>\n",
       "    <tr>\n",
       "      <th>RU</th>\n",
       "      <td>Russia</td>\n",
       "      <td>Moscow</td>\n",
       "      <td>17.1</td>\n",
       "      <td>143.5B</td>\n",
       "      <td>6</td>\n",
       "    </tr>\n",
       "  </tbody>\n",
       "</table>\n",
       "</div>"
      ],
      "text/plain": [
       "   country capital  area population  name_length\n",
       "RU  Russia  Moscow  17.1     143.5B            6"
      ]
     },
     "execution_count": 25,
     "metadata": {},
     "output_type": "execute_result"
    }
   ],
   "source": [
    "#Dataframe output\n",
    "new_brics.loc[['RU']]"
   ]
  },
  {
   "cell_type": "markdown",
   "id": "811edf8f-b086-4b98-a718-de13978dca07",
   "metadata": {},
   "source": [
    "## Series a column of multiple rows\n",
    "## DataFrame multiple columns with multiple rows"
   ]
  },
  {
   "cell_type": "markdown",
   "id": "d4a8099b-48c6-4a3c-99ad-1403ecd3ee0e",
   "metadata": {},
   "source": [
    "### loc"
   ]
  },
  {
   "cell_type": "code",
   "execution_count": 26,
   "id": "feb0abca-e16b-485d-a9ec-c4a74743383b",
   "metadata": {},
   "outputs": [
    {
     "data": {
      "text/html": [
       "<div>\n",
       "<style scoped>\n",
       "    .dataframe tbody tr th:only-of-type {\n",
       "        vertical-align: middle;\n",
       "    }\n",
       "\n",
       "    .dataframe tbody tr th {\n",
       "        vertical-align: top;\n",
       "    }\n",
       "\n",
       "    .dataframe thead th {\n",
       "        text-align: right;\n",
       "    }\n",
       "</style>\n",
       "<table border=\"1\" class=\"dataframe\">\n",
       "  <thead>\n",
       "    <tr style=\"text-align: right;\">\n",
       "      <th></th>\n",
       "      <th>country</th>\n",
       "      <th>capital</th>\n",
       "      <th>area</th>\n",
       "      <th>population</th>\n",
       "      <th>name_length</th>\n",
       "    </tr>\n",
       "  </thead>\n",
       "  <tbody>\n",
       "    <tr>\n",
       "      <th>RU</th>\n",
       "      <td>Russia</td>\n",
       "      <td>Moscow</td>\n",
       "      <td>17.100</td>\n",
       "      <td>143.5B</td>\n",
       "      <td>6</td>\n",
       "    </tr>\n",
       "    <tr>\n",
       "      <th>IN</th>\n",
       "      <td>India</td>\n",
       "      <td>New Delhi</td>\n",
       "      <td>3.286</td>\n",
       "      <td>1252.0B</td>\n",
       "      <td>5</td>\n",
       "    </tr>\n",
       "    <tr>\n",
       "      <th>CH</th>\n",
       "      <td>China</td>\n",
       "      <td>Beijing</td>\n",
       "      <td>9.597</td>\n",
       "      <td>1357.0B</td>\n",
       "      <td>5</td>\n",
       "    </tr>\n",
       "  </tbody>\n",
       "</table>\n",
       "</div>"
      ],
      "text/plain": [
       "   country    capital    area population  name_length\n",
       "RU  Russia     Moscow  17.100     143.5B            6\n",
       "IN   India  New Delhi   3.286    1252.0B            5\n",
       "CH   China    Beijing   9.597    1357.0B            5"
      ]
     },
     "execution_count": 26,
     "metadata": {},
     "output_type": "execute_result"
    }
   ],
   "source": [
    "new_brics.loc[['RU', 'IN', 'CH']]"
   ]
  },
  {
   "cell_type": "code",
   "execution_count": 27,
   "id": "2c564666-14e9-455d-9641-473f181b03e0",
   "metadata": {},
   "outputs": [
    {
     "data": {
      "text/html": [
       "<div>\n",
       "<style scoped>\n",
       "    .dataframe tbody tr th:only-of-type {\n",
       "        vertical-align: middle;\n",
       "    }\n",
       "\n",
       "    .dataframe tbody tr th {\n",
       "        vertical-align: top;\n",
       "    }\n",
       "\n",
       "    .dataframe thead th {\n",
       "        text-align: right;\n",
       "    }\n",
       "</style>\n",
       "<table border=\"1\" class=\"dataframe\">\n",
       "  <thead>\n",
       "    <tr style=\"text-align: right;\">\n",
       "      <th></th>\n",
       "      <th>country</th>\n",
       "      <th>capital</th>\n",
       "    </tr>\n",
       "  </thead>\n",
       "  <tbody>\n",
       "    <tr>\n",
       "      <th>RU</th>\n",
       "      <td>Russia</td>\n",
       "      <td>Moscow</td>\n",
       "    </tr>\n",
       "    <tr>\n",
       "      <th>IN</th>\n",
       "      <td>India</td>\n",
       "      <td>New Delhi</td>\n",
       "    </tr>\n",
       "    <tr>\n",
       "      <th>CH</th>\n",
       "      <td>China</td>\n",
       "      <td>Beijing</td>\n",
       "    </tr>\n",
       "  </tbody>\n",
       "</table>\n",
       "</div>"
      ],
      "text/plain": [
       "   country    capital\n",
       "RU  Russia     Moscow\n",
       "IN   India  New Delhi\n",
       "CH   China    Beijing"
      ]
     },
     "execution_count": 27,
     "metadata": {},
     "output_type": "execute_result"
    }
   ],
   "source": [
    "new_brics.loc[['RU', 'IN', 'CH'], ['country', 'capital']]"
   ]
  },
  {
   "cell_type": "code",
   "execution_count": 28,
   "id": "bacb5ba8-8755-4da3-852f-d02e62c7fae4",
   "metadata": {},
   "outputs": [
    {
     "data": {
      "text/html": [
       "<div>\n",
       "<style scoped>\n",
       "    .dataframe tbody tr th:only-of-type {\n",
       "        vertical-align: middle;\n",
       "    }\n",
       "\n",
       "    .dataframe tbody tr th {\n",
       "        vertical-align: top;\n",
       "    }\n",
       "\n",
       "    .dataframe thead th {\n",
       "        text-align: right;\n",
       "    }\n",
       "</style>\n",
       "<table border=\"1\" class=\"dataframe\">\n",
       "  <thead>\n",
       "    <tr style=\"text-align: right;\">\n",
       "      <th></th>\n",
       "      <th>country</th>\n",
       "      <th>capital</th>\n",
       "    </tr>\n",
       "  </thead>\n",
       "  <tbody>\n",
       "    <tr>\n",
       "      <th>BR</th>\n",
       "      <td>Brazil</td>\n",
       "      <td>Brasilia</td>\n",
       "    </tr>\n",
       "    <tr>\n",
       "      <th>RU</th>\n",
       "      <td>Russia</td>\n",
       "      <td>Moscow</td>\n",
       "    </tr>\n",
       "    <tr>\n",
       "      <th>IN</th>\n",
       "      <td>India</td>\n",
       "      <td>New Delhi</td>\n",
       "    </tr>\n",
       "    <tr>\n",
       "      <th>CH</th>\n",
       "      <td>China</td>\n",
       "      <td>Beijing</td>\n",
       "    </tr>\n",
       "    <tr>\n",
       "      <th>SA</th>\n",
       "      <td>South Africa</td>\n",
       "      <td>Pretoria</td>\n",
       "    </tr>\n",
       "  </tbody>\n",
       "</table>\n",
       "</div>"
      ],
      "text/plain": [
       "         country    capital\n",
       "BR        Brazil   Brasilia\n",
       "RU        Russia     Moscow\n",
       "IN         India  New Delhi\n",
       "CH         China    Beijing\n",
       "SA  South Africa   Pretoria"
      ]
     },
     "execution_count": 28,
     "metadata": {},
     "output_type": "execute_result"
    }
   ],
   "source": [
    "new_brics.loc[:, ['country', 'capital']]"
   ]
  },
  {
   "cell_type": "markdown",
   "id": "11a447cb-d0f4-4edc-be66-6f8da550ab98",
   "metadata": {},
   "source": [
    "### iloc\n"
   ]
  },
  {
   "cell_type": "code",
   "execution_count": 29,
   "id": "819485ec-f5f9-41cb-8ba6-ea4911b240eb",
   "metadata": {},
   "outputs": [
    {
     "data": {
      "text/html": [
       "<div>\n",
       "<style scoped>\n",
       "    .dataframe tbody tr th:only-of-type {\n",
       "        vertical-align: middle;\n",
       "    }\n",
       "\n",
       "    .dataframe tbody tr th {\n",
       "        vertical-align: top;\n",
       "    }\n",
       "\n",
       "    .dataframe thead th {\n",
       "        text-align: right;\n",
       "    }\n",
       "</style>\n",
       "<table border=\"1\" class=\"dataframe\">\n",
       "  <thead>\n",
       "    <tr style=\"text-align: right;\">\n",
       "      <th></th>\n",
       "      <th>country</th>\n",
       "      <th>capital</th>\n",
       "      <th>area</th>\n",
       "      <th>population</th>\n",
       "      <th>name_length</th>\n",
       "    </tr>\n",
       "  </thead>\n",
       "  <tbody>\n",
       "    <tr>\n",
       "      <th>RU</th>\n",
       "      <td>Russia</td>\n",
       "      <td>Moscow</td>\n",
       "      <td>17.1</td>\n",
       "      <td>143.5B</td>\n",
       "      <td>6</td>\n",
       "    </tr>\n",
       "  </tbody>\n",
       "</table>\n",
       "</div>"
      ],
      "text/plain": [
       "   country capital  area population  name_length\n",
       "RU  Russia  Moscow  17.1     143.5B            6"
      ]
     },
     "execution_count": 29,
     "metadata": {},
     "output_type": "execute_result"
    }
   ],
   "source": [
    "new_brics.iloc[[1]]"
   ]
  },
  {
   "cell_type": "code",
   "execution_count": 30,
   "id": "70791ddf-97b2-4d2b-8448-d24554e24579",
   "metadata": {},
   "outputs": [
    {
     "data": {
      "text/html": [
       "<div>\n",
       "<style scoped>\n",
       "    .dataframe tbody tr th:only-of-type {\n",
       "        vertical-align: middle;\n",
       "    }\n",
       "\n",
       "    .dataframe tbody tr th {\n",
       "        vertical-align: top;\n",
       "    }\n",
       "\n",
       "    .dataframe thead th {\n",
       "        text-align: right;\n",
       "    }\n",
       "</style>\n",
       "<table border=\"1\" class=\"dataframe\">\n",
       "  <thead>\n",
       "    <tr style=\"text-align: right;\">\n",
       "      <th></th>\n",
       "      <th>country</th>\n",
       "      <th>capital</th>\n",
       "      <th>area</th>\n",
       "      <th>population</th>\n",
       "      <th>name_length</th>\n",
       "    </tr>\n",
       "  </thead>\n",
       "  <tbody>\n",
       "    <tr>\n",
       "      <th>RU</th>\n",
       "      <td>Russia</td>\n",
       "      <td>Moscow</td>\n",
       "      <td>17.100</td>\n",
       "      <td>143.5B</td>\n",
       "      <td>6</td>\n",
       "    </tr>\n",
       "    <tr>\n",
       "      <th>IN</th>\n",
       "      <td>India</td>\n",
       "      <td>New Delhi</td>\n",
       "      <td>3.286</td>\n",
       "      <td>1252.0B</td>\n",
       "      <td>5</td>\n",
       "    </tr>\n",
       "    <tr>\n",
       "      <th>CH</th>\n",
       "      <td>China</td>\n",
       "      <td>Beijing</td>\n",
       "      <td>9.597</td>\n",
       "      <td>1357.0B</td>\n",
       "      <td>5</td>\n",
       "    </tr>\n",
       "  </tbody>\n",
       "</table>\n",
       "</div>"
      ],
      "text/plain": [
       "   country    capital    area population  name_length\n",
       "RU  Russia     Moscow  17.100     143.5B            6\n",
       "IN   India  New Delhi   3.286    1252.0B            5\n",
       "CH   China    Beijing   9.597    1357.0B            5"
      ]
     },
     "execution_count": 30,
     "metadata": {},
     "output_type": "execute_result"
    }
   ],
   "source": [
    "new_brics.iloc[[1, 2, 3]]"
   ]
  },
  {
   "cell_type": "code",
   "execution_count": 31,
   "id": "3916e028-13de-4cbb-899d-a7472273a516",
   "metadata": {},
   "outputs": [
    {
     "data": {
      "text/html": [
       "<div>\n",
       "<style scoped>\n",
       "    .dataframe tbody tr th:only-of-type {\n",
       "        vertical-align: middle;\n",
       "    }\n",
       "\n",
       "    .dataframe tbody tr th {\n",
       "        vertical-align: top;\n",
       "    }\n",
       "\n",
       "    .dataframe thead th {\n",
       "        text-align: right;\n",
       "    }\n",
       "</style>\n",
       "<table border=\"1\" class=\"dataframe\">\n",
       "  <thead>\n",
       "    <tr style=\"text-align: right;\">\n",
       "      <th></th>\n",
       "      <th>country</th>\n",
       "      <th>capital</th>\n",
       "    </tr>\n",
       "  </thead>\n",
       "  <tbody>\n",
       "    <tr>\n",
       "      <th>RU</th>\n",
       "      <td>Russia</td>\n",
       "      <td>Moscow</td>\n",
       "    </tr>\n",
       "    <tr>\n",
       "      <th>IN</th>\n",
       "      <td>India</td>\n",
       "      <td>New Delhi</td>\n",
       "    </tr>\n",
       "    <tr>\n",
       "      <th>CH</th>\n",
       "      <td>China</td>\n",
       "      <td>Beijing</td>\n",
       "    </tr>\n",
       "  </tbody>\n",
       "</table>\n",
       "</div>"
      ],
      "text/plain": [
       "   country    capital\n",
       "RU  Russia     Moscow\n",
       "IN   India  New Delhi\n",
       "CH   China    Beijing"
      ]
     },
     "execution_count": 31,
     "metadata": {},
     "output_type": "execute_result"
    }
   ],
   "source": [
    "new_brics.iloc[[1, 2, 3], [0, 1]]"
   ]
  },
  {
   "cell_type": "code",
   "execution_count": 32,
   "id": "bc965c57-c372-45b3-adf8-cb78399bf18b",
   "metadata": {},
   "outputs": [
    {
     "data": {
      "text/html": [
       "<div>\n",
       "<style scoped>\n",
       "    .dataframe tbody tr th:only-of-type {\n",
       "        vertical-align: middle;\n",
       "    }\n",
       "\n",
       "    .dataframe tbody tr th {\n",
       "        vertical-align: top;\n",
       "    }\n",
       "\n",
       "    .dataframe thead th {\n",
       "        text-align: right;\n",
       "    }\n",
       "</style>\n",
       "<table border=\"1\" class=\"dataframe\">\n",
       "  <thead>\n",
       "    <tr style=\"text-align: right;\">\n",
       "      <th></th>\n",
       "      <th>country</th>\n",
       "      <th>capital</th>\n",
       "    </tr>\n",
       "  </thead>\n",
       "  <tbody>\n",
       "    <tr>\n",
       "      <th>BR</th>\n",
       "      <td>Brazil</td>\n",
       "      <td>Brasilia</td>\n",
       "    </tr>\n",
       "    <tr>\n",
       "      <th>RU</th>\n",
       "      <td>Russia</td>\n",
       "      <td>Moscow</td>\n",
       "    </tr>\n",
       "    <tr>\n",
       "      <th>IN</th>\n",
       "      <td>India</td>\n",
       "      <td>New Delhi</td>\n",
       "    </tr>\n",
       "    <tr>\n",
       "      <th>CH</th>\n",
       "      <td>China</td>\n",
       "      <td>Beijing</td>\n",
       "    </tr>\n",
       "    <tr>\n",
       "      <th>SA</th>\n",
       "      <td>South Africa</td>\n",
       "      <td>Pretoria</td>\n",
       "    </tr>\n",
       "  </tbody>\n",
       "</table>\n",
       "</div>"
      ],
      "text/plain": [
       "         country    capital\n",
       "BR        Brazil   Brasilia\n",
       "RU        Russia     Moscow\n",
       "IN         India  New Delhi\n",
       "CH         China    Beijing\n",
       "SA  South Africa   Pretoria"
      ]
     },
     "execution_count": 32,
     "metadata": {},
     "output_type": "execute_result"
    }
   ],
   "source": [
    "new_brics.iloc[:, [0, 1]]"
   ]
  },
  {
   "cell_type": "markdown",
   "id": "8503d10a-2541-4def-9d40-5d1881750503",
   "metadata": {},
   "source": [
    "## Filtering Pandas DataFrame\n",
    "### 3 steps: Select the area column, Do comparison on area column, Use result to select countries"
   ]
  },
  {
   "cell_type": "code",
   "execution_count": 34,
   "id": "9edaed23-ebeb-4873-bb9f-935efdb1d087",
   "metadata": {},
   "outputs": [
    {
     "data": {
      "text/plain": [
       "BR     8.516\n",
       "RU    17.100\n",
       "IN     3.286\n",
       "CH     9.597\n",
       "SA     1.221\n",
       "Name: area, dtype: float64"
      ]
     },
     "execution_count": 34,
     "metadata": {},
     "output_type": "execute_result"
    }
   ],
   "source": [
    "# Select the area column\n",
    "new_brics.loc[:, \"area\"]"
   ]
  },
  {
   "cell_type": "code",
   "execution_count": 35,
   "id": "693726ca-8d12-4621-9082-48a3773ac4e7",
   "metadata": {},
   "outputs": [
    {
     "data": {
      "text/plain": [
       "BR     8.516\n",
       "RU    17.100\n",
       "IN     3.286\n",
       "CH     9.597\n",
       "SA     1.221\n",
       "Name: area, dtype: float64"
      ]
     },
     "execution_count": 35,
     "metadata": {},
     "output_type": "execute_result"
    }
   ],
   "source": [
    "new_brics.iloc[:, 2]"
   ]
  },
  {
   "cell_type": "code",
   "execution_count": 37,
   "id": "4044d827-2394-4ba8-93b6-33dc1d891d40",
   "metadata": {},
   "outputs": [],
   "source": [
    "# Do comparison on the area column\n",
    "is_huge = new_brics[\"area\"]>8\n"
   ]
  },
  {
   "cell_type": "code",
   "execution_count": 38,
   "id": "5033bd85-01f8-44e2-8a79-327b6b7b362a",
   "metadata": {},
   "outputs": [
    {
     "data": {
      "text/plain": [
       "BR     True\n",
       "RU     True\n",
       "IN    False\n",
       "CH     True\n",
       "SA    False\n",
       "Name: area, dtype: bool"
      ]
     },
     "execution_count": 38,
     "metadata": {},
     "output_type": "execute_result"
    }
   ],
   "source": [
    "is_huge"
   ]
  },
  {
   "cell_type": "code",
   "execution_count": 40,
   "id": "45048770-b153-4388-b4ce-f2852c0c4f0d",
   "metadata": {},
   "outputs": [
    {
     "data": {
      "text/html": [
       "<div>\n",
       "<style scoped>\n",
       "    .dataframe tbody tr th:only-of-type {\n",
       "        vertical-align: middle;\n",
       "    }\n",
       "\n",
       "    .dataframe tbody tr th {\n",
       "        vertical-align: top;\n",
       "    }\n",
       "\n",
       "    .dataframe thead th {\n",
       "        text-align: right;\n",
       "    }\n",
       "</style>\n",
       "<table border=\"1\" class=\"dataframe\">\n",
       "  <thead>\n",
       "    <tr style=\"text-align: right;\">\n",
       "      <th></th>\n",
       "      <th>country</th>\n",
       "      <th>capital</th>\n",
       "      <th>area</th>\n",
       "      <th>population</th>\n",
       "      <th>name_length</th>\n",
       "    </tr>\n",
       "  </thead>\n",
       "  <tbody>\n",
       "    <tr>\n",
       "      <th>BR</th>\n",
       "      <td>Brazil</td>\n",
       "      <td>Brasilia</td>\n",
       "      <td>8.516</td>\n",
       "      <td>200.4B</td>\n",
       "      <td>6</td>\n",
       "    </tr>\n",
       "    <tr>\n",
       "      <th>RU</th>\n",
       "      <td>Russia</td>\n",
       "      <td>Moscow</td>\n",
       "      <td>17.100</td>\n",
       "      <td>143.5B</td>\n",
       "      <td>6</td>\n",
       "    </tr>\n",
       "    <tr>\n",
       "      <th>CH</th>\n",
       "      <td>China</td>\n",
       "      <td>Beijing</td>\n",
       "      <td>9.597</td>\n",
       "      <td>1357.0B</td>\n",
       "      <td>5</td>\n",
       "    </tr>\n",
       "  </tbody>\n",
       "</table>\n",
       "</div>"
      ],
      "text/plain": [
       "   country   capital    area population  name_length\n",
       "BR  Brazil  Brasilia   8.516     200.4B            6\n",
       "RU  Russia    Moscow  17.100     143.5B            6\n",
       "CH   China   Beijing   9.597    1357.0B            5"
      ]
     },
     "execution_count": 40,
     "metadata": {},
     "output_type": "execute_result"
    }
   ],
   "source": [
    "# Use the result of selected countries\n",
    "new_brics[is_huge]"
   ]
  },
  {
   "cell_type": "code",
   "execution_count": 41,
   "id": "a08d088a-4811-4e70-a2f9-33441c39fc9d",
   "metadata": {},
   "outputs": [
    {
     "data": {
      "text/html": [
       "<div>\n",
       "<style scoped>\n",
       "    .dataframe tbody tr th:only-of-type {\n",
       "        vertical-align: middle;\n",
       "    }\n",
       "\n",
       "    .dataframe tbody tr th {\n",
       "        vertical-align: top;\n",
       "    }\n",
       "\n",
       "    .dataframe thead th {\n",
       "        text-align: right;\n",
       "    }\n",
       "</style>\n",
       "<table border=\"1\" class=\"dataframe\">\n",
       "  <thead>\n",
       "    <tr style=\"text-align: right;\">\n",
       "      <th></th>\n",
       "      <th>country</th>\n",
       "      <th>capital</th>\n",
       "      <th>area</th>\n",
       "      <th>population</th>\n",
       "      <th>name_length</th>\n",
       "    </tr>\n",
       "  </thead>\n",
       "  <tbody>\n",
       "    <tr>\n",
       "      <th>BR</th>\n",
       "      <td>Brazil</td>\n",
       "      <td>Brasilia</td>\n",
       "      <td>8.516</td>\n",
       "      <td>200.4B</td>\n",
       "      <td>6</td>\n",
       "    </tr>\n",
       "    <tr>\n",
       "      <th>RU</th>\n",
       "      <td>Russia</td>\n",
       "      <td>Moscow</td>\n",
       "      <td>17.100</td>\n",
       "      <td>143.5B</td>\n",
       "      <td>6</td>\n",
       "    </tr>\n",
       "    <tr>\n",
       "      <th>CH</th>\n",
       "      <td>China</td>\n",
       "      <td>Beijing</td>\n",
       "      <td>9.597</td>\n",
       "      <td>1357.0B</td>\n",
       "      <td>5</td>\n",
       "    </tr>\n",
       "  </tbody>\n",
       "</table>\n",
       "</div>"
      ],
      "text/plain": [
       "   country   capital    area population  name_length\n",
       "BR  Brazil  Brasilia   8.516     200.4B            6\n",
       "RU  Russia    Moscow  17.100     143.5B            6\n",
       "CH   China   Beijing   9.597    1357.0B            5"
      ]
     },
     "execution_count": 41,
     "metadata": {},
     "output_type": "execute_result"
    }
   ],
   "source": [
    "new_brics[new_brics[\"area\"]>8]"
   ]
  },
  {
   "cell_type": "markdown",
   "id": "b0be51b2-06c2-4716-974b-7d5069549cb2",
   "metadata": {},
   "source": [
    "## Using Boolean Operators"
   ]
  },
  {
   "cell_type": "code",
   "execution_count": 42,
   "id": "abfed776-e6d9-43a3-93ac-afc9cf358ce3",
   "metadata": {},
   "outputs": [],
   "source": [
    "import numpy as np"
   ]
  },
  {
   "cell_type": "code",
   "execution_count": 43,
   "id": "c33b533f-4e35-4f94-a8d2-00caadc4ce68",
   "metadata": {},
   "outputs": [
    {
     "data": {
      "text/plain": [
       "BR     True\n",
       "RU    False\n",
       "IN    False\n",
       "CH     True\n",
       "SA    False\n",
       "Name: area, dtype: bool"
      ]
     },
     "execution_count": 43,
     "metadata": {},
     "output_type": "execute_result"
    }
   ],
   "source": [
    "np.logical_and(new_brics[\"area\"]>8, new_brics[\"area\"]<10)"
   ]
  },
  {
   "cell_type": "code",
   "execution_count": 44,
   "id": "4728016e-2bcc-4957-9714-ce8a87e1e938",
   "metadata": {},
   "outputs": [
    {
     "data": {
      "text/html": [
       "<div>\n",
       "<style scoped>\n",
       "    .dataframe tbody tr th:only-of-type {\n",
       "        vertical-align: middle;\n",
       "    }\n",
       "\n",
       "    .dataframe tbody tr th {\n",
       "        vertical-align: top;\n",
       "    }\n",
       "\n",
       "    .dataframe thead th {\n",
       "        text-align: right;\n",
       "    }\n",
       "</style>\n",
       "<table border=\"1\" class=\"dataframe\">\n",
       "  <thead>\n",
       "    <tr style=\"text-align: right;\">\n",
       "      <th></th>\n",
       "      <th>country</th>\n",
       "      <th>capital</th>\n",
       "      <th>area</th>\n",
       "      <th>population</th>\n",
       "      <th>name_length</th>\n",
       "    </tr>\n",
       "  </thead>\n",
       "  <tbody>\n",
       "    <tr>\n",
       "      <th>BR</th>\n",
       "      <td>Brazil</td>\n",
       "      <td>Brasilia</td>\n",
       "      <td>8.516</td>\n",
       "      <td>200.4B</td>\n",
       "      <td>6</td>\n",
       "    </tr>\n",
       "    <tr>\n",
       "      <th>CH</th>\n",
       "      <td>China</td>\n",
       "      <td>Beijing</td>\n",
       "      <td>9.597</td>\n",
       "      <td>1357.0B</td>\n",
       "      <td>5</td>\n",
       "    </tr>\n",
       "  </tbody>\n",
       "</table>\n",
       "</div>"
      ],
      "text/plain": [
       "   country   capital   area population  name_length\n",
       "BR  Brazil  Brasilia  8.516     200.4B            6\n",
       "CH   China   Beijing  9.597    1357.0B            5"
      ]
     },
     "execution_count": 44,
     "metadata": {},
     "output_type": "execute_result"
    }
   ],
   "source": [
    "new_brics[np.logical_and(new_brics[\"area\"]>8, new_brics[\"area\"]<10)]"
   ]
  },
  {
   "cell_type": "code",
   "execution_count": null,
   "id": "7cebc722-ac1f-451b-820f-e6276d3f72dc",
   "metadata": {},
   "outputs": [],
   "source": []
  }
 ],
 "metadata": {
  "kernelspec": {
   "display_name": "Python 3 (ipykernel)",
   "language": "python",
   "name": "python3"
  },
  "language_info": {
   "codemirror_mode": {
    "name": "ipython",
    "version": 3
   },
   "file_extension": ".py",
   "mimetype": "text/x-python",
   "name": "python",
   "nbconvert_exporter": "python",
   "pygments_lexer": "ipython3",
   "version": "3.9.7"
  }
 },
 "nbformat": 4,
 "nbformat_minor": 5
}
